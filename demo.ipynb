{
 "cells": [
  {
   "cell_type": "markdown",
   "metadata": {},
   "source": [
    "# Load Environment\n",
    "The `.env` file is expected to include a valid OpenAI API key."
   ]
  },
  {
   "cell_type": "code",
   "execution_count": 1,
   "metadata": {},
   "outputs": [
    {
     "data": {
      "text/plain": [
       "True"
      ]
     },
     "execution_count": 1,
     "metadata": {},
     "output_type": "execute_result"
    }
   ],
   "source": [
    "import os\n",
    "from dotenv import load_dotenv, find_dotenv\n",
    "\n",
    "load_dotenv(find_dotenv(), override=True)"
   ]
  },
  {
   "cell_type": "markdown",
   "metadata": {},
   "source": [
    "# Select a Product and Embedding Model\n",
    "This is the product we'll use:"
   ]
  },
  {
   "cell_type": "code",
   "execution_count": 2,
   "metadata": {},
   "outputs": [
    {
     "name": "stdout",
     "output_type": "stream",
     "text": [
      "Streamlight 66118 Stylus Pro LED PenLight with Holster, Black - 100 Lumens\n"
     ]
    }
   ],
   "source": [
    "from CONSTANTS import example_asin\n",
    "import pandas as pd\n",
    "df_meta = pd.read_parquet('metadata.parquet.gz')\n",
    "product_name=df_meta.loc[df_meta['asin'] == example_asin]['title'].values[0]\n",
    "\n",
    "print(product_name)"
   ]
  },
  {
   "cell_type": "markdown",
   "metadata": {},
   "source": [
    "And the embedding model:"
   ]
  },
  {
   "cell_type": "code",
   "execution_count": 3,
   "metadata": {},
   "outputs": [],
   "source": [
    "from CONSTANTS import embed_model\n",
    "from langchain.embeddings import OpenAIEmbeddings\n",
    "langchain_embeddings = OpenAIEmbeddings(model=embed_model)"
   ]
  },
  {
   "cell_type": "markdown",
   "metadata": {},
   "source": [
    "# Establish Astra Connection"
   ]
  },
  {
   "cell_type": "code",
   "execution_count": 4,
   "metadata": {},
   "outputs": [],
   "source": [
    "from cassandra.cluster import Cluster\n",
    "from cassandra.auth import PlainTextAuthProvider\n",
    "\n",
    "cloud_config = {'secure_connect_bundle': os.environ['ASTRA_SECUREBUNDLE_PATH']}\n",
    "auth_provider = PlainTextAuthProvider(os.environ['ASTRA_CLIENT_ID'], os.environ['ASTRA_CLIENT_SECRET'])\n",
    "cluster = Cluster(cloud=cloud_config, auth_provider=auth_provider)\n",
    "session = cluster.connect()"
   ]
  },
  {
   "cell_type": "markdown",
   "metadata": {},
   "source": [
    "# Create a Vector Store"
   ]
  },
  {
   "cell_type": "markdown",
   "metadata": {},
   "source": [
    "Langchain provides a `langchain.vectorstores.Cassandra` obect which, while a convenient wrapper around [CassIO](https://cassio.org/), is currently\n",
    "unable to do metadata filtering. We want to be able to search our store by ASIN (product identifier) and optionally by review rating.\n",
    "\n",
    "In order to interact with the rest of Langchain in this demo, we simply need a function that is able to return a list of `langchain.docstore.document.Document`\n",
    "objects, so [`vectorstore.py`](vectorstore.py) provides a `Cassandra` class that does just that."
   ]
  },
  {
   "cell_type": "code",
   "execution_count": 5,
   "metadata": {},
   "outputs": [],
   "source": [
    "from CONSTANTS import keyspace_name, table_name\n",
    "import vectorstore\n",
    "vstore = vectorstore.Cassandra(langchain_embeddings, session, keyspace_name, table_name)"
   ]
  },
  {
   "cell_type": "markdown",
   "metadata": {},
   "source": [
    "And from here, we can do text similarity searches:"
   ]
  },
  {
   "cell_type": "code",
   "execution_count": 6,
   "metadata": {},
   "outputs": [
    {
     "data": {
      "text/plain": [
       "[Document(page_content='This flashlight is amazing!', metadata={'asin': 'B0015UC17E', 'overall_rating': 5, 'reviewer_name': 'Ruben Guerrios', 'review_time': '11 June 2015'}),\n",
       " Document(page_content='Excellent flashlight', metadata={'asin': 'B0015UC17E', 'overall_rating': 5, 'reviewer_name': 'John E. Salvati', 'review_time': '10 April 2018'}),\n",
       " Document(page_content='Great flashlight', metadata={'asin': 'B0015UC17E', 'overall_rating': 5, 'reviewer_name': 'Libby', 'review_time': '25 February 2018'}),\n",
       " Document(page_content='Great flashlight', metadata={'asin': 'B0015UC17E', 'overall_rating': 5, 'reviewer_name': 'Marcus M. Zeno Sr.', 'review_time': '04 August 2017'}),\n",
       " Document(page_content='Great flashlight', metadata={'asin': 'B0015UC17E', 'overall_rating': 5, 'reviewer_name': 'Robert', 'review_time': '07 November 2014'}),\n",
       " Document(page_content='Great flashlight', metadata={'asin': 'B0015UC17E', 'overall_rating': 5, 'reviewer_name': 'Amazon Customer', 'review_time': '08 February 2018'}),\n",
       " Document(page_content='Great flashlight.', metadata={'asin': 'B0015UC17E', 'overall_rating': 5, 'reviewer_name': 'tippin', 'review_time': '17 May 2015'}),\n",
       " Document(page_content='Great flashlight.', metadata={'asin': 'B0015UC17E', 'overall_rating': 5, 'reviewer_name': 'Big Guy', 'review_time': '17 July 2016'}),\n",
       " Document(page_content='Awesome flashlight', metadata={'asin': 'B0015UC17E', 'overall_rating': 5, 'reviewer_name': 'Brian Daniel O&#039;Donnell', 'review_time': '23 April 2017'}),\n",
       " Document(page_content='great flashlight', metadata={'asin': 'B0015UC17E', 'overall_rating': 5, 'reviewer_name': 'dawn', 'review_time': '02 February 2015'})]"
      ]
     },
     "execution_count": 6,
     "metadata": {},
     "output_type": "execute_result"
    }
   ],
   "source": [
    "from CONSTANTS import example_asin\n",
    "docs=vstore.similarity_search(\"This flashlight is fantastic\", k=100, asin=example_asin, overall_rating=5)\n",
    "docs[0:10]"
   ]
  },
  {
   "cell_type": "markdown",
   "metadata": {},
   "source": [
    "# Create a Chat Agent"
   ]
  },
  {
   "cell_type": "markdown",
   "metadata": {},
   "source": [
    "The Chat Agent will be used to write summaries of reviews and ad copy.\n"
   ]
  },
  {
   "cell_type": "code",
   "execution_count": 7,
   "metadata": {},
   "outputs": [],
   "source": [
    "from langchain.prompts import PromptTemplate\n",
    "from langchain.chat_models import ChatOpenAI\n",
    "from CONSTANTS import chat_model_name\n",
    "\n",
    "chat = ChatOpenAI(model_name=chat_model_name,temperature=0.2)"
   ]
  },
  {
   "cell_type": "markdown",
   "metadata": {},
   "source": [
    "# Create and Run a Summary Chain"
   ]
  },
  {
   "cell_type": "markdown",
   "metadata": {},
   "source": [
    "With our list of 100 documents, we can use `load_summarize_chain` to define a chain that will load the documents, summarize them, and return the\n",
    "result as a summary."
   ]
  },
  {
   "cell_type": "code",
   "execution_count": 8,
   "metadata": {},
   "outputs": [],
   "source": [
    "from langchain.chains.summarize import load_summarize_chain\n",
    "\n",
    "prompt_template_summary = \"\"\"\n",
    "Write a summary of the reviews:\n",
    "\n",
    "{text}\n",
    "\n",
    "The summary should be about ten lines long.\n",
    "\"\"\"\n",
    "PROMPT = PromptTemplate(template=prompt_template_summary, input_variables=[\"text\"])\n",
    "chain = load_summarize_chain(chat, chain_type=\"stuff\", prompt=PROMPT)\n",
    "summary=chain.run(docs)"
   ]
  },
  {
   "cell_type": "markdown",
   "metadata": {},
   "source": [
    "All 100 reviews are thusly summarized:"
   ]
  },
  {
   "cell_type": "code",
   "execution_count": 9,
   "metadata": {},
   "outputs": [
    {
     "name": "stdout",
     "output_type": "stream",
     "text": [
      "('The reviews for this flashlight are overwhelmingly positive. Many customers '\n",
      " 'describe it as amazing, excellent, and great. They praise its brightness and '\n",
      " 'durability, and many mention that it is compact and portable. Some customers '\n",
      " 'even claim that it is the best flashlight they have ever owned. Overall, the '\n",
      " 'flashlight receives high praise for its quality, brightness, and '\n",
      " 'convenience.')\n"
     ]
    }
   ],
   "source": [
    "import pprint\n",
    "pprint.pprint(summary)"
   ]
  },
  {
   "cell_type": "markdown",
   "metadata": {},
   "source": [
    "# Social Media Ad"
   ]
  },
  {
   "cell_type": "markdown",
   "metadata": {},
   "source": [
    "Creating a new prompt, we can run another chain that asks the chat agent to write a social media ad for the product:"
   ]
  },
  {
   "cell_type": "code",
   "execution_count": 10,
   "metadata": {},
   "outputs": [
    {
     "name": "stdout",
     "output_type": "stream",
     "text": [
      "🔦 Get the Best Flashlight Ever! 🔦\n",
      "💡 Bright, Durable, and Compact 💡\n",
      "⭐️ \"Best flashlight I've ever bought.\" - Happy Customer ⭐️\n",
      "Don't miss out, order now! 🛒✨\n"
     ]
    }
   ],
   "source": [
    "prompt_template_fb = \"\"\"\n",
    "Write the copy for a single Facebook ad based on the reviews:\n",
    "\n",
    "{text}\n",
    "\n",
    "As far as text goes, you can have up to 40 characters in your headline, \n",
    "125 characters in your primary text, and 30 characters in your description. \n",
    "The primary text should be a bullet-point style, and include emoji.\n",
    "It description should have a quote from a reviewer.\n",
    "\"\"\"\n",
    "PROMPT = PromptTemplate(template=prompt_template_fb, input_variables=[\"text\"])\n",
    "chain = load_summarize_chain(chat, chain_type=\"stuff\", prompt=PROMPT)\n",
    "fb_copy=chain.run(docs)\n",
    "\n",
    "print(fb_copy)"
   ]
  },
  {
   "cell_type": "markdown",
   "metadata": {},
   "source": [
    "# Send Email"
   ]
  },
  {
   "cell_type": "markdown",
   "metadata": {},
   "source": [
    "If you have Zapier configured, you can send a marketing email with a call to action. The example here will use a single recipient - our goal\n",
    "is not to send email to a large number of people, though we could use other Langchain features to do that."
   ]
  },
  {
   "cell_type": "markdown",
   "metadata": {},
   "source": [
    "Seach our vector store for a compelling review:"
   ]
  },
  {
   "cell_type": "code",
   "execution_count": 11,
   "metadata": {},
   "outputs": [
    {
     "name": "stdout",
     "output_type": "stream",
     "text": [
      "page_content='This little flashlight is amazing! Its compact and is super bright and durable! I will definitely buy another if this one ever gets lost!' metadata={'asin': 'B0015UC17E', 'overall_rating': 5, 'reviewer_name': 'Jesus Ferreira', 'review_time': '03 October 2017'}\n"
     ]
    }
   ],
   "source": [
    "docs=vstore.similarity_search(\"This flashlight is compact and rugged, I would definitely recommend buying one!\", k=1, asin=example_asin, overall_rating=5)\n",
    "emailBaseDocument = docs[0]\n",
    "print(emailBaseDocument)"
   ]
  },
  {
   "cell_type": "markdown",
   "metadata": {},
   "source": [
    "Next, build our prompt. We'll reference the 10-line `summary` from before, and the `emailBaseDocument` we just found:"
   ]
  },
  {
   "cell_type": "code",
   "execution_count": null,
   "metadata": {},
   "outputs": [],
   "source": [
    "import os\n",
    "# You could manually set this here, rather than in the `.env` file.\n",
    "recipientEmail=os.environ['EMAIL_RECIPIENT']\n",
    "\n",
    "fromName=\"Phil\"\n",
    "recipientName=\"George\"\n",
    "\n",
    "reviewerName=emailBaseDocument.metadata[\"reviewer_name\"]\n",
    "review=emailBaseDocument.page_content\n",
    "    \n",
    "prompt_template_email = f\"\"\"\n",
    "The customer {reviewerName} just gave the following review:\n",
    "\n",
    "'{review}'\n",
    "\n",
    "Send a HTML-formatted email to {recipientName} with email address {recipientEmail}, \n",
    "based on the review that {reviewerName} gave, and take into account the overall \n",
    "summary of the review given here:\n",
    "\n",
    "'{summary}'\n",
    "\n",
    "The object of the e-mail is to encourage them to buy the product. Be sure to mention\n",
    "the customer review.\n",
    "\n",
    "The email should be signed with {fromName}.\n",
    "\"\"\"\n",
    "\n",
    "print(prompt_template_email)"
   ]
  },
  {
   "cell_type": "markdown",
   "metadata": {},
   "source": [
    "We now need to set up an LLM agent, for which we will use the ZapierToolkit:"
   ]
  },
  {
   "cell_type": "code",
   "execution_count": 14,
   "metadata": {},
   "outputs": [],
   "source": [
    "# Instantiate agent and send emails \n",
    "from langchain.agents import initialize_agent\n",
    "from langchain.llms import OpenAI\n",
    "from langchain.agents.agent_toolkits import ZapierToolkit\n",
    "from langchain.utilities.zapier import ZapierNLAWrapper\n",
    "\n",
    "zapier = ZapierNLAWrapper()\n",
    "toolkit = ZapierToolkit.from_zapier_nla_wrapper(zapier)\n",
    "\n",
    "agent = initialize_agent(toolkit.get_tools(), OpenAI(temperature=0.2), \n",
    "        agent=\"zero-shot-react-description\", verbose=True)"
   ]
  },
  {
   "cell_type": "markdown",
   "metadata": {},
   "source": [
    "And finally, we will have the Agent do it's thing:"
   ]
  },
  {
   "cell_type": "code",
   "execution_count": null,
   "metadata": {},
   "outputs": [],
   "source": [
    "agent.run(prompt_template_email)"
   ]
  }
 ],
 "metadata": {
  "kernelspec": {
   "display_name": ".venv",
   "language": "python",
   "name": "python3"
  },
  "language_info": {
   "codemirror_mode": {
    "name": "ipython",
    "version": 3
   },
   "file_extension": ".py",
   "mimetype": "text/x-python",
   "name": "python",
   "nbconvert_exporter": "python",
   "pygments_lexer": "ipython3",
   "version": "3.11.4"
  },
  "orig_nbformat": 4
 },
 "nbformat": 4,
 "nbformat_minor": 2
}
