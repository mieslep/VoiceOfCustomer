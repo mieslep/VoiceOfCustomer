{
 "cells": [
  {
   "cell_type": "markdown",
   "metadata": {},
   "source": [
    "# Load Environment\n",
    "The `.env` file is expected to include a valid OpenAI API key."
   ]
  },
  {
   "cell_type": "code",
   "execution_count": 1,
   "metadata": {},
   "outputs": [],
   "source": [
    "import os\n",
    "import openai\n",
    "from dotenv import load_dotenv, find_dotenv\n",
    "\n",
    "load_dotenv(find_dotenv(), override=True)\n",
    "\n",
    "openai.api_key = os.environ['OPENAI_API_KEY']\n",
    "models = openai.Model.list()\n",
    "if (len(models) == 0):\n",
    "    raise Exception(\"Your OpenAI API key does not appear to be valid. Please check it and try again.\")"
   ]
  },
  {
   "cell_type": "markdown",
   "metadata": {},
   "source": [
    "# Select a Product\n",
    "Load and select one of the products from the dataset. This demo references a single product, so no need to create embeddings for other products."
   ]
  },
  {
   "cell_type": "code",
   "execution_count": 2,
   "metadata": {},
   "outputs": [],
   "source": [
    "from CONSTANTS import example_asin\n",
    "import pandas as pd\n",
    "df = pd.read_parquet('reviews.parquet.gz')\n",
    "df_meta = pd.read_parquet('metadata.parquet.gz')\n",
    "\n",
    "df = df.loc[df['asin'] == example_asin].copy()\n",
    "df_meta = df_meta.loc[df_meta['asin'] == example_asin].copy()"
   ]
  },
  {
   "cell_type": "markdown",
   "metadata": {},
   "source": [
    "The title of the product:"
   ]
  },
  {
   "cell_type": "code",
   "execution_count": 3,
   "metadata": {},
   "outputs": [
    {
     "name": "stdout",
     "output_type": "stream",
     "text": [
      "Streamlight 66118 Stylus Pro LED PenLight with Holster, Black - 100 Lumens\n"
     ]
    }
   ],
   "source": [
    "print (df_meta.loc[df_meta['asin'] == example_asin]['title'].values[0])"
   ]
  },
  {
   "cell_type": "markdown",
   "metadata": {},
   "source": [
    "And some of the reviews:"
   ]
  },
  {
   "cell_type": "code",
   "execution_count": 4,
   "metadata": {},
   "outputs": [
    {
     "name": "stdout",
     "output_type": "stream",
     "text": [
      "[\"Totally impressed with this little flashlight.  Small size fits and clips easily into pants pocket. Surprisingly bright beam shines much farther than I expected.  Aluminum housing is very durable, and I've gotten it wet several times with no problems. The light has been used quite a bit and is still using the original batteries.  One hand operation makes it very handy.\"\n",
      " \"Lightweight, intense light, easy to operate with one hand- this would be an incredible tool for law enforcement or an emergency responder. I'm buying a few more immediately I doubt one could ask for a more versatile hand held light. The beam is very intense- might even do well as a self-defense item as it is blinding if shone directly in the eyes. Money well spent!\"\n",
      " '<div id=\"video-block-R14P1E1E7LGJEV\" class=\"a-section a-spacing-small a-spacing-top-mini video-block\"></div><input type=\"hidden\" name=\"\" value=\"https://images-na.ssl-images-amazon.com/images/I/E19J6MdazZS.mp4\" class=\"video-url\"><input type=\"hidden\" name=\"\" value=\"https://images-na.ssl-images-amazon.com/images/I/61CEkYKZonS.png\" class=\"video-slate-img-url\">&nbsp;I remain amazed at the progress in portable lighting technology.  Recent advancements in LED quality and brightness levels surpasses past iterations and as of May 2008 this seems to be the best light in this size and form factor.  The Stylus Pro is an improvement over the thinner but not-as-bright regular Stylus, also a great little light (and reviewed also in the video).  The SP not only has a brighter \"high flux\" LED but its push button switch makes it one hand operable, a big advantage pretty much in all situations.  For these features it is only slightly thicker than the regular Stylus but still very lightweight (only a svelte 1.8 oz).  The output is also electronically controlled meaning its brightness will be more consistent and even through the life of the batteries.  Other features including materials, battery types, and their clips are covered in the video.  Both the Stylus and the Stylus Pro are super quality lights that feature lightweight, small size, and good durability.  In the world of small lights the Stylus Pro is currently reigning supreme.'\n",
      " \"This is a great light for the price. It's the brightest light on the market for a AAA, even brighter than my Maglite and Garrity. Money well spent, well worth the price.\"\n",
      " 'Just runs and runs...great light'\n",
      " 'Only had it overnight, So far so good! Solid product, nice and bright. Perfect for my hiking first aid kit.'\n",
      " 'Carry one in your bag, just in case.'\n",
      " 'FANTASIC light and fits anywhere. Bright and solid construction that you expect from Streamlight! Love their products. I carry this at work at a back up to my Streamlight Strion LED. I trust my ability to see and my life to the brand.'\n",
      " 'Great in the beginning but started to corrode and would work inside. Believe it may have been a bad battery.'\n",
      " 'This thing is sturdy and has held up well with my kiddo!']\n"
     ]
    }
   ],
   "source": [
    "print(df.head(10)['reviewText'].values)"
   ]
  },
  {
   "cell_type": "markdown",
   "metadata": {},
   "source": [
    "# Create Embeddings"
   ]
  },
  {
   "cell_type": "markdown",
   "metadata": {},
   "source": [
    "Load up the Langchain embeddings helper class:"
   ]
  },
  {
   "cell_type": "code",
   "execution_count": 3,
   "metadata": {},
   "outputs": [],
   "source": [
    "from CONSTANTS import embed_model\n",
    "from langchain.embeddings import OpenAIEmbeddings\n",
    "langchain_embeddings = OpenAIEmbeddings(model=embed_model)"
   ]
  },
  {
   "cell_type": "markdown",
   "metadata": {},
   "source": [
    "Pull the text we'll be embedding into a list:"
   ]
  },
  {
   "cell_type": "code",
   "execution_count": 4,
   "metadata": {},
   "outputs": [
    {
     "data": {
      "text/plain": [
       "[\"Totally impressed with this little flashlight.  Small size fits and clips easily into pants pocket. Surprisingly bright beam shines much farther than I expected.  Aluminum housing is very durable, and I've gotten it wet several times with no problems. The light has been used quite a bit and is still using the original batteries.  One hand operation makes it very handy.\",\n",
       " \"Lightweight, intense light, easy to operate with one hand- this would be an incredible tool for law enforcement or an emergency responder. I'm buying a few more immediately I doubt one could ask for a more versatile hand held light. The beam is very intense- might even do well as a self-defense item as it is blinding if shone directly in the eyes. Money well spent!\",\n",
       " '<div id=\"video-block-R14P1E1E7LGJEV\" class=\"a-section a-spacing-small a-spacing-top-mini video-block\"></div><input type=\"hidden\" name=\"\" value=\"https://images-na.ssl-images-amazon.com/images/I/E19J6MdazZS.mp4\" class=\"video-url\"><input type=\"hidden\" name=\"\" value=\"https://images-na.ssl-images-amazon.com/images/I/61CEkYKZonS.png\" class=\"video-slate-img-url\">&nbsp;I remain amazed at the progress in p',\n",
       " \"This is a great light for the price. It's the brightest light on the market for a AAA, even brighter than my Maglite and Garrity. Money well spent, well worth the price.\",\n",
       " 'Just runs and runs...great light',\n",
       " 'Only had it overnight, So far so good! Solid product, nice and bright. Perfect for my hiking first aid kit.',\n",
       " 'Carry one in your bag, just in case.',\n",
       " 'FANTASIC light and fits anywhere. Bright and solid construction that you expect from Streamlight! Love their products. I carry this at work at a back up to my Streamlight Strion LED. I trust my ability to see and my life to the brand.',\n",
       " 'Great in the beginning but started to corrode and would work inside. Believe it may have been a bad battery.',\n",
       " 'This thing is sturdy and has held up well with my kiddo!']"
      ]
     },
     "execution_count": 4,
     "metadata": {},
     "output_type": "execute_result"
    }
   ],
   "source": [
    "embedding_text=df['truncated'].values.tolist()\n",
    "embedding_text[0:10]"
   ]
  },
  {
   "cell_type": "markdown",
   "metadata": {},
   "source": [
    "Finally, call the embedding function. We've wrapped in `aiometer` to keep the rate below the OpenAI API limit, but generate them as quickly as possible."
   ]
  },
  {
   "cell_type": "code",
   "execution_count": 5,
   "metadata": {},
   "outputs": [
    {
     "data": {
      "text/html": [
       "<div>\n",
       "<style scoped>\n",
       "    .dataframe tbody tr th:only-of-type {\n",
       "        vertical-align: middle;\n",
       "    }\n",
       "\n",
       "    .dataframe tbody tr th {\n",
       "        vertical-align: top;\n",
       "    }\n",
       "\n",
       "    .dataframe thead th {\n",
       "        text-align: right;\n",
       "    }\n",
       "</style>\n",
       "<table border=\"1\" class=\"dataframe\">\n",
       "  <thead>\n",
       "    <tr style=\"text-align: right;\">\n",
       "      <th></th>\n",
       "      <th>overall</th>\n",
       "      <th>verified</th>\n",
       "      <th>reviewTime</th>\n",
       "      <th>reviewerID</th>\n",
       "      <th>asin</th>\n",
       "      <th>style</th>\n",
       "      <th>reviewerName</th>\n",
       "      <th>reviewText</th>\n",
       "      <th>summary</th>\n",
       "      <th>unixReviewTime</th>\n",
       "      <th>vote</th>\n",
       "      <th>image</th>\n",
       "      <th>truncated</th>\n",
       "      <th>embeddings</th>\n",
       "    </tr>\n",
       "  </thead>\n",
       "  <tbody>\n",
       "    <tr>\n",
       "      <th>1484623</th>\n",
       "      <td>5.0</td>\n",
       "      <td>False</td>\n",
       "      <td>06 2, 2008</td>\n",
       "      <td>A39XFGZ0ASWT7O</td>\n",
       "      <td>B0015UC17E</td>\n",
       "      <td>{'Color Name:': None, 'Color:': ' Black w/Whit...</td>\n",
       "      <td>Amazon Customer</td>\n",
       "      <td>Totally impressed with this little flashlight....</td>\n",
       "      <td>love my streamlight stylus</td>\n",
       "      <td>1212364800</td>\n",
       "      <td>8</td>\n",
       "      <td>None</td>\n",
       "      <td>Totally impressed with this little flashlight....</td>\n",
       "      <td>[-0.002683741971850395, 0.014071956276893616, ...</td>\n",
       "    </tr>\n",
       "    <tr>\n",
       "      <th>1484624</th>\n",
       "      <td>5.0</td>\n",
       "      <td>True</td>\n",
       "      <td>05 31, 2008</td>\n",
       "      <td>A1UA6TH2XRK9ZX</td>\n",
       "      <td>B0015UC17E</td>\n",
       "      <td>{'Color Name:': None, 'Color:': ' Black w/Whit...</td>\n",
       "      <td>Everyman</td>\n",
       "      <td>Lightweight, intense light, easy to operate wi...</td>\n",
       "      <td>Great light Great price</td>\n",
       "      <td>1212192000</td>\n",
       "      <td>73</td>\n",
       "      <td>None</td>\n",
       "      <td>Lightweight, intense light, easy to operate wi...</td>\n",
       "      <td>[-0.015947110950946808, 0.007599272765219212, ...</td>\n",
       "    </tr>\n",
       "    <tr>\n",
       "      <th>1484625</th>\n",
       "      <td>5.0</td>\n",
       "      <td>True</td>\n",
       "      <td>05 14, 2008</td>\n",
       "      <td>A8XV9SMUW4OT4</td>\n",
       "      <td>B0015UC17E</td>\n",
       "      <td>{'Color Name:': None, 'Color:': ' Black w/Whit...</td>\n",
       "      <td>Happily Married</td>\n",
       "      <td>&lt;div id=\"video-block-R14P1E1E7LGJEV\" class=\"a-...</td>\n",
       "      <td>VIDEO and review for Stylus Pro light</td>\n",
       "      <td>1210723200</td>\n",
       "      <td>803</td>\n",
       "      <td>None</td>\n",
       "      <td>&lt;div id=\"video-block-R14P1E1E7LGJEV\" class=\"a-...</td>\n",
       "      <td>[0.00011079138494096696, -0.013300847262144089...</td>\n",
       "    </tr>\n",
       "    <tr>\n",
       "      <th>1484626</th>\n",
       "      <td>5.0</td>\n",
       "      <td>False</td>\n",
       "      <td>12 13, 2007</td>\n",
       "      <td>A1PY6V6J7K5G84</td>\n",
       "      <td>B0015UC17E</td>\n",
       "      <td>None</td>\n",
       "      <td>grumpy</td>\n",
       "      <td>This is a great light for the price. It's the ...</td>\n",
       "      <td>great light</td>\n",
       "      <td>1197504000</td>\n",
       "      <td>3</td>\n",
       "      <td>None</td>\n",
       "      <td>This is a great light for the price. It's the ...</td>\n",
       "      <td>[0.009861239232122898, -0.00737977446988225, -...</td>\n",
       "    </tr>\n",
       "    <tr>\n",
       "      <th>1484627</th>\n",
       "      <td>5.0</td>\n",
       "      <td>True</td>\n",
       "      <td>05 22, 2018</td>\n",
       "      <td>A1SXP6OD7J3A91</td>\n",
       "      <td>B0015UC17E</td>\n",
       "      <td>{'Color Name:': None, 'Color:': ' Blue w/White...</td>\n",
       "      <td>John A.</td>\n",
       "      <td>Just runs and runs...great light</td>\n",
       "      <td>Fantastic flashlight</td>\n",
       "      <td>1526947200</td>\n",
       "      <td>None</td>\n",
       "      <td>None</td>\n",
       "      <td>Just runs and runs...great light</td>\n",
       "      <td>[-0.011605827137827873, -0.0030300442595034838...</td>\n",
       "    </tr>\n",
       "    <tr>\n",
       "      <th>1484628</th>\n",
       "      <td>5.0</td>\n",
       "      <td>True</td>\n",
       "      <td>05 22, 2018</td>\n",
       "      <td>AYXJ3JUAOBONE</td>\n",
       "      <td>B0015UC17E</td>\n",
       "      <td>{'Color Name:': None, 'Color:': ' Black w/Whit...</td>\n",
       "      <td>Pete Haglund</td>\n",
       "      <td>Only had it overnight, So far so good! Solid p...</td>\n",
       "      <td>So far so good! Solid product</td>\n",
       "      <td>1526947200</td>\n",
       "      <td>None</td>\n",
       "      <td>None</td>\n",
       "      <td>Only had it overnight, So far so good! Solid p...</td>\n",
       "      <td>[0.008355016820132732, 0.01563715934753418, 0....</td>\n",
       "    </tr>\n",
       "    <tr>\n",
       "      <th>1484629</th>\n",
       "      <td>5.0</td>\n",
       "      <td>True</td>\n",
       "      <td>05 21, 2018</td>\n",
       "      <td>A1WLQE5R4ULY6N</td>\n",
       "      <td>B0015UC17E</td>\n",
       "      <td>{'Color Name:': None, 'Color:': ' Black w/Whit...</td>\n",
       "      <td>John Sandstrom</td>\n",
       "      <td>Carry one in your bag, just in case.</td>\n",
       "      <td>Five Stars</td>\n",
       "      <td>1526860800</td>\n",
       "      <td>None</td>\n",
       "      <td>None</td>\n",
       "      <td>Carry one in your bag, just in case.</td>\n",
       "      <td>[0.009391376748681068, 0.003927536774426699, 0...</td>\n",
       "    </tr>\n",
       "    <tr>\n",
       "      <th>1484630</th>\n",
       "      <td>5.0</td>\n",
       "      <td>True</td>\n",
       "      <td>05 21, 2018</td>\n",
       "      <td>A13AVJYZLJDVDR</td>\n",
       "      <td>B0015UC17E</td>\n",
       "      <td>{'Color Name:': None, 'Color:': ' Black w/Whit...</td>\n",
       "      <td>jonathan</td>\n",
       "      <td>FANTASIC light and fits anywhere. Bright and s...</td>\n",
       "      <td>Great light!!</td>\n",
       "      <td>1526860800</td>\n",
       "      <td>None</td>\n",
       "      <td>None</td>\n",
       "      <td>FANTASIC light and fits anywhere. Bright and s...</td>\n",
       "      <td>[0.014649939723312855, -0.006138053722679615, ...</td>\n",
       "    </tr>\n",
       "    <tr>\n",
       "      <th>1484631</th>\n",
       "      <td>2.0</td>\n",
       "      <td>True</td>\n",
       "      <td>05 21, 2018</td>\n",
       "      <td>A2IBKZX5RHO4DO</td>\n",
       "      <td>B0015UC17E</td>\n",
       "      <td>{'Color Name:': None, 'Color:': ' Black w/Whit...</td>\n",
       "      <td>Amazon Customer</td>\n",
       "      <td>Great in the beginning but started to corrode ...</td>\n",
       "      <td>Great in the beginning but started to corrode ...</td>\n",
       "      <td>1526860800</td>\n",
       "      <td>None</td>\n",
       "      <td>None</td>\n",
       "      <td>Great in the beginning but started to corrode ...</td>\n",
       "      <td>[0.002721348311752081, -0.003564865794032812, ...</td>\n",
       "    </tr>\n",
       "    <tr>\n",
       "      <th>1484632</th>\n",
       "      <td>5.0</td>\n",
       "      <td>True</td>\n",
       "      <td>05 20, 2018</td>\n",
       "      <td>A3C7HCJ6XDXO6S</td>\n",
       "      <td>B0015UC17E</td>\n",
       "      <td>{'Color Name:': None, 'Color:': ' Black w/Whit...</td>\n",
       "      <td>Nikki Smith</td>\n",
       "      <td>This thing is sturdy and has held up well with...</td>\n",
       "      <td>Five Stars</td>\n",
       "      <td>1526774400</td>\n",
       "      <td>None</td>\n",
       "      <td>None</td>\n",
       "      <td>This thing is sturdy and has held up well with...</td>\n",
       "      <td>[0.0047048344276845455, 0.00238009262830019, 0...</td>\n",
       "    </tr>\n",
       "  </tbody>\n",
       "</table>\n",
       "</div>"
      ],
      "text/plain": [
       "         overall  verified   reviewTime      reviewerID        asin  \\\n",
       "1484623      5.0     False   06 2, 2008  A39XFGZ0ASWT7O  B0015UC17E   \n",
       "1484624      5.0      True  05 31, 2008  A1UA6TH2XRK9ZX  B0015UC17E   \n",
       "1484625      5.0      True  05 14, 2008   A8XV9SMUW4OT4  B0015UC17E   \n",
       "1484626      5.0     False  12 13, 2007  A1PY6V6J7K5G84  B0015UC17E   \n",
       "1484627      5.0      True  05 22, 2018  A1SXP6OD7J3A91  B0015UC17E   \n",
       "1484628      5.0      True  05 22, 2018   AYXJ3JUAOBONE  B0015UC17E   \n",
       "1484629      5.0      True  05 21, 2018  A1WLQE5R4ULY6N  B0015UC17E   \n",
       "1484630      5.0      True  05 21, 2018  A13AVJYZLJDVDR  B0015UC17E   \n",
       "1484631      2.0      True  05 21, 2018  A2IBKZX5RHO4DO  B0015UC17E   \n",
       "1484632      5.0      True  05 20, 2018  A3C7HCJ6XDXO6S  B0015UC17E   \n",
       "\n",
       "                                                     style     reviewerName  \\\n",
       "1484623  {'Color Name:': None, 'Color:': ' Black w/Whit...  Amazon Customer   \n",
       "1484624  {'Color Name:': None, 'Color:': ' Black w/Whit...         Everyman   \n",
       "1484625  {'Color Name:': None, 'Color:': ' Black w/Whit...  Happily Married   \n",
       "1484626                                               None           grumpy   \n",
       "1484627  {'Color Name:': None, 'Color:': ' Blue w/White...          John A.   \n",
       "1484628  {'Color Name:': None, 'Color:': ' Black w/Whit...     Pete Haglund   \n",
       "1484629  {'Color Name:': None, 'Color:': ' Black w/Whit...   John Sandstrom   \n",
       "1484630  {'Color Name:': None, 'Color:': ' Black w/Whit...         jonathan   \n",
       "1484631  {'Color Name:': None, 'Color:': ' Black w/Whit...  Amazon Customer   \n",
       "1484632  {'Color Name:': None, 'Color:': ' Black w/Whit...      Nikki Smith   \n",
       "\n",
       "                                                reviewText  \\\n",
       "1484623  Totally impressed with this little flashlight....   \n",
       "1484624  Lightweight, intense light, easy to operate wi...   \n",
       "1484625  <div id=\"video-block-R14P1E1E7LGJEV\" class=\"a-...   \n",
       "1484626  This is a great light for the price. It's the ...   \n",
       "1484627                   Just runs and runs...great light   \n",
       "1484628  Only had it overnight, So far so good! Solid p...   \n",
       "1484629               Carry one in your bag, just in case.   \n",
       "1484630  FANTASIC light and fits anywhere. Bright and s...   \n",
       "1484631  Great in the beginning but started to corrode ...   \n",
       "1484632  This thing is sturdy and has held up well with...   \n",
       "\n",
       "                                                   summary  unixReviewTime  \\\n",
       "1484623                         love my streamlight stylus      1212364800   \n",
       "1484624                            Great light Great price      1212192000   \n",
       "1484625              VIDEO and review for Stylus Pro light      1210723200   \n",
       "1484626                                        great light      1197504000   \n",
       "1484627                               Fantastic flashlight      1526947200   \n",
       "1484628                      So far so good! Solid product      1526947200   \n",
       "1484629                                         Five Stars      1526860800   \n",
       "1484630                                      Great light!!      1526860800   \n",
       "1484631  Great in the beginning but started to corrode ...      1526860800   \n",
       "1484632                                         Five Stars      1526774400   \n",
       "\n",
       "         vote image                                          truncated  \\\n",
       "1484623     8  None  Totally impressed with this little flashlight....   \n",
       "1484624    73  None  Lightweight, intense light, easy to operate wi...   \n",
       "1484625   803  None  <div id=\"video-block-R14P1E1E7LGJEV\" class=\"a-...   \n",
       "1484626     3  None  This is a great light for the price. It's the ...   \n",
       "1484627  None  None                   Just runs and runs...great light   \n",
       "1484628  None  None  Only had it overnight, So far so good! Solid p...   \n",
       "1484629  None  None               Carry one in your bag, just in case.   \n",
       "1484630  None  None  FANTASIC light and fits anywhere. Bright and s...   \n",
       "1484631  None  None  Great in the beginning but started to corrode ...   \n",
       "1484632  None  None  This thing is sturdy and has held up well with...   \n",
       "\n",
       "                                                embeddings  \n",
       "1484623  [-0.002683741971850395, 0.014071956276893616, ...  \n",
       "1484624  [-0.015947110950946808, 0.007599272765219212, ...  \n",
       "1484625  [0.00011079138494096696, -0.013300847262144089...  \n",
       "1484626  [0.009861239232122898, -0.00737977446988225, -...  \n",
       "1484627  [-0.011605827137827873, -0.0030300442595034838...  \n",
       "1484628  [0.008355016820132732, 0.01563715934753418, 0....  \n",
       "1484629  [0.009391376748681068, 0.003927536774426699, 0...  \n",
       "1484630  [0.014649939723312855, -0.006138053722679615, ...  \n",
       "1484631  [0.002721348311752081, -0.003564865794032812, ...  \n",
       "1484632  [0.0047048344276845455, 0.00238009262830019, 0...  "
      ]
     },
     "execution_count": 5,
     "metadata": {},
     "output_type": "execute_result"
    }
   ],
   "source": [
    "embed_file = f\"{example_asin}.reviews-embeddings-{embed_model}.parquet.gz\"\n",
    "\n",
    "import aiometer\n",
    "embeddings=list(range(0,len(embedding_text)))\n",
    "\n",
    "async def async_embed(index):\n",
    "    resp = await langchain_embeddings.aembed_query(embedding_text[index])\n",
    "    embeddings[index] = resp\n",
    "\n",
    "await aiometer.run_on_each(\n",
    "    async_embed,\n",
    "    embeddings,\n",
    "    max_per_second=50\n",
    ")        \n",
    "\n",
    "df['embeddings'] = embeddings\n",
    "df.to_parquet(embed_file, compression='gzip')\n",
    "    \n",
    "df.head(10)"
   ]
  },
  {
   "cell_type": "code",
   "execution_count": 13,
   "metadata": {},
   "outputs": [
    {
     "name": "stdout",
     "output_type": "stream",
     "text": [
      "[-0.002683741971850395, 0.014071956276893616, -0.013861337676644325, -0.013650719076395035, -0.004008335527032614, 0.023365503177046776, 0.013440100476145744, -0.04209739342331886, -0.0023924957495182753, -0.02703816443681717, 0.015151376836001873, 0.004156426526606083, -0.02301008254289627, 0.013078099116683006, -0.006371213123202324, 0.01226195227354765, 0.009866165928542614, -0.0040116263553500175, 0.009247473441064358, -0.02123298868536949, -0.01827116496860981, 0.013097845017910004, -0.02685387246310711, -0.008944708853960037, -0.005999339744448662, -0.038306258618831635, 0.021483099088072777, -0.01991662196815014, 0.029460279271006584, -0.01114962249994278, 0.03111889958381653, -0.014019301161170006, -0.047415513545274734, -0.025932416319847107, -0.008187798783183098, 0.006996487267315388, -0.009668710641562939, 0.00706888735294342, 0.01362439151853323, -0.00833918061107397, 0.024050012230873108, 0.005097628571093082, 0.007733652368187904, -0.00046196230687201023, -0.021680554375052452, 0.019008329138159752, 0.01877138391137123, -0.007022814359515905, 0.02216760814189911, 0.014769630506634712, -0.012215879745781422, 0.0015582486521452665, 0.01055067591369152, -0.024879323318600655, -0.010320312343537807, -0.012064496986567974, 0.03491003438830376, -0.003448879811912775, 0.010070202872157097, -0.010024129413068295, -0.015467304736375809, 0.006785868667066097, -0.02216760814189911, 0.01235409826040268, 0.02329968474805355, -0.015072394162416458, -0.011353659443557262, -0.003889862447977066, -0.019455894827842712, 0.015190867707133293, 0.010399294085800648, 0.01753399893641472, 0.02814391255378723, -0.003577225608751178, 0.03730582073330879, -0.003341925097629428, -0.023233866319060326, 0.016823161393404007, 0.02366826683282852, -0.004936373792588711, 0.01012943871319294, 0.0032366157975047827, -0.007411142345517874, 0.012742426246404648, -0.0015187576645985246, 0.02562965266406536, 0.004666518419981003, 0.01837647333741188, -0.057656846940517426, -0.004600700456649065, 0.003794425865635276, 0.01041903905570507, 0.0066213225945830345, 0.014348393306136131, 0.00899078231304884, -0.009866165928542614, 0.004018208011984825, 0.04507238417863846, 0.018205346539616585, -0.024142159149050713, -0.013137335889041424, 0.02476084977388382, -0.007365069817751646, -0.015572614036500454, -0.014822284691035748, -0.022812629118561745, 0.005347738042473793, 0.017573490738868713, 0.01154453307390213, 0.011853878386318684, -0.03833258897066116, 0.004603991284966469, 0.023944703862071037, -0.01396664697676897, -0.018863528966903687, -0.006344885565340519, 0.003830625908449292, -0.03767440468072891, 0.014295738190412521, -0.01740236207842827, 0.008832817897200584, 0.030960936099290848, 0.024721359834074974, 0.003254715818911791, -0.0013352890964597464, 0.00924089178442955, -0.02083807811141014, -0.000649544526822865, 0.048126354813575745, -0.0008836109191179276, 0.021377788856625557, 0.012281698174774647, 0.021930662915110588, -0.02698550932109356, -0.01996927708387375, 0.018389638513326645, -0.022654663771390915, -0.006374503951519728, -0.024300122633576393, 7.070326682878658e-05, -0.0020453042816370726, 0.0179552361369133, -0.015822723507881165, -0.011439223773777485, 0.009872747585177422, 0.03272486850619316, 0.010024129413068295, 0.004120226483792067, -0.0028186694253236055, 0.0014052210608497262, 0.021746370941400528, -0.033383049070835114, 0.024668704718351364, 0.043097835034132004, 0.010840277187526226, 0.020719606429338455, -0.0030720699578523636, 0.023747248575091362, -0.004729046020656824, -0.01761298067867756, -0.008780163712799549, -0.013979810290038586, -0.0025372961536049843, -0.009642383083701134, 0.009168491698801517, 0.013091263361275196, 0.0027528509963303804, -0.0254453606903553, -0.004120226483792067, -0.004972573835402727, 0.006637777201831341, 0.02483983337879181, -0.019548039883375168, 0.01602017879486084, -0.02107502520084381, 0.014229919761419296, 0.006262612994760275, -0.008273362182080746, -0.013347954489290714, 0.0032218066044151783, -0.014466865919530392, -0.007615179289132357, 0.0012472571106627584, -0.0019218948436900973, -0.021548917517066002, -0.005308247171342373, 0.022338736802339554, 0.011649842374026775, 0.008154889568686485, -0.019666513428092003, 0.015164540149271488, 0.02083807811141014, -0.024563396349549294, -0.004485518205910921, -0.6415442824363708, -0.008845982141792774, -0.007022814359515905, -0.020877569913864136, -0.00617704913020134, 0.010952168144285679, 0.010465112514793873, 0.004949537571519613, 0.0002807562705129385, 0.0038536624051630497, 0.007233432959765196, 0.005545193329453468, -0.024984633550047874, -0.019390076398849487, -0.018573928624391556, -0.01863974705338478, 0.005518865771591663, -0.005114083178341389, 0.00903027318418026, -0.002631087088957429, 0.0023497138172388077, 0.01827116496860981, -0.0009469610522501171, -0.018126364797353745, 0.0006865673349238932, -0.0037417712155729532, 0.008701181039214134, -0.03585781902074814, -0.00833918061107397, 0.005202937871217728, -0.015125049278140068, 0.033672649413347244, -0.007733652368187904, 0.012334352359175682, 0.04902148246765137, -0.039438337087631226, 0.013308463618159294, 0.01630977913737297, 0.003926062490791082, 0.023286519572138786, -0.04022815451025963, -0.014466865919530392, -0.01231460738927126, -0.03762175142765045, -0.028301876038312912, -0.005436592735350132, 0.01842912845313549, -0.004330845084041357, 0.023760411888360977, -0.012841153889894485, 0.0135322455316782, 0.0005343624507077038, -0.0047849914990365505, -0.018968839198350906, -0.01149187795817852, -0.019587531685829163, 0.03140849992632866, 0.0015812850324437022, 0.003058906178921461, 0.0014842030359432101, -0.02118033356964588, 0.002621214371174574, -0.0053872293792665005, -0.04238699749112129, -0.023786740377545357, 0.04939006641507149, -0.038490552455186844, -0.018626583740115166, 0.02491881512105465, -0.005795302800834179, -0.001298266346566379, -0.0006232172017917037, -0.018468620255589485, 0.00589732127264142, 0.011406314559280872, 0.005910485051572323, 0.02272048220038414, 0.008365508168935776, 0.01030056644231081, -0.0040116263553500175, 0.029118023812770844, -0.011551114730536938, 0.0017869672738015652, -0.011057477444410324, 0.024050012230873108, 0.015612104907631874, 0.01272268034517765, -0.02788063883781433, 0.004571082070469856, 0.017336545512080193, 0.020140405744314194, -0.010136020369827747, -0.0111891133710742, -0.02669590897858143, -0.011064059101045132, 0.031092572957277298, -0.02515576034784317, 0.02528739720582962, 0.028670458123087883, -0.014243084006011486, -0.016717853024601936, -0.003557479940354824, 0.013242645189166069, -0.015770068392157555, 0.01404562871903181, -0.005870993714779615, 0.02439226768910885, -0.01064282190054655, -0.0006228058482520282, -0.02727510966360569, 0.01037954818457365, 0.011524787172675133, -0.007542779203504324, -0.004508554469794035, -0.02372092194855213, -0.026485290378332138, 0.02795962058007717, 0.008200962096452713, 0.04246597737073898, -0.02319437451660633, 0.028407186269760132, -0.004413118120282888, -0.00470600975677371, 0.001885694800876081, 0.004218954127281904, -0.004367045126855373, 0.011129877530038357, -0.011083804070949554, -0.010491440072655678, -0.01170249655842781, 0.005321410950273275, 0.0015393259236589074, 0.00621654000133276, -0.00918823666870594, -0.007786307018250227, 0.0270644910633564, -0.013979810290038586, -0.026064053177833557, 0.023497138172388077, -0.019745495170354843, -0.014019301161170006, 0.015414649620652199, -0.012103988789021969, -0.019403239712119102, -0.007983761839568615, -0.03543658182024956, -0.007871870882809162, 0.0032415520399808884, -0.005492538679391146, -0.01649406924843788, 0.012571298517286777, -0.024405431002378464, -0.025879761204123497, 0.021654225885868073, 0.00876699946820736, -0.009688456542789936, -0.012656861916184425, 0.012966208159923553, 0.0036430438049137592, -0.007615179289132357, -0.003399515990167856, 0.04138655588030815, -0.022917937487363815, 0.002690323628485203, -0.00901710893958807, 0.006358049344271421, 0.021456770598888397, 0.030013151466846466, -0.0008284880314022303, -0.05025886744260788, 0.015770068392157555, -0.003399515990167856, -0.00047759414883330464, 0.010241329669952393, -0.03172442689538002, 0.012571298517286777, -0.015072394162416458, -0.016243960708379745, -0.00924089178442955, 0.0036627892404794693, 0.014269410632550716, -0.00644690403714776, -0.022075463086366653, 0.03735847771167755, 0.02476084977388382, 0.015519958920776844, 0.006308685522526503, 0.017494508996605873, -0.016994290053844452, 0.017073271796107292, -0.00219174986705184, 0.004679682198911905, -0.0014554074732586741, -0.009622638113796711, -0.028407186269760132, 0.004001753870397806, 0.012406752444803715, 0.0030605518259108067, 0.02444492280483246, 0.034857381135225296, 0.007055723574012518, -0.02298375591635704, 0.01586221344769001, -0.00826019886881113, 0.009662128984928131, -0.03596312925219536, 0.005522156599909067, -0.016941634938120842, 0.030987262725830078, 0.02301008254289627, 0.0048113190568983555, -0.020193058997392654, -0.017942072823643684, -0.010853440500795841, 0.003830625908449292, 0.015467304736375809, 0.008674854412674904, 0.01869240216910839, 0.0009560110629536211, -0.021009206771850586, 0.004844228271394968, 0.030092135071754456, -0.0005648034275509417, -0.020745933055877686, 0.0010530931176617742, -0.009352782741189003, 0.017033779993653297, 0.00017770945851225406, -0.002158840885385871, -0.022944265976548195, -0.014071956276893616, 0.010761294513940811, 0.015691086649894714, 0.01790258288383484, -0.00011240534513490275, 0.019074147567152977, 0.02748572826385498, -0.02793329395353794, 0.030539698898792267, 0.02727510966360569, 0.0201009139418602, 0.019153129309415817, 0.015875378623604774, 0.0005343624507077038, 0.0039655533619225025, 0.02096971496939659, 0.034067559987306595, -0.00438349973410368, 0.02046949602663517, 0.004488809034228325, -0.007634924724698067, 0.011867042630910873, 0.011208859272301197, 0.0029667606577277184, -0.004245281219482422, -0.014414211735129356, 0.01885036565363407, 0.0023908503353595734, 0.020614296197891235, 0.019284766167402267, -0.0229047741740942, 0.03288283199071884, 0.021575244143605232, -0.0011403022799640894, 0.011011403985321522, -0.004712591413408518, 0.01018209382891655, -0.029644569382071495, -0.0223782267421484, 0.0004845873627346009, 0.015822723507881165, 0.002473123138770461, 0.010458530858159065, 0.005097628571093082, 0.016349269077181816, 0.00818121712654829, 0.02353662997484207, 0.01856076531112194, 0.005219392478466034, -0.013900828547775745, -0.02507677860558033, -0.02714347466826439, 0.003312306711450219, 0.01811320148408413, -0.009741110727190971, -0.008483980782330036, -0.019548039883375168, 0.0014965439913794398, 0.004143263213336468, 0.017178580164909363, -0.018968839198350906, 0.013940319418907166, -0.0015269849682226777, 0.011175950057804585, 0.015019739978015423, -0.00695699593052268, 0.024300122633576393, -0.008661690168082714, 0.024563396349549294, -0.010623075999319553, -0.007569106295704842, -0.029249660670757294, -0.042492303997278214, -0.01879771053791046, 0.023997358977794647, -0.00574593897908926, -0.00011867865396197885, -0.026143034920096397, 0.006943832617253065, 0.005551774986088276, -0.005327992606908083, -0.026327326893806458, 0.012999117374420166, -0.005541902035474777, 0.025063615292310715, 0.01366388238966465, -0.0028976514004170895, -0.00958314724266529, 0.01811320148408413, -0.009135582484304905, -0.01856076531112194, -0.0032399066258221865, 0.0009313291520811617, 0.0049001737497746944, 0.07455898821353912, 0.008878891356289387, -0.0012414980446919799, 0.03662130981683731, -0.008786745369434357, -0.01615181565284729, -0.014598502777516842, 0.005012064706534147, 0.028354531154036522, -0.008003507740795612, 0.008174634538590908, -0.004880428314208984, 0.0003317654482088983, -0.012479152530431747, 0.010688894428312778, -0.0017754491418600082, 0.005423429422080517, -0.015164540149271488, 0.026116708293557167, -0.019311094656586647, 0.012505480088293552, 0.014993412420153618, 0.03167177364230156, 0.0053609018214046955, 0.016586216166615486, -0.014795957133173943, 0.015901705250144005, 0.0007721311412751675, 0.010958749800920486, 0.008773582056164742, 0.03248792141675949, -0.026143034920096397, 0.0014471802860498428, 0.019087310880422592, -0.007964015938341618, 0.0032777520827949047, -0.014453702606260777, -0.019416403025388718, 0.008141725324094296, 0.019534876570105553, 0.03730582073330879, 0.012979372404515743, 0.017942072823643684, -0.015072394162416458, 0.0027610782999545336, -0.010748131200671196, 0.0035508982837200165, 0.016994290053844452, -0.010280821472406387, -0.0011666296049952507, 0.02473452314734459, 0.0025636234786361456, -0.000532716978341341, -0.002033785916864872, 0.00685826875269413, 0.03804298862814903, -0.007147869095206261, 0.0034126797690987587, -0.008984200656414032, -0.02764369361102581, 0.011287841014564037, -0.017810435965657234, 0.009129000827670097, -0.005068010184913874, -0.024010522291064262, -0.04228168725967407, -0.004913337528705597, 0.0029173968359827995, -0.026590600609779358, -0.026893364265561104, -0.008997363969683647, 0.014980249106884003, -0.04120226576924324, -0.0012406752211973071, 0.013848173432052135, 0.0034357160329818726, -0.0017902582185342908, -0.0026936146896332502, 0.011748569086194038, 0.020614296197891235, 0.018231673166155815, 0.0032102884724736214, -0.006812195759266615, -0.004093899391591549, 0.015217194333672523, 0.04451951012015343, 0.02332601137459278, -0.02688020095229149, 0.0026639963034540415, -0.006140849087387323, 0.02343132160604, 0.014585338532924652, 0.03767440468072891, -0.01617814227938652, -0.009036854840815067, 0.005953266751021147, -0.00391289871186018, 0.05586658790707588, 0.010458530858159065, 0.016612542793154716, 0.023602448403835297, -0.020482659339904785, -0.009063182398676872, -0.007101796567440033, -0.00901710893958807, 0.01840280182659626, 0.00668714102357626, 0.015256686136126518, -0.013130754232406616, 0.001680835266597569, 0.006374503951519728, -0.01367704663425684, 0.0041268086060881615, -0.00039264740189537406, -0.0046961368061602116, 0.014243084006011486, -0.03169810026884079, 0.006792450323700905, 0.0023151591885834932, -0.024207977578043938, -0.03572618216276169, -0.0356471985578537, 0.029460279271006584, 0.029275987297296524, -0.01782359927892685, 0.014809121377766132, 0.03159279376268387, -0.0039655533619225025, -0.028301876038312912, 0.006644358858466148, 0.010320312343537807, 0.013637554831802845, -0.02256251871585846, -0.014440538361668587, -0.0010407521622255445, -0.020219387486577034, -0.028881076723337173, 0.0011016341159120202, -0.01885036565363407, -0.009681873954832554, -0.014216756448149681, -0.005755811929702759, 0.0025257777888327837, 0.015151376836001873, -0.03667396679520607, -0.014519521035254002, -0.04602016508579254, 0.012874063104391098, 0.00015045655891299248, 0.013163663446903229, -0.009168491698801517, 0.004034662619233131, -0.02677489072084427, -0.01625712402164936, -0.004317681770771742, -0.019692840054631233, 0.009754274971783161, 0.004176171962171793, 0.024128993973135948, -0.001427434734068811, 0.02269415557384491, 0.005969721358269453, 0.010958749800920486, 0.03238261118531227, -0.01132075022906065, 0.001933413092046976, -0.008385253138840199, -0.00470600975677371, -0.015770068392157555, 0.026524782180786133, -0.011781478300690651, 0.013387445360422134, -0.01871872879564762, -0.013328209519386292, -0.003025997197255492, 0.001350098173134029, -0.018863528966903687, -0.011597187258303165, -0.006209958344697952, -0.028486168012022972, -0.00031592792947776616, -0.03248792141675949, 0.005844666622579098, -0.004251863341778517, -0.01667836122214794, -0.012406752444803715, 0.023049574345350266, 0.019692840054631233, 0.012584461830556393, -0.009306710213422775, 0.013196572661399841, -0.016033342108130455, 0.004712591413408518, 0.024326449260115623, 0.018363310024142265, 0.007687579374760389, -0.022114954888820648, -0.03598945587873459, 0.0023316137958317995, 0.00945151038467884, 0.01774461753666401, -0.007220269180834293, 0.0028285421431064606, -0.02656427212059498, -0.006825359538197517, 0.0016002078773453832, -0.017994727939367294, 0.0008523471769876778, 0.015190867707133293, -0.013861337676644325, 0.0001562156539876014, -0.006124394480139017, -0.03151381015777588, -0.03693724051117897, 0.005775557365268469, 0.004673100542277098, 0.0002863096888177097, 0.012426498346030712, 0.006950414273887873, -0.009129000827670097, 0.004824482835829258, -0.0023776867892593145, 0.010971913114190102, -0.009036854840815067, 0.01179464254528284, 0.019179457798600197, -0.002784114796668291, -0.038648515939712524, -0.019232112914323807, 0.001984422327950597, -0.008319435641169548, 0.005673538893461227, 0.007075469009578228, -0.004327554255723953, -0.0062955222092568874, 0.0182185098528862, 0.0038734078407287598, 0.015322503633797169, -0.012163224630057812, 0.0022838956210762262, 0.03656865656375885, 0.014493193477392197, -0.023497138172388077, -0.021351462230086327, -0.020245714113116264, -0.0006915036938153207, -0.013183408416807652, 0.02235190011560917, -0.00995831098407507, -0.01375602837651968, -0.02481350488960743, 0.012031588703393936, 0.0054958295077085495, 0.005512284114956856, 0.017836764454841614, 0.01328213606029749, 0.0009115836583077908, -0.017376035451889038, -0.002083149738609791, -0.006239576265215874, -0.002805505646392703, 0.029934169724583626, -0.01341377291828394, -0.0004397486336529255, 0.011347077786922455, 0.006012503057718277, 0.002274022903293371, -0.008839399553835392, 0.01975865848362446, 0.02322070300579071, -0.0011740342015400529, -0.005189774092286825, -0.0006425513420253992, 0.01882403902709484, -0.00931987352669239, -0.008075907826423645, -0.020430006086826324, -0.003577225608751178, 0.005301665514707565, 0.02541903406381607, 0.015059230849146843, 0.012182970531284809, 0.005732775200158358, -0.04170248657464981, -0.0048310644924640656, 0.004511845763772726, -0.014756466262042522, -0.014572175219655037, 0.015980686992406845, -0.01251206174492836, -0.005107501521706581, -0.008069325238466263, 0.02060113288462162, -0.002943724161013961, 0.004274899605661631, -0.006664104759693146, 0.024352777749300003, 0.00991882011294365, -0.024326449260115623, -0.009286964312195778, 0.021641062572598457, 0.011537950485944748, -0.019179457798600197, 0.0074835424311459064, 0.029407624155282974, -0.04996926710009575, 0.017678799107670784, -0.015572614036500454, -0.028565149754285812, -0.01975865848362446, -0.014572175219655037, 0.009142164140939713, 0.017376035451889038, 0.0026245054323226213, -0.013012281619012356, 0.005308247171342373, 0.0006491331732831895, 0.0019103765953332186, -0.019653350114822388, 0.009043436497449875, -0.013150499202311039, 0.044229909777641296, 0.03172442689538002, -0.006420576944947243, -0.014756466262042522, 0.01350591890513897, -0.0064863949082791805, -0.011169368401169777, -0.01162351481616497, -0.023418156430125237, -0.020640624687075615, -0.0055846842005848885, 0.008464235812425613, -0.025274233892560005, -0.0019613858312368393, 0.02709081955254078, -0.001534389448352158, 0.013979810290038586, -0.02497146837413311, 0.030250098556280136, 0.0020847951527684927, -0.012670026160776615, 0.0012052978854626417, -0.0015261622611433268, -0.01882403902709484, 0.003353443229570985, -0.011669587343931198, -0.0005072124185971916, -0.01354540977627039, -0.008095652796328068, 0.012446243315935135, 0.02819656766951084, -0.015269849449396133, -0.02314171940088272, -0.0019910039845854044, -0.011860460974276066, -0.021943826228380203, -0.008029834367334843, -0.029433950781822205, 0.006078321486711502, -0.002150613581761718, 0.016296615824103355, -0.0011756797321140766, 0.04425623640418053, 0.013347954489290714, 0.0026508327573537827, -0.0014809120912104845, -0.002675514668226242, 0.005439884029328823, -0.0034324252046644688, -0.015796396881341934, -0.02028520591557026, -0.03577883541584015, -0.018126364797353745, 0.009569982998073101, -0.00453488202765584, -0.009247473441064358, 0.012387007474899292, -0.012577880173921585, -0.018284328281879425, 0.0009831611532717943, 0.01179464254528284, 0.03741113096475601, 0.012801663018763065, -0.02054847776889801, -0.025721797719597816, -0.02039051428437233, 0.0018346855649724603, 0.02669590897858143, -0.010688894428312778, -0.008121980354189873, 0.006983323488384485, 0.015072394162416458, 0.007648088503628969, -0.039201389998197556, -0.014374719932675362, 0.0013319981517270207, -0.016902143135666847, -0.015256686136126518, -0.0004290531505830586, -0.014256247319281101, 0.039122406393289566, 0.01289380807429552, -0.030223770067095757, 0.0019070857670158148, 0.013387445360422134, -0.01665203459560871, -0.0012151707196608186, 0.012189552187919617, -0.017231235280632973, 0.003866826184093952, -0.026340490207076073, -0.003633171087130904, -0.029670897871255875, -0.003025997197255492, -0.011709078215062618, -0.023615611717104912, -0.04059673845767975, 0.01898200251162052, 0.013229481875896454, -0.016704687848687172, -0.010728385299444199, 0.008233871310949326, 0.009668710641562939, 0.012623952701687813, -0.010728385299444199, 0.012979372404515743, -0.03154013678431511, 0.013137335889041424, 0.010201838798820972, -0.012637116946280003, -0.0275910384953022, -0.01047169417142868, 0.03280384838581085, 0.0028795513790100813, 0.013782355934381485, 0.232101708650589, 0.003587098326534033, 0.01753399893641472, 0.038622189313173294, 0.01153136882930994, 0.024273796007037163, 0.01665203459560871, -0.03154013678431511, 0.00517661077901721, -0.014532684348523617, 0.003442297922447324, -0.005183192435652018, -0.02272048220038414, -0.007470379117876291, 0.012011842802166939, 0.007121542003005743, -0.048336971551179886, 0.005091046914458275, -0.020693277940154076, 0.0038865716196596622, -0.0024007230531424284, 0.0032415520399808884, -0.008023252710700035, -0.0037187349516898394, 0.02767002023756504, -0.007753397803753614, -0.016717853024601936, 0.008174634538590908, 0.031171554699540138, 0.004169590305536985, -0.00224769557826221, -0.03217199444770813, 0.02727510966360569, 0.004301227163523436, -0.0011962478747591376, -0.0005035101203247905, 0.015138212591409683, -0.01238042488694191, 0.00054793746676296, 0.011050895787775517, 0.005091046914458275, 0.012459407560527325, 0.006022376008331776, -0.007753397803753614, -0.001602675998583436, 0.019008329138159752, -0.009267219342291355, 0.010846858844161034, -0.00689775962382555, 0.01609916053712368, -0.0001975577906705439, -0.029591914266347885, 0.008003507740795612, 0.011393150314688683, 0.0005985352909192443, -0.02272048220038414, 0.0007219446706585586, -0.017599817365407944, 0.009662128984928131, -0.02698550932109356, -0.005976303014904261, 0.009523910470306873, -0.002492868807166815, 0.04941639304161072, -0.03525229170918465, 0.04236066713929176, -0.007845543324947357, 0.00436375429853797, 0.009194819256663322, -0.015230358578264713, -0.013637554831802845, -0.0068187774159014225, -0.024879323318600655, 0.0163361057639122, -0.025537507608532906, -0.009168491698801517, 0.023878885433077812, 0.012847735546529293, 0.004511845763772726, 0.014506356790661812, 0.012656861916184425, -0.00812856201082468, 0.001192956930026412, -0.003791135037317872, -0.0018988584633916616, -0.028486168012022972, 0.0023513594642281532, -0.012242207303643227, 0.015375158749520779, -0.006351467687636614, -0.0014183847233653069, 0.004666518419981003, -0.005805175751447678, -0.0020732770208269358, 0.01014260295778513, 0.003870117012411356, -0.020324695855379105, 0.02433961257338524, -0.00829968973994255, 0.015717413276433945, -0.009563401341438293, -0.024326449260115623, 0.018231673166155815, -0.008569545112550259, -0.01903465762734413, 0.01596752367913723, -0.014585338532924652, 0.057393573224544525, 0.00412351731210947, -0.02541903406381607, 0.028854750096797943, -0.01769196428358555, -0.0024270503781735897, -0.007029396016150713, 0.013196572661399841, -0.018600257113575935, 0.0034949525725096464, -0.002491223393008113, 0.02118033356964588, -0.029118023812770844, 0.019258439540863037, -0.007885034196078777, 0.005288501735776663, -0.005522156599909067, 0.007674415595829487, -0.014716975390911102, -0.042650267481803894, 0.02685387246310711, -0.0033369886223226786, -0.013808682560920715, 0.011926279403269291, 0.005416847299784422, 0.029012713581323624, -0.006443613208830357, -0.0045414636842906475, -0.00885914545506239, -0.029776206240057945, -0.00576568441465497, 0.009872747585177422, 0.003616716479882598, 0.0021621317137032747, -0.00997147522866726, 0.02581394463777542, 0.024142159149050713, 0.009563401341438293, -0.01861342042684555, 0.005232556257396936, -0.015414649620652199, 0.016085997223854065, -0.008378671482205391, -0.0073058330453932285, 0.001163338776677847, -0.021970154717564583, -0.012018424458801746, 0.023957867175340652, -0.01367704663425684, -0.020377350971102715, -0.03559454530477524, -0.011906533502042294, -0.011649842374026775, -0.014019301161170006, -0.012465989217162132, 0.022970592603087425, -0.007852124981582165, -0.014690647833049297, 0.005999339744448662, -0.16638870537281036, 0.038411568850278854, 0.010577003471553326, -0.012781917117536068, -0.0037286076694726944, -0.005956557579338551, 0.018758220598101616, 0.0035805164370685816, -0.014427375048398972, -0.006618031766265631, -0.014809121377766132, 0.017007453367114067, -0.011748569086194038, 0.00034184387186542153, 0.005327992606908083, -0.019218947738409042, 0.005973012186586857, -0.011268096044659615, 0.038253605365753174, -0.008753836154937744, 0.02329968474805355, 0.0007523856475017965, 0.05044315755367279, -0.006121103651821613, 0.0024105957709252834, -0.00880649033933878, -0.0003729019081220031, 0.002326677553355694, 0.01008994784206152, -0.02007458731532097, 0.016941634938120842, -0.04057041183114052, 0.01383501011878252, -0.009392273612320423, 0.0455462746322155, -0.019508549943566322, 0.021009206771850586, 0.012248788960278034, -0.004758664406836033, 0.03701622039079666, 0.0013525664107874036, -0.00022254818759392947, -0.0005792012088932097, -0.012847735546529293, -0.013124172575771809, 0.0452830009162426, 0.0068648504093289375, 0.004742209799587727, 8.89575676410459e-05, -0.0012546617072075605, 0.03132952004671097, -0.04583587497472763, 0.0067365048453211784, 0.0003019415307790041, 0.00010839453898370266, 0.005775557365268469, -0.004429572727531195, 0.012880644761025906, 0.0035311526153236628, -0.007417724467813969, -0.005976303014904261, -0.016744179651141167, -0.019798150286078453, -0.012308024801313877, 0.005018646828830242, -0.01978498511016369, 0.0010860022157430649, 0.011643259786069393, -0.0012398525141179562, 0.009082927368581295, -0.02772267535328865, -0.01609916053712368, -0.02216760814189911, -0.01409828383475542, 0.021970154717564583, -0.004294645041227341, -0.015138212591409683, -0.02431328594684601, 0.023260192945599556, 0.01673101633787155, 0.0008264312637038529, 0.04075470194220543, -0.020561642944812775, 0.0165993794798851, -0.006206667050719261, 0.018942510709166527, -0.021496262401342392, 0.012972789816558361, -0.02348397485911846, 0.002960178768262267, 0.02719612792134285, -0.02455023117363453, -0.011577442288398743, 0.0026343781501054764, 0.003850371576845646, 0.02351030334830284, 0.028881076723337173, -0.015493631362915039, 0.0203641876578331, -0.014164101332426071, 0.00689775962382555, 0.019337421283125877, -0.016967961564660072, 0.03606843575835228, -0.0013657300733029842, 0.019482221454381943, 0.020877569913864136, -0.0128543172031641, 0.016823161393404007, -0.0013064935337752104, -0.02269415557384491, 0.01832382008433342, 0.014756466262042522, 0.009563401341438293, -0.014374719932675362, 0.034725744277238846, -0.006058576051145792, -0.029776206240057945, 0.024194812402129173, -0.02353662997484207, 0.03146115690469742, -0.028986386954784393, -0.007766561582684517, -0.002168713603168726, -0.016691524535417557, -0.03196137398481369, -0.1020447164773941, -0.025221578776836395, 0.007463796995580196, 0.004673100542277098, -0.004294645041227341, -0.003527861787006259, -0.00461386376991868, 0.009010527282953262, 0.003722025780007243, 0.03956997022032738, 0.023260192945599556, -0.002608050825074315, -0.01400613784790039, 0.017836764454841614, 0.008911799639463425, -0.016704687848687172, 0.015256686136126518, -0.013473009690642357, -0.030197443440556526, 0.024879323318600655, 0.004972573835402727, -0.000303175620501861, -0.03217199444770813, -0.01580956019461155, -0.0222465917468071, -0.003804298583418131, -0.015717413276433945, 0.022944265976548195, 0.02774900197982788, 0.007457215338945389, -0.003057260764762759, 0.016994290053844452, -0.0002501096168998629, -0.019863968715071678, 0.0002743801160249859, 0.005824921187013388, -0.0039852992631495, 0.004330845084041357, 0.029565587639808655, -0.05099603161215782, -0.017494508996605873, -0.010136020369827747, -0.003623298369348049, -0.028117584064602852, 0.002186813624575734, 0.008490562438964844, 0.014466865919530392, 0.010544094257056713, 0.017731454223394394, -0.02306273765861988, -0.025274233892560005, 0.012275115586817265, -0.019850803539156914, -0.014466865919530392, 0.02012724056839943, 0.004903464578092098, 0.0009979702299460769, 0.010721803642809391, -0.011274677701294422, -0.0064863949082791805, 0.00897761806845665, -0.017942072823643684, -0.01652039773762226, 0.02345764823257923, 0.022338736802339554, -0.00839183572679758, -0.00906976405531168, -0.019850803539156914, -0.019113639369606972, -0.038121968507766724, 0.00275778747163713, 0.016270287334918976, -0.029644569382071495, 0.016691524535417557, -0.0165993794798851, -0.00876699946820736, -0.021430443972349167, -0.019574366509914398, -0.011439223773777485, -0.006591704208403826, -0.0198376402258873, -0.002275668317452073, -0.0017754491418600082, -0.018916184082627296, -0.005262174177914858, 0.011906533502042294, 0.014256247319281101, 0.0028268967289477587, 0.024181649088859558, -0.03562087193131447, 0.010425621643662453, 0.0037746804300695658, 0.006012503057718277, -0.010596749372780323, -0.028881076723337173, 0.026946019381284714, -0.007075469009578228, 0.01272268034517765, 0.01771829091012478, 0.00021987431682646275, -0.01345326378941536, -0.038253605365753174, -0.056919679045677185, 0.029776206240057945, -0.014519521035254002, -0.024194812402129173, -0.010965331457555294, -0.0007458038162440062, 0.003879989730194211, -0.004959410056471825, 0.013466427102684975, -0.026287835091352463, 0.00312801543623209, -0.01617814227938652, -0.021298807114362717, -0.0242606308311224, -0.01816585473716259, -0.028117584064602852, -0.005831502843648195, 0.0008243744377978146, 0.004192626569420099, 0.015151376836001873, -0.0038734078407287598, -0.0031510519329458475, -0.004281481262296438, 0.01866607367992401, -0.03356734290719032, 0.01409828383475542, -0.016823161393404007, -0.00783896166831255, -0.010386130772531033, -0.009346201084554195, -0.012485734187066555, -0.0048935916274785995, -0.02343132160604, 0.022654663771390915, -0.015717413276433945, -0.016665197908878326, 0.008510308340191841, 0.002963469596579671, 0.0006516013527289033, -0.0551820769906044, -0.0008132676011882722, -0.004350590519607067, -0.0033402794506400824, -0.0015771713806316257, 0.009543655440211296, -0.002257568296045065, -0.014203593134880066, 0.001084356801584363, 0.007970598526299, 0.03572618216276169, 0.009464673697948456, 0.02020622231066227, 0.012229043059051037, -0.01573057845234871, -0.01392715610563755, -0.011426059529185295, 0.017231235280632973, -0.012367261573672295, -0.014703812077641487, -0.00881965458393097, 0.026616927236318588, 0.008832817897200584, -0.0020403678063303232, -0.0077731432393193245, 0.038911789655685425, 0.015585777349770069, -0.03541025519371033, 0.005634048022329807, -0.00023776866146363318, -0.018731892108917236, 0.0032431974541395903, -0.017204908654093742, 0.03609476611018181, 0.010024129413068295, 0.013519082218408585, -0.00826019886881113, 0.004169590305536985, -0.009385691955685616, -0.02200964465737343, 0.04549362137913704, 0.024128993973135948, 0.01409828383475542, -0.052523016929626465, 0.0018939221045002341, 0.022917937487363815, 0.015243521891534328, -0.01840280182659626, 0.023865722119808197, 0.004422991070896387, 0.00706888735294342, -0.019192621111869812, 0.015309340320527554, -0.006002630572766066, 0.01871872879564762, -0.008595871739089489, 0.02245721034705639, -0.0016742533771321177, 0.014545847661793232, -0.001222575199790299, 0.029749879613518715, 0.019613858312368393, -0.005390520207583904, -0.002208204474300146, -0.002688678214326501, 0.0020535315852612257, 0.010524348355829716, -0.014282574877142906, -0.014203593134880066, 0.0020173313096165657, 0.013216317631304264, 0.02295742928981781, -0.02589292638003826, -0.007812634110450745, 0.007391396909952164, -0.010313729755580425, 0.01777094602584839, -0.024589722976088524, -0.004353881813585758, -0.006989905145019293, 0.012966208159923553, 0.003429134376347065, 0.024352777749300003, -0.0007585561252199113, -0.0048113190568983555, 0.02727510966360569, 0.002129222499206662, 0.0015302759129554033, 0.003042451571673155, 0.02070644311606884, 0.010912677273154259, 0.020693277940154076, 0.01260420773178339, -0.03620007261633873, -0.03119788132607937, 0.009504164569079876, -0.00928038265556097, -0.011011403985321522, 0.007128123659640551, -0.03225097432732582, 0.0658709704875946, 0.010952168144285679, -0.02049582451581955, 0.0062889400869607925, -0.019587531685829163, 0.02798594906926155, 0.02685387246310711, -0.008885473012924194, -0.018205346539616585, -0.0060256668366491795, -0.003712153062224388, 0.012419916689395905, -0.014085119590163231, -0.002275668317452073, -0.02756471186876297, 1.748299109749496e-05, -0.004018208011984825, 0.019113639369606972, -0.00404453556984663, -0.008424744941294193, 0.03193504735827446, -0.008997363969683647, 0.010596749372780323, 0.01636243425309658, -0.015243521891534328, -0.02772267535328865, 0.04428256303071976, 0.008444489911198616, -0.0010679021943360567, -0.05328650772571564, 0.005288501735776663, -0.005459629464894533, -0.02581394463777542, -0.003899735165759921, -0.003527861787006259, -0.017757782712578773, -0.012972789816558361, -0.0011073931818827987, -0.010524348355829716, 0.01970600336790085, 0.010136020369827747, 0.016270287334918976, -0.009444928728044033, 0.0028104421216994524, 0.01350591890513897, 0.011182531714439392, -0.024155322462320328, 0.005505701992660761, 0.002285541035234928]\n"
     ]
    }
   ],
   "source": [
    "print(df['embeddings'].iloc[0])"
   ]
  }
 ],
 "metadata": {
  "kernelspec": {
   "display_name": ".venv",
   "language": "python",
   "name": "python3"
  },
  "language_info": {
   "codemirror_mode": {
    "name": "ipython",
    "version": 3
   },
   "file_extension": ".py",
   "mimetype": "text/x-python",
   "name": "python",
   "nbconvert_exporter": "python",
   "pygments_lexer": "ipython3",
   "version": "3.11.4"
  },
  "orig_nbformat": 4
 },
 "nbformat": 4,
 "nbformat_minor": 2
}
