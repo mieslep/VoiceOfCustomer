{
 "cells": [
  {
   "cell_type": "code",
   "execution_count": 9,
   "metadata": {},
   "outputs": [
    {
     "name": "stdout",
     "output_type": "stream",
     "text": [
      "Note: you may need to restart the kernel to use updated packages.\n"
     ]
    },
    {
     "name": "stderr",
     "output_type": "stream",
     "text": [
      "\n",
      "[notice] A new release of pip is available: 23.1.2 -> 23.2\n",
      "[notice] To update, run: python.exe -m pip install --upgrade pip\n"
     ]
    }
   ],
   "source": [
    "%pip install -qU langchain huggingface openai python_dotenv aiometer cassandra-driver cassio tqdm faker streamlit"
   ]
  },
  {
   "cell_type": "code",
   "execution_count": 15,
   "metadata": {},
   "outputs": [
    {
     "name": "stdout",
     "output_type": "stream",
     "text": [
      "Collecting tiktoken\n",
      "  Using cached tiktoken-0.4.0-cp311-cp311-win_amd64.whl (635 kB)\n",
      "Collecting regex>=2022.1.18 (from tiktoken)\n",
      "  Using cached regex-2023.6.3-cp311-cp311-win_amd64.whl (268 kB)\n",
      "Requirement already satisfied: requests>=2.26.0 in c:\\users\\phil\\git\\voiceofcustomer\\.venv\\lib\\site-packages (from tiktoken) (2.31.0)\n",
      "Requirement already satisfied: charset-normalizer<4,>=2 in c:\\users\\phil\\git\\voiceofcustomer\\.venv\\lib\\site-packages (from requests>=2.26.0->tiktoken) (3.2.0)\n",
      "Requirement already satisfied: idna<4,>=2.5 in c:\\users\\phil\\git\\voiceofcustomer\\.venv\\lib\\site-packages (from requests>=2.26.0->tiktoken) (3.4)\n",
      "Requirement already satisfied: urllib3<3,>=1.21.1 in c:\\users\\phil\\git\\voiceofcustomer\\.venv\\lib\\site-packages (from requests>=2.26.0->tiktoken) (2.0.3)\n",
      "Requirement already satisfied: certifi>=2017.4.17 in c:\\users\\phil\\git\\voiceofcustomer\\.venv\\lib\\site-packages (from requests>=2.26.0->tiktoken) (2023.5.7)\n",
      "Installing collected packages: regex, tiktoken\n",
      "Successfully installed regex-2023.6.3 tiktoken-0.4.0\n",
      "Note: you may need to restart the kernel to use updated packages.\n"
     ]
    },
    {
     "name": "stderr",
     "output_type": "stream",
     "text": [
      "\n",
      "[notice] A new release of pip is available: 23.1.2 -> 23.2\n",
      "[notice] To update, run: python.exe -m pip install --upgrade pip\n"
     ]
    }
   ],
   "source": [
    "%pip install tiktoken"
   ]
  },
  {
   "cell_type": "markdown",
   "metadata": {},
   "source": [
    "# Load Environment\n",
    "The `.env` file is expected to include a valid OpenAI API key."
   ]
  },
  {
   "cell_type": "code",
   "execution_count": 1,
   "metadata": {},
   "outputs": [],
   "source": [
    "import os\n",
    "import openai\n",
    "from dotenv import load_dotenv, find_dotenv\n",
    "\n",
    "load_dotenv(find_dotenv(), override=True)\n",
    "\n",
    "openai.api_key = os.environ['OPENAI_API_KEY']\n",
    "models = openai.Model.list()\n",
    "if (len(models) == 0):\n",
    "    raise Exception(\"Your OpenAI API key does not appear to be valid. Please check it and try again.\")"
   ]
  },
  {
   "cell_type": "markdown",
   "metadata": {},
   "source": [
    "# Select a Product\n",
    "Load and select one of the products from the dataset."
   ]
  },
  {
   "cell_type": "code",
   "execution_count": 2,
   "metadata": {},
   "outputs": [],
   "source": [
    "import pandas as pd\n",
    "df = pd.read_parquet('reviews.parquet.gz')\n",
    "df_meta = pd.read_parquet('metadata.parquet.gz')\n",
    "\n",
    "example_asin = 'B0015UC17E'\n",
    "df = df.loc[df['asin'] == example_asin].copy()\n",
    "df_meta = df_meta.loc[df_meta['asin'] == example_asin].copy()\n"
   ]
  },
  {
   "cell_type": "markdown",
   "metadata": {},
   "source": [
    "The title of the product:"
   ]
  },
  {
   "cell_type": "code",
   "execution_count": 3,
   "metadata": {},
   "outputs": [
    {
     "name": "stdout",
     "output_type": "stream",
     "text": [
      "Streamlight 66118 Stylus Pro LED PenLight with Holster, Black - 100 Lumens\n"
     ]
    }
   ],
   "source": [
    "print (df_meta.loc[df_meta['asin'] == example_asin]['title'].values[0])"
   ]
  },
  {
   "cell_type": "markdown",
   "metadata": {},
   "source": [
    "And some of the reviews:"
   ]
  },
  {
   "cell_type": "code",
   "execution_count": 4,
   "metadata": {},
   "outputs": [
    {
     "name": "stdout",
     "output_type": "stream",
     "text": [
      "[\"Totally impressed with this little flashlight.  Small size fits and clips easily into pants pocket. Surprisingly bright beam shines much farther than I expected.  Aluminum housing is very durable, and I've gotten it wet several times with no problems. The light has been used quite a bit and is still using the original batteries.  One hand operation makes it very handy.\"\n",
      " \"Lightweight, intense light, easy to operate with one hand- this would be an incredible tool for law enforcement or an emergency responder. I'm buying a few more immediately I doubt one could ask for a more versatile hand held light. The beam is very intense- might even do well as a self-defense item as it is blinding if shone directly in the eyes. Money well spent!\"\n",
      " '<div id=\"video-block-R14P1E1E7LGJEV\" class=\"a-section a-spacing-small a-spacing-top-mini video-block\"></div><input type=\"hidden\" name=\"\" value=\"https://images-na.ssl-images-amazon.com/images/I/E19J6MdazZS.mp4\" class=\"video-url\"><input type=\"hidden\" name=\"\" value=\"https://images-na.ssl-images-amazon.com/images/I/61CEkYKZonS.png\" class=\"video-slate-img-url\">&nbsp;I remain amazed at the progress in portable lighting technology.  Recent advancements in LED quality and brightness levels surpasses past iterations and as of May 2008 this seems to be the best light in this size and form factor.  The Stylus Pro is an improvement over the thinner but not-as-bright regular Stylus, also a great little light (and reviewed also in the video).  The SP not only has a brighter \"high flux\" LED but its push button switch makes it one hand operable, a big advantage pretty much in all situations.  For these features it is only slightly thicker than the regular Stylus but still very lightweight (only a svelte 1.8 oz).  The output is also electronically controlled meaning its brightness will be more consistent and even through the life of the batteries.  Other features including materials, battery types, and their clips are covered in the video.  Both the Stylus and the Stylus Pro are super quality lights that feature lightweight, small size, and good durability.  In the world of small lights the Stylus Pro is currently reigning supreme.'\n",
      " \"This is a great light for the price. It's the brightest light on the market for a AAA, even brighter than my Maglite and Garrity. Money well spent, well worth the price.\"\n",
      " 'Just runs and runs...great light'\n",
      " 'Only had it overnight, So far so good! Solid product, nice and bright. Perfect for my hiking first aid kit.'\n",
      " 'Carry one in your bag, just in case.'\n",
      " 'FANTASIC light and fits anywhere. Bright and solid construction that you expect from Streamlight! Love their products. I carry this at work at a back up to my Streamlight Strion LED. I trust my ability to see and my life to the brand.'\n",
      " 'Great in the beginning but started to corrode and would work inside. Believe it may have been a bad battery.'\n",
      " 'This thing is sturdy and has held up well with my kiddo!']\n"
     ]
    }
   ],
   "source": [
    "print(df.head(10)['reviewText'].values)"
   ]
  },
  {
   "cell_type": "markdown",
   "metadata": {},
   "source": [
    "# Create Embeddings"
   ]
  },
  {
   "cell_type": "markdown",
   "metadata": {},
   "source": [
    "Load up the Langchain embeddings helper class:"
   ]
  },
  {
   "cell_type": "code",
   "execution_count": 3,
   "metadata": {},
   "outputs": [],
   "source": [
    "from langchain.embeddings import OpenAIEmbeddings\n",
    "embed_model = \"text-embedding-ada-002\"\n",
    "langchain_embeddings = OpenAIEmbeddings(model=embed_model)\n",
    "embed_dimensions = 1536"
   ]
  },
  {
   "cell_type": "markdown",
   "metadata": {},
   "source": [
    "Pull the text we'll be embedding into a list:"
   ]
  },
  {
   "cell_type": "code",
   "execution_count": 4,
   "metadata": {},
   "outputs": [
    {
     "data": {
      "text/plain": [
       "[\"Totally impressed with this little flashlight.  Small size fits and clips easily into pants pocket. Surprisingly bright beam shines much farther than I expected.  Aluminum housing is very durable, and I've gotten it wet several times with no problems. The light has been used quite a bit and is still using the original batteries.  One hand operation makes it very handy.\",\n",
       " \"Lightweight, intense light, easy to operate with one hand- this would be an incredible tool for law enforcement or an emergency responder. I'm buying a few more immediately I doubt one could ask for a more versatile hand held light. The beam is very intense- might even do well as a self-defense item as it is blinding if shone directly in the eyes. Money well spent!\",\n",
       " '<div id=\"video-block-R14P1E1E7LGJEV\" class=\"a-section a-spacing-small a-spacing-top-mini video-block\"></div><input type=\"hidden\" name=\"\" value=\"https://images-na.ssl-images-amazon.com/images/I/E19J6MdazZS.mp4\" class=\"video-url\"><input type=\"hidden\" name=\"\" value=\"https://images-na.ssl-images-amazon.com/images/I/61CEkYKZonS.png\" class=\"video-slate-img-url\">&nbsp;I remain amazed at the progress in p',\n",
       " \"This is a great light for the price. It's the brightest light on the market for a AAA, even brighter than my Maglite and Garrity. Money well spent, well worth the price.\",\n",
       " 'Just runs and runs...great light',\n",
       " 'Only had it overnight, So far so good! Solid product, nice and bright. Perfect for my hiking first aid kit.',\n",
       " 'Carry one in your bag, just in case.',\n",
       " 'FANTASIC light and fits anywhere. Bright and solid construction that you expect from Streamlight! Love their products. I carry this at work at a back up to my Streamlight Strion LED. I trust my ability to see and my life to the brand.',\n",
       " 'Great in the beginning but started to corrode and would work inside. Believe it may have been a bad battery.',\n",
       " 'This thing is sturdy and has held up well with my kiddo!']"
      ]
     },
     "execution_count": 4,
     "metadata": {},
     "output_type": "execute_result"
    }
   ],
   "source": [
    "embedding_text=df['truncated'].values.tolist()\n",
    "embedding_text[0:10]"
   ]
  },
  {
   "cell_type": "markdown",
   "metadata": {},
   "source": [
    "Finally, call the embedding function. We've wrapped in `aiometer` to keep the rate below the OpenAI API limit, but generate them as quickly as possible.\n",
    "\n",
    "We'll skip the embedding process if we already have an appropriately-named file available."
   ]
  },
  {
   "cell_type": "code",
   "execution_count": 5,
   "metadata": {},
   "outputs": [
    {
     "data": {
      "text/html": [
       "<div>\n",
       "<style scoped>\n",
       "    .dataframe tbody tr th:only-of-type {\n",
       "        vertical-align: middle;\n",
       "    }\n",
       "\n",
       "    .dataframe tbody tr th {\n",
       "        vertical-align: top;\n",
       "    }\n",
       "\n",
       "    .dataframe thead th {\n",
       "        text-align: right;\n",
       "    }\n",
       "</style>\n",
       "<table border=\"1\" class=\"dataframe\">\n",
       "  <thead>\n",
       "    <tr style=\"text-align: right;\">\n",
       "      <th></th>\n",
       "      <th>overall</th>\n",
       "      <th>verified</th>\n",
       "      <th>reviewTime</th>\n",
       "      <th>reviewerID</th>\n",
       "      <th>asin</th>\n",
       "      <th>style</th>\n",
       "      <th>reviewerName</th>\n",
       "      <th>reviewText</th>\n",
       "      <th>summary</th>\n",
       "      <th>unixReviewTime</th>\n",
       "      <th>vote</th>\n",
       "      <th>image</th>\n",
       "      <th>truncated</th>\n",
       "      <th>embeddings</th>\n",
       "    </tr>\n",
       "  </thead>\n",
       "  <tbody>\n",
       "    <tr>\n",
       "      <th>1484623</th>\n",
       "      <td>5.0</td>\n",
       "      <td>False</td>\n",
       "      <td>06 2, 2008</td>\n",
       "      <td>A39XFGZ0ASWT7O</td>\n",
       "      <td>B0015UC17E</td>\n",
       "      <td>{'Color Name:': None, 'Color:': ' Black w/Whit...</td>\n",
       "      <td>Amazon Customer</td>\n",
       "      <td>Totally impressed with this little flashlight....</td>\n",
       "      <td>love my streamlight stylus</td>\n",
       "      <td>1212364800</td>\n",
       "      <td>8</td>\n",
       "      <td>None</td>\n",
       "      <td>Totally impressed with this little flashlight....</td>\n",
       "      <td>[-0.002683741971850395, 0.014071956276893616, ...</td>\n",
       "    </tr>\n",
       "    <tr>\n",
       "      <th>1484624</th>\n",
       "      <td>5.0</td>\n",
       "      <td>True</td>\n",
       "      <td>05 31, 2008</td>\n",
       "      <td>A1UA6TH2XRK9ZX</td>\n",
       "      <td>B0015UC17E</td>\n",
       "      <td>{'Color Name:': None, 'Color:': ' Black w/Whit...</td>\n",
       "      <td>Everyman</td>\n",
       "      <td>Lightweight, intense light, easy to operate wi...</td>\n",
       "      <td>Great light Great price</td>\n",
       "      <td>1212192000</td>\n",
       "      <td>73</td>\n",
       "      <td>None</td>\n",
       "      <td>Lightweight, intense light, easy to operate wi...</td>\n",
       "      <td>[-0.015947110950946808, 0.007599272765219212, ...</td>\n",
       "    </tr>\n",
       "    <tr>\n",
       "      <th>1484625</th>\n",
       "      <td>5.0</td>\n",
       "      <td>True</td>\n",
       "      <td>05 14, 2008</td>\n",
       "      <td>A8XV9SMUW4OT4</td>\n",
       "      <td>B0015UC17E</td>\n",
       "      <td>{'Color Name:': None, 'Color:': ' Black w/Whit...</td>\n",
       "      <td>Happily Married</td>\n",
       "      <td>&lt;div id=\"video-block-R14P1E1E7LGJEV\" class=\"a-...</td>\n",
       "      <td>VIDEO and review for Stylus Pro light</td>\n",
       "      <td>1210723200</td>\n",
       "      <td>803</td>\n",
       "      <td>None</td>\n",
       "      <td>&lt;div id=\"video-block-R14P1E1E7LGJEV\" class=\"a-...</td>\n",
       "      <td>[0.00011079138494096696, -0.013300847262144089...</td>\n",
       "    </tr>\n",
       "    <tr>\n",
       "      <th>1484626</th>\n",
       "      <td>5.0</td>\n",
       "      <td>False</td>\n",
       "      <td>12 13, 2007</td>\n",
       "      <td>A1PY6V6J7K5G84</td>\n",
       "      <td>B0015UC17E</td>\n",
       "      <td>None</td>\n",
       "      <td>grumpy</td>\n",
       "      <td>This is a great light for the price. It's the ...</td>\n",
       "      <td>great light</td>\n",
       "      <td>1197504000</td>\n",
       "      <td>3</td>\n",
       "      <td>None</td>\n",
       "      <td>This is a great light for the price. It's the ...</td>\n",
       "      <td>[0.009861239232122898, -0.00737977446988225, -...</td>\n",
       "    </tr>\n",
       "    <tr>\n",
       "      <th>1484627</th>\n",
       "      <td>5.0</td>\n",
       "      <td>True</td>\n",
       "      <td>05 22, 2018</td>\n",
       "      <td>A1SXP6OD7J3A91</td>\n",
       "      <td>B0015UC17E</td>\n",
       "      <td>{'Color Name:': None, 'Color:': ' Blue w/White...</td>\n",
       "      <td>John A.</td>\n",
       "      <td>Just runs and runs...great light</td>\n",
       "      <td>Fantastic flashlight</td>\n",
       "      <td>1526947200</td>\n",
       "      <td>None</td>\n",
       "      <td>None</td>\n",
       "      <td>Just runs and runs...great light</td>\n",
       "      <td>[-0.011605827137827873, -0.0030300442595034838...</td>\n",
       "    </tr>\n",
       "    <tr>\n",
       "      <th>1484628</th>\n",
       "      <td>5.0</td>\n",
       "      <td>True</td>\n",
       "      <td>05 22, 2018</td>\n",
       "      <td>AYXJ3JUAOBONE</td>\n",
       "      <td>B0015UC17E</td>\n",
       "      <td>{'Color Name:': None, 'Color:': ' Black w/Whit...</td>\n",
       "      <td>Pete Haglund</td>\n",
       "      <td>Only had it overnight, So far so good! Solid p...</td>\n",
       "      <td>So far so good! Solid product</td>\n",
       "      <td>1526947200</td>\n",
       "      <td>None</td>\n",
       "      <td>None</td>\n",
       "      <td>Only had it overnight, So far so good! Solid p...</td>\n",
       "      <td>[0.008355016820132732, 0.01563715934753418, 0....</td>\n",
       "    </tr>\n",
       "    <tr>\n",
       "      <th>1484629</th>\n",
       "      <td>5.0</td>\n",
       "      <td>True</td>\n",
       "      <td>05 21, 2018</td>\n",
       "      <td>A1WLQE5R4ULY6N</td>\n",
       "      <td>B0015UC17E</td>\n",
       "      <td>{'Color Name:': None, 'Color:': ' Black w/Whit...</td>\n",
       "      <td>John Sandstrom</td>\n",
       "      <td>Carry one in your bag, just in case.</td>\n",
       "      <td>Five Stars</td>\n",
       "      <td>1526860800</td>\n",
       "      <td>None</td>\n",
       "      <td>None</td>\n",
       "      <td>Carry one in your bag, just in case.</td>\n",
       "      <td>[0.009391376748681068, 0.003927536774426699, 0...</td>\n",
       "    </tr>\n",
       "    <tr>\n",
       "      <th>1484630</th>\n",
       "      <td>5.0</td>\n",
       "      <td>True</td>\n",
       "      <td>05 21, 2018</td>\n",
       "      <td>A13AVJYZLJDVDR</td>\n",
       "      <td>B0015UC17E</td>\n",
       "      <td>{'Color Name:': None, 'Color:': ' Black w/Whit...</td>\n",
       "      <td>jonathan</td>\n",
       "      <td>FANTASIC light and fits anywhere. Bright and s...</td>\n",
       "      <td>Great light!!</td>\n",
       "      <td>1526860800</td>\n",
       "      <td>None</td>\n",
       "      <td>None</td>\n",
       "      <td>FANTASIC light and fits anywhere. Bright and s...</td>\n",
       "      <td>[0.014649939723312855, -0.006138053722679615, ...</td>\n",
       "    </tr>\n",
       "    <tr>\n",
       "      <th>1484631</th>\n",
       "      <td>2.0</td>\n",
       "      <td>True</td>\n",
       "      <td>05 21, 2018</td>\n",
       "      <td>A2IBKZX5RHO4DO</td>\n",
       "      <td>B0015UC17E</td>\n",
       "      <td>{'Color Name:': None, 'Color:': ' Black w/Whit...</td>\n",
       "      <td>Amazon Customer</td>\n",
       "      <td>Great in the beginning but started to corrode ...</td>\n",
       "      <td>Great in the beginning but started to corrode ...</td>\n",
       "      <td>1526860800</td>\n",
       "      <td>None</td>\n",
       "      <td>None</td>\n",
       "      <td>Great in the beginning but started to corrode ...</td>\n",
       "      <td>[0.002721348311752081, -0.003564865794032812, ...</td>\n",
       "    </tr>\n",
       "    <tr>\n",
       "      <th>1484632</th>\n",
       "      <td>5.0</td>\n",
       "      <td>True</td>\n",
       "      <td>05 20, 2018</td>\n",
       "      <td>A3C7HCJ6XDXO6S</td>\n",
       "      <td>B0015UC17E</td>\n",
       "      <td>{'Color Name:': None, 'Color:': ' Black w/Whit...</td>\n",
       "      <td>Nikki Smith</td>\n",
       "      <td>This thing is sturdy and has held up well with...</td>\n",
       "      <td>Five Stars</td>\n",
       "      <td>1526774400</td>\n",
       "      <td>None</td>\n",
       "      <td>None</td>\n",
       "      <td>This thing is sturdy and has held up well with...</td>\n",
       "      <td>[0.0047048344276845455, 0.00238009262830019, 0...</td>\n",
       "    </tr>\n",
       "  </tbody>\n",
       "</table>\n",
       "</div>"
      ],
      "text/plain": [
       "         overall  verified   reviewTime      reviewerID        asin  \\\n",
       "1484623      5.0     False   06 2, 2008  A39XFGZ0ASWT7O  B0015UC17E   \n",
       "1484624      5.0      True  05 31, 2008  A1UA6TH2XRK9ZX  B0015UC17E   \n",
       "1484625      5.0      True  05 14, 2008   A8XV9SMUW4OT4  B0015UC17E   \n",
       "1484626      5.0     False  12 13, 2007  A1PY6V6J7K5G84  B0015UC17E   \n",
       "1484627      5.0      True  05 22, 2018  A1SXP6OD7J3A91  B0015UC17E   \n",
       "1484628      5.0      True  05 22, 2018   AYXJ3JUAOBONE  B0015UC17E   \n",
       "1484629      5.0      True  05 21, 2018  A1WLQE5R4ULY6N  B0015UC17E   \n",
       "1484630      5.0      True  05 21, 2018  A13AVJYZLJDVDR  B0015UC17E   \n",
       "1484631      2.0      True  05 21, 2018  A2IBKZX5RHO4DO  B0015UC17E   \n",
       "1484632      5.0      True  05 20, 2018  A3C7HCJ6XDXO6S  B0015UC17E   \n",
       "\n",
       "                                                     style     reviewerName  \\\n",
       "1484623  {'Color Name:': None, 'Color:': ' Black w/Whit...  Amazon Customer   \n",
       "1484624  {'Color Name:': None, 'Color:': ' Black w/Whit...         Everyman   \n",
       "1484625  {'Color Name:': None, 'Color:': ' Black w/Whit...  Happily Married   \n",
       "1484626                                               None           grumpy   \n",
       "1484627  {'Color Name:': None, 'Color:': ' Blue w/White...          John A.   \n",
       "1484628  {'Color Name:': None, 'Color:': ' Black w/Whit...     Pete Haglund   \n",
       "1484629  {'Color Name:': None, 'Color:': ' Black w/Whit...   John Sandstrom   \n",
       "1484630  {'Color Name:': None, 'Color:': ' Black w/Whit...         jonathan   \n",
       "1484631  {'Color Name:': None, 'Color:': ' Black w/Whit...  Amazon Customer   \n",
       "1484632  {'Color Name:': None, 'Color:': ' Black w/Whit...      Nikki Smith   \n",
       "\n",
       "                                                reviewText  \\\n",
       "1484623  Totally impressed with this little flashlight....   \n",
       "1484624  Lightweight, intense light, easy to operate wi...   \n",
       "1484625  <div id=\"video-block-R14P1E1E7LGJEV\" class=\"a-...   \n",
       "1484626  This is a great light for the price. It's the ...   \n",
       "1484627                   Just runs and runs...great light   \n",
       "1484628  Only had it overnight, So far so good! Solid p...   \n",
       "1484629               Carry one in your bag, just in case.   \n",
       "1484630  FANTASIC light and fits anywhere. Bright and s...   \n",
       "1484631  Great in the beginning but started to corrode ...   \n",
       "1484632  This thing is sturdy and has held up well with...   \n",
       "\n",
       "                                                   summary  unixReviewTime  \\\n",
       "1484623                         love my streamlight stylus      1212364800   \n",
       "1484624                            Great light Great price      1212192000   \n",
       "1484625              VIDEO and review for Stylus Pro light      1210723200   \n",
       "1484626                                        great light      1197504000   \n",
       "1484627                               Fantastic flashlight      1526947200   \n",
       "1484628                      So far so good! Solid product      1526947200   \n",
       "1484629                                         Five Stars      1526860800   \n",
       "1484630                                      Great light!!      1526860800   \n",
       "1484631  Great in the beginning but started to corrode ...      1526860800   \n",
       "1484632                                         Five Stars      1526774400   \n",
       "\n",
       "         vote image                                          truncated  \\\n",
       "1484623     8  None  Totally impressed with this little flashlight....   \n",
       "1484624    73  None  Lightweight, intense light, easy to operate wi...   \n",
       "1484625   803  None  <div id=\"video-block-R14P1E1E7LGJEV\" class=\"a-...   \n",
       "1484626     3  None  This is a great light for the price. It's the ...   \n",
       "1484627  None  None                   Just runs and runs...great light   \n",
       "1484628  None  None  Only had it overnight, So far so good! Solid p...   \n",
       "1484629  None  None               Carry one in your bag, just in case.   \n",
       "1484630  None  None  FANTASIC light and fits anywhere. Bright and s...   \n",
       "1484631  None  None  Great in the beginning but started to corrode ...   \n",
       "1484632  None  None  This thing is sturdy and has held up well with...   \n",
       "\n",
       "                                                embeddings  \n",
       "1484623  [-0.002683741971850395, 0.014071956276893616, ...  \n",
       "1484624  [-0.015947110950946808, 0.007599272765219212, ...  \n",
       "1484625  [0.00011079138494096696, -0.013300847262144089...  \n",
       "1484626  [0.009861239232122898, -0.00737977446988225, -...  \n",
       "1484627  [-0.011605827137827873, -0.0030300442595034838...  \n",
       "1484628  [0.008355016820132732, 0.01563715934753418, 0....  \n",
       "1484629  [0.009391376748681068, 0.003927536774426699, 0...  \n",
       "1484630  [0.014649939723312855, -0.006138053722679615, ...  \n",
       "1484631  [0.002721348311752081, -0.003564865794032812, ...  \n",
       "1484632  [0.0047048344276845455, 0.00238009262830019, 0...  "
      ]
     },
     "execution_count": 5,
     "metadata": {},
     "output_type": "execute_result"
    }
   ],
   "source": [
    "embed_file = f\"{example_asin}.reviews-embeddings-{embed_model}.parquet.gz\"\n",
    "\n",
    "import os\n",
    "if not os.path.exists(embed_file):\n",
    "    import aiometer\n",
    "    embeddings=list(range(0,len(embedding_text)))\n",
    "\n",
    "    async def async_embed(index):\n",
    "        resp = await langchain_embeddings.aembed_query(embedding_text[index])\n",
    "        embeddings[index] = resp\n",
    "\n",
    "    await aiometer.run_on_each(\n",
    "        async_embed,\n",
    "        embeddings,\n",
    "        max_per_second=50\n",
    "    )        \n",
    "\n",
    "    df['embeddings'] = embeddings\n",
    "    df.to_parquet(embed_file, compression='gzip')\n",
    "else:\n",
    "    df = pd.read_parquet(embed_file)\n",
    "    \n",
    "df.head(10)"
   ]
  }
 ],
 "metadata": {
  "kernelspec": {
   "display_name": ".venv",
   "language": "python",
   "name": "python3"
  },
  "language_info": {
   "codemirror_mode": {
    "name": "ipython",
    "version": 3
   },
   "file_extension": ".py",
   "mimetype": "text/x-python",
   "name": "python",
   "nbconvert_exporter": "python",
   "pygments_lexer": "ipython3",
   "version": "3.11.4"
  },
  "orig_nbformat": 4
 },
 "nbformat": 4,
 "nbformat_minor": 2
}
