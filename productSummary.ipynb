{
 "cells": [
  {
   "cell_type": "code",
   "execution_count": 74,
   "metadata": {},
   "outputs": [
    {
     "name": "stdout",
     "output_type": "stream",
     "text": [
      "Note: you may need to restart the kernel to use updated packages.\n"
     ]
    }
   ],
   "source": [
    "%pip install -qU langchain huggingface openai python_dotenv aiometer cassandra-driver cassio tqdm faker streamlit"
   ]
  },
  {
   "cell_type": "code",
   "execution_count": 59,
   "metadata": {},
   "outputs": [
    {
     "data": {
      "text/plain": [
       "True"
      ]
     },
     "execution_count": 59,
     "metadata": {},
     "output_type": "execute_result"
    }
   ],
   "source": [
    "from dotenv import load_dotenv, find_dotenv\n",
    "load_dotenv(find_dotenv(), override=True)"
   ]
  },
  {
   "cell_type": "code",
   "execution_count": 3,
   "metadata": {},
   "outputs": [],
   "source": [
    "import pandas as pd\n",
    "df = pd.read_parquet('reviews.parquet.gz')\n",
    "df_meta = pd.read_parquet('meta.parquet.gz')"
   ]
  },
  {
   "cell_type": "code",
   "execution_count": 4,
   "metadata": {},
   "outputs": [
    {
     "data": {
      "text/html": [
       "<div>\n",
       "<style scoped>\n",
       "    .dataframe tbody tr th:only-of-type {\n",
       "        vertical-align: middle;\n",
       "    }\n",
       "\n",
       "    .dataframe tbody tr th {\n",
       "        vertical-align: top;\n",
       "    }\n",
       "\n",
       "    .dataframe thead th {\n",
       "        text-align: right;\n",
       "    }\n",
       "</style>\n",
       "<table border=\"1\" class=\"dataframe\">\n",
       "  <thead>\n",
       "    <tr style=\"text-align: right;\">\n",
       "      <th></th>\n",
       "      <th>overall</th>\n",
       "      <th>verified</th>\n",
       "      <th>reviewTime</th>\n",
       "      <th>reviewerID</th>\n",
       "      <th>asin</th>\n",
       "      <th>style</th>\n",
       "      <th>reviewerName</th>\n",
       "      <th>reviewText</th>\n",
       "      <th>summary</th>\n",
       "      <th>unixReviewTime</th>\n",
       "      <th>vote</th>\n",
       "      <th>image</th>\n",
       "      <th>reviewRange</th>\n",
       "      <th>truncated</th>\n",
       "    </tr>\n",
       "  </thead>\n",
       "  <tbody>\n",
       "    <tr>\n",
       "      <th>166134</th>\n",
       "      <td>5.0</td>\n",
       "      <td>False</td>\n",
       "      <td>06 2, 2008</td>\n",
       "      <td>A39XFGZ0ASWT7O</td>\n",
       "      <td>B0015UC17E</td>\n",
       "      <td>{'Capacity:': None, 'Color Name:': None, 'Colo...</td>\n",
       "      <td>Amazon Customer</td>\n",
       "      <td>Totally impressed with this little flashlight....</td>\n",
       "      <td>love my streamlight stylus</td>\n",
       "      <td>1212364800</td>\n",
       "      <td>8</td>\n",
       "      <td>None</td>\n",
       "      <td>NaN</td>\n",
       "      <td>Totally impressed with this little flashlight....</td>\n",
       "    </tr>\n",
       "    <tr>\n",
       "      <th>166135</th>\n",
       "      <td>5.0</td>\n",
       "      <td>True</td>\n",
       "      <td>05 31, 2008</td>\n",
       "      <td>A1UA6TH2XRK9ZX</td>\n",
       "      <td>B0015UC17E</td>\n",
       "      <td>{'Capacity:': None, 'Color Name:': None, 'Colo...</td>\n",
       "      <td>Everyman</td>\n",
       "      <td>Lightweight, intense light, easy to operate wi...</td>\n",
       "      <td>Great light Great price</td>\n",
       "      <td>1212192000</td>\n",
       "      <td>73</td>\n",
       "      <td>None</td>\n",
       "      <td>NaN</td>\n",
       "      <td>Lightweight, intense light, easy to operate wi...</td>\n",
       "    </tr>\n",
       "    <tr>\n",
       "      <th>166136</th>\n",
       "      <td>5.0</td>\n",
       "      <td>True</td>\n",
       "      <td>05 14, 2008</td>\n",
       "      <td>A8XV9SMUW4OT4</td>\n",
       "      <td>B0015UC17E</td>\n",
       "      <td>{'Capacity:': None, 'Color Name:': None, 'Colo...</td>\n",
       "      <td>Happily Married</td>\n",
       "      <td>&lt;div id=\"video-block-R14P1E1E7LGJEV\" class=\"a-...</td>\n",
       "      <td>VIDEO and review for Stylus Pro light</td>\n",
       "      <td>1210723200</td>\n",
       "      <td>803</td>\n",
       "      <td>None</td>\n",
       "      <td>NaN</td>\n",
       "      <td>&lt;div id=\"video-block-R14P1E1E7LGJEV\" class=\"a-...</td>\n",
       "    </tr>\n",
       "    <tr>\n",
       "      <th>166137</th>\n",
       "      <td>5.0</td>\n",
       "      <td>False</td>\n",
       "      <td>12 13, 2007</td>\n",
       "      <td>A1PY6V6J7K5G84</td>\n",
       "      <td>B0015UC17E</td>\n",
       "      <td>None</td>\n",
       "      <td>grumpy</td>\n",
       "      <td>This is a great light for the price. It's the ...</td>\n",
       "      <td>great light</td>\n",
       "      <td>1197504000</td>\n",
       "      <td>3</td>\n",
       "      <td>None</td>\n",
       "      <td>NaN</td>\n",
       "      <td>This is a great light for the price. It's the ...</td>\n",
       "    </tr>\n",
       "    <tr>\n",
       "      <th>166138</th>\n",
       "      <td>5.0</td>\n",
       "      <td>True</td>\n",
       "      <td>05 22, 2018</td>\n",
       "      <td>A1SXP6OD7J3A91</td>\n",
       "      <td>B0015UC17E</td>\n",
       "      <td>{'Capacity:': None, 'Color Name:': None, 'Colo...</td>\n",
       "      <td>John A.</td>\n",
       "      <td>Just runs and runs...great light</td>\n",
       "      <td>Fantastic flashlight</td>\n",
       "      <td>1526947200</td>\n",
       "      <td>None</td>\n",
       "      <td>None</td>\n",
       "      <td>NaN</td>\n",
       "      <td>Just runs and runs...great light</td>\n",
       "    </tr>\n",
       "    <tr>\n",
       "      <th>...</th>\n",
       "      <td>...</td>\n",
       "      <td>...</td>\n",
       "      <td>...</td>\n",
       "      <td>...</td>\n",
       "      <td>...</td>\n",
       "      <td>...</td>\n",
       "      <td>...</td>\n",
       "      <td>...</td>\n",
       "      <td>...</td>\n",
       "      <td>...</td>\n",
       "      <td>...</td>\n",
       "      <td>...</td>\n",
       "      <td>...</td>\n",
       "      <td>...</td>\n",
       "    </tr>\n",
       "    <tr>\n",
       "      <th>603724</th>\n",
       "      <td>5.0</td>\n",
       "      <td>True</td>\n",
       "      <td>05 24, 2018</td>\n",
       "      <td>A3UFRHH8LESEYE</td>\n",
       "      <td>B0015UC17E</td>\n",
       "      <td>{'Capacity:': None, 'Color Name:': None, 'Colo...</td>\n",
       "      <td>Jeff</td>\n",
       "      <td>First of all let me say that I didn't receive ...</td>\n",
       "      <td>Same great quality!</td>\n",
       "      <td>1527120000</td>\n",
       "      <td>None</td>\n",
       "      <td>None</td>\n",
       "      <td>NaN</td>\n",
       "      <td>First of all let me say that I didn't receive ...</td>\n",
       "    </tr>\n",
       "    <tr>\n",
       "      <th>603725</th>\n",
       "      <td>5.0</td>\n",
       "      <td>True</td>\n",
       "      <td>05 24, 2018</td>\n",
       "      <td>A1NAZC7QGBOKEZ</td>\n",
       "      <td>B0015UC17E</td>\n",
       "      <td>{'Capacity:': None, 'Color Name:': None, 'Colo...</td>\n",
       "      <td>Chuck</td>\n",
       "      <td>Best \"pocket light\" at the best price. I have ...</td>\n",
       "      <td>A+ light. Durable, Works Great. Best bang for ...</td>\n",
       "      <td>1527120000</td>\n",
       "      <td>None</td>\n",
       "      <td>None</td>\n",
       "      <td>NaN</td>\n",
       "      <td>Best \"pocket light\" at the best price. I have ...</td>\n",
       "    </tr>\n",
       "    <tr>\n",
       "      <th>603726</th>\n",
       "      <td>5.0</td>\n",
       "      <td>True</td>\n",
       "      <td>05 23, 2018</td>\n",
       "      <td>A3768PQ890WGLI</td>\n",
       "      <td>B0015UC17E</td>\n",
       "      <td>{'Capacity:': None, 'Color Name:': None, 'Colo...</td>\n",
       "      <td>Phil roth</td>\n",
       "      <td>Ive had this light for a year now. Best pen li...</td>\n",
       "      <td>Best pen light I have come across</td>\n",
       "      <td>1527033600</td>\n",
       "      <td>None</td>\n",
       "      <td>[https://images-na.ssl-images-amazon.com/image...</td>\n",
       "      <td>NaN</td>\n",
       "      <td>Ive had this light for a year now. Best pen li...</td>\n",
       "    </tr>\n",
       "    <tr>\n",
       "      <th>603727</th>\n",
       "      <td>5.0</td>\n",
       "      <td>True</td>\n",
       "      <td>05 23, 2018</td>\n",
       "      <td>A13A5RYXWJR8L8</td>\n",
       "      <td>B0015UC17E</td>\n",
       "      <td>{'Capacity:': None, 'Color Name:': None, 'Colo...</td>\n",
       "      <td>Thomas</td>\n",
       "      <td>Great car light, compact and bright with a goo...</td>\n",
       "      <td>Five Stars</td>\n",
       "      <td>1527033600</td>\n",
       "      <td>None</td>\n",
       "      <td>None</td>\n",
       "      <td>NaN</td>\n",
       "      <td>Great car light, compact and bright with a goo...</td>\n",
       "    </tr>\n",
       "    <tr>\n",
       "      <th>603728</th>\n",
       "      <td>5.0</td>\n",
       "      <td>True</td>\n",
       "      <td>05 22, 2018</td>\n",
       "      <td>A1SXP6OD7J3A91</td>\n",
       "      <td>B0015UC17E</td>\n",
       "      <td>{'Capacity:': None, 'Color Name:': None, 'Colo...</td>\n",
       "      <td>John A.</td>\n",
       "      <td>Just runs and runs...great light</td>\n",
       "      <td>Fantastic flashlight</td>\n",
       "      <td>1526947200</td>\n",
       "      <td>None</td>\n",
       "      <td>None</td>\n",
       "      <td>NaN</td>\n",
       "      <td>Just runs and runs...great light</td>\n",
       "    </tr>\n",
       "  </tbody>\n",
       "</table>\n",
       "<p>11110 rows × 14 columns</p>\n",
       "</div>"
      ],
      "text/plain": [
       "        overall  verified   reviewTime      reviewerID        asin  \\\n",
       "166134      5.0     False   06 2, 2008  A39XFGZ0ASWT7O  B0015UC17E   \n",
       "166135      5.0      True  05 31, 2008  A1UA6TH2XRK9ZX  B0015UC17E   \n",
       "166136      5.0      True  05 14, 2008   A8XV9SMUW4OT4  B0015UC17E   \n",
       "166137      5.0     False  12 13, 2007  A1PY6V6J7K5G84  B0015UC17E   \n",
       "166138      5.0      True  05 22, 2018  A1SXP6OD7J3A91  B0015UC17E   \n",
       "...         ...       ...          ...             ...         ...   \n",
       "603724      5.0      True  05 24, 2018  A3UFRHH8LESEYE  B0015UC17E   \n",
       "603725      5.0      True  05 24, 2018  A1NAZC7QGBOKEZ  B0015UC17E   \n",
       "603726      5.0      True  05 23, 2018  A3768PQ890WGLI  B0015UC17E   \n",
       "603727      5.0      True  05 23, 2018  A13A5RYXWJR8L8  B0015UC17E   \n",
       "603728      5.0      True  05 22, 2018  A1SXP6OD7J3A91  B0015UC17E   \n",
       "\n",
       "                                                    style     reviewerName  \\\n",
       "166134  {'Capacity:': None, 'Color Name:': None, 'Colo...  Amazon Customer   \n",
       "166135  {'Capacity:': None, 'Color Name:': None, 'Colo...         Everyman   \n",
       "166136  {'Capacity:': None, 'Color Name:': None, 'Colo...  Happily Married   \n",
       "166137                                               None           grumpy   \n",
       "166138  {'Capacity:': None, 'Color Name:': None, 'Colo...          John A.   \n",
       "...                                                   ...              ...   \n",
       "603724  {'Capacity:': None, 'Color Name:': None, 'Colo...             Jeff   \n",
       "603725  {'Capacity:': None, 'Color Name:': None, 'Colo...            Chuck   \n",
       "603726  {'Capacity:': None, 'Color Name:': None, 'Colo...        Phil roth   \n",
       "603727  {'Capacity:': None, 'Color Name:': None, 'Colo...           Thomas   \n",
       "603728  {'Capacity:': None, 'Color Name:': None, 'Colo...          John A.   \n",
       "\n",
       "                                               reviewText  \\\n",
       "166134  Totally impressed with this little flashlight....   \n",
       "166135  Lightweight, intense light, easy to operate wi...   \n",
       "166136  <div id=\"video-block-R14P1E1E7LGJEV\" class=\"a-...   \n",
       "166137  This is a great light for the price. It's the ...   \n",
       "166138                   Just runs and runs...great light   \n",
       "...                                                   ...   \n",
       "603724  First of all let me say that I didn't receive ...   \n",
       "603725  Best \"pocket light\" at the best price. I have ...   \n",
       "603726  Ive had this light for a year now. Best pen li...   \n",
       "603727  Great car light, compact and bright with a goo...   \n",
       "603728                   Just runs and runs...great light   \n",
       "\n",
       "                                                  summary  unixReviewTime  \\\n",
       "166134                         love my streamlight stylus      1212364800   \n",
       "166135                            Great light Great price      1212192000   \n",
       "166136              VIDEO and review for Stylus Pro light      1210723200   \n",
       "166137                                        great light      1197504000   \n",
       "166138                               Fantastic flashlight      1526947200   \n",
       "...                                                   ...             ...   \n",
       "603724                                Same great quality!      1527120000   \n",
       "603725  A+ light. Durable, Works Great. Best bang for ...      1527120000   \n",
       "603726                  Best pen light I have come across      1527033600   \n",
       "603727                                         Five Stars      1527033600   \n",
       "603728                               Fantastic flashlight      1526947200   \n",
       "\n",
       "        vote                                              image reviewRange  \\\n",
       "166134     8                                               None         NaN   \n",
       "166135    73                                               None         NaN   \n",
       "166136   803                                               None         NaN   \n",
       "166137     3                                               None         NaN   \n",
       "166138  None                                               None         NaN   \n",
       "...      ...                                                ...         ...   \n",
       "603724  None                                               None         NaN   \n",
       "603725  None                                               None         NaN   \n",
       "603726  None  [https://images-na.ssl-images-amazon.com/image...         NaN   \n",
       "603727  None                                               None         NaN   \n",
       "603728  None                                               None         NaN   \n",
       "\n",
       "                                                truncated  \n",
       "166134  Totally impressed with this little flashlight....  \n",
       "166135  Lightweight, intense light, easy to operate wi...  \n",
       "166136  <div id=\"video-block-R14P1E1E7LGJEV\" class=\"a-...  \n",
       "166137  This is a great light for the price. It's the ...  \n",
       "166138                   Just runs and runs...great light  \n",
       "...                                                   ...  \n",
       "603724  First of all let me say that I didn't receive ...  \n",
       "603725  Best \"pocket light\" at the best price. I have ...  \n",
       "603726  Ive had this light for a year now. Best pen li...  \n",
       "603727  Great car light, compact and bright with a goo...  \n",
       "603728                   Just runs and runs...great light  \n",
       "\n",
       "[11110 rows x 14 columns]"
      ]
     },
     "execution_count": 4,
     "metadata": {},
     "output_type": "execute_result"
    }
   ],
   "source": [
    "example_asin = 'B0015UC17E'\n",
    "df = df.loc[df['asin'] == example_asin].copy()\n",
    "df"
   ]
  },
  {
   "cell_type": "code",
   "execution_count": 13,
   "metadata": {},
   "outputs": [
    {
     "data": {
      "text/html": [
       "<div>\n",
       "<style scoped>\n",
       "    .dataframe tbody tr th:only-of-type {\n",
       "        vertical-align: middle;\n",
       "    }\n",
       "\n",
       "    .dataframe tbody tr th {\n",
       "        vertical-align: top;\n",
       "    }\n",
       "\n",
       "    .dataframe thead th {\n",
       "        text-align: right;\n",
       "    }\n",
       "</style>\n",
       "<table border=\"1\" class=\"dataframe\">\n",
       "  <thead>\n",
       "    <tr style=\"text-align: right;\">\n",
       "      <th></th>\n",
       "      <th>category</th>\n",
       "      <th>tech1</th>\n",
       "      <th>description</th>\n",
       "      <th>fit</th>\n",
       "      <th>title</th>\n",
       "      <th>also_buy</th>\n",
       "      <th>tech2</th>\n",
       "      <th>brand</th>\n",
       "      <th>feature</th>\n",
       "      <th>rank</th>\n",
       "      <th>also_view</th>\n",
       "      <th>main_cat</th>\n",
       "      <th>similar_item</th>\n",
       "      <th>date</th>\n",
       "      <th>price</th>\n",
       "      <th>asin</th>\n",
       "      <th>imageURL</th>\n",
       "      <th>imageURLHighRes</th>\n",
       "      <th>details</th>\n",
       "    </tr>\n",
       "  </thead>\n",
       "  <tbody>\n",
       "    <tr>\n",
       "      <th>89662</th>\n",
       "      <td>[Tools &amp; Home Improvement, Safety &amp; Security, ...</td>\n",
       "      <td>class=\"a-keyvalue prodDetTable\" role=\"present...</td>\n",
       "      <td>[Streamlight's Stylus Pro black LED penlight f...</td>\n",
       "      <td></td>\n",
       "      <td>Streamlight 66118 Stylus Pro LED PenLight with...</td>\n",
       "      <td>[B00143JZ08, B003GXF9OA, B00LARP6DS, B01G75P1S...</td>\n",
       "      <td></td>\n",
       "      <td>Streamlight</td>\n",
       "      <td>[Durable, anodized machined aircraft aluminum ...</td>\n",
       "      <td>[&gt;#78 in Industrial &amp; Scientific (See top 100)...</td>\n",
       "      <td>[]</td>\n",
       "      <td>Industrial &amp; Scientific</td>\n",
       "      <td>class=\"a-bordered a-horizontal-stripes  a-spa...</td>\n",
       "      <td>October 2, 2000</td>\n",
       "      <td>$19.52</td>\n",
       "      <td>B0015UC17E</td>\n",
       "      <td>[https://images-na.ssl-images-amazon.com/image...</td>\n",
       "      <td>[https://images-na.ssl-images-amazon.com/image...</td>\n",
       "      <td>{'\n",
       "    Item Weight: \n",
       "    ': None, '\n",
       "    Produc...</td>\n",
       "    </tr>\n",
       "  </tbody>\n",
       "</table>\n",
       "</div>"
      ],
      "text/plain": [
       "                                                category  \\\n",
       "89662  [Tools & Home Improvement, Safety & Security, ...   \n",
       "\n",
       "                                                   tech1  \\\n",
       "89662   class=\"a-keyvalue prodDetTable\" role=\"present...   \n",
       "\n",
       "                                             description fit  \\\n",
       "89662  [Streamlight's Stylus Pro black LED penlight f...       \n",
       "\n",
       "                                                   title  \\\n",
       "89662  Streamlight 66118 Stylus Pro LED PenLight with...   \n",
       "\n",
       "                                                also_buy tech2        brand  \\\n",
       "89662  [B00143JZ08, B003GXF9OA, B00LARP6DS, B01G75P1S...        Streamlight   \n",
       "\n",
       "                                                 feature  \\\n",
       "89662  [Durable, anodized machined aircraft aluminum ...   \n",
       "\n",
       "                                                    rank also_view  \\\n",
       "89662  [>#78 in Industrial & Scientific (See top 100)...        []   \n",
       "\n",
       "                      main_cat  \\\n",
       "89662  Industrial & Scientific   \n",
       "\n",
       "                                            similar_item             date  \\\n",
       "89662   class=\"a-bordered a-horizontal-stripes  a-spa...  October 2, 2000   \n",
       "\n",
       "        price        asin                                           imageURL  \\\n",
       "89662  $19.52  B0015UC17E  [https://images-na.ssl-images-amazon.com/image...   \n",
       "\n",
       "                                         imageURLHighRes  \\\n",
       "89662  [https://images-na.ssl-images-amazon.com/image...   \n",
       "\n",
       "                                                 details  \n",
       "89662  {'\n",
       "    Item Weight: \n",
       "    ': None, '\n",
       "    Produc...  "
      ]
     },
     "execution_count": 13,
     "metadata": {},
     "output_type": "execute_result"
    }
   ],
   "source": [
    "df_meta.loc[df_meta['asin'] == example_asin]"
   ]
  },
  {
   "cell_type": "code",
   "execution_count": 86,
   "metadata": {},
   "outputs": [
    {
     "name": "stdout",
     "output_type": "stream",
     "text": [
      "Streamlight 66118 Stylus Pro LED PenLight with Holster, Black - 100 Lumens\n"
     ]
    }
   ],
   "source": [
    "print (df_meta.loc[df_meta['asin'] == example_asin]['title'].values[0])"
   ]
  },
  {
   "cell_type": "code",
   "execution_count": 5,
   "metadata": {},
   "outputs": [],
   "source": [
    "from langchain.embeddings import OpenAIEmbeddings\n",
    "embed_model = \"text-embedding-ada-002\"\n",
    "langchain_embeddings = OpenAIEmbeddings(model=embed_model)\n",
    "embed_dimensions = 1536"
   ]
  },
  {
   "cell_type": "code",
   "execution_count": 6,
   "metadata": {},
   "outputs": [],
   "source": [
    "embed_file = f\"{example_asin}.reviews-embeddings-{embed_model}.parquet.gz\"\n",
    "\n",
    "import os\n",
    "if not os.path.exists(embed_file):\n",
    "    import aiometer\n",
    "    embeddings=list(range(0,len(df['truncated'])))\n",
    "\n",
    "    async def async_embed(index):\n",
    "        resp = await langchain_embeddings.aembed_query(df['truncated'].values[index])\n",
    "        embeddings[index] = resp\n",
    "\n",
    "    await aiometer.run_on_each(\n",
    "        async_embed,\n",
    "        embeddings,\n",
    "        max_per_second=50\n",
    "    )        \n",
    "\n",
    "    df['embeddings'] = embeddings\n",
    "    df.to_parquet(embed_file, compression='gzip')\n",
    "else:\n",
    "    df = pd.read_parquet(embed_file)"
   ]
  },
  {
   "cell_type": "code",
   "execution_count": 7,
   "metadata": {},
   "outputs": [],
   "source": [
    "df['metadata'] = df.apply(lambda row: dict(rating=row['overall'], asin=row['asin'], reviewerID=row['reviewerID'], \n",
    "                                           reviewerName=row['reviewerName'], summary=row['summary'], unixReviewTime=row['unixReviewTime']), axis=1)"
   ]
  },
  {
   "cell_type": "code",
   "execution_count": 8,
   "metadata": {},
   "outputs": [],
   "source": [
    "from cassandra.cluster import Cluster\n",
    "from cassandra.auth import PlainTextAuthProvider\n",
    "\n",
    "cloud_config = {'secure_connect_bundle': os.environ['ASTRA_SECUREBUNDLE_PATH']}\n",
    "auth_provider = PlainTextAuthProvider(os.environ['ASTRA_CLIENT_ID'], os.environ['ASTRA_CLIENT_SECRET'])\n",
    "cluster = Cluster(cloud=cloud_config, auth_provider=auth_provider)\n",
    "session = cluster.connect()"
   ]
  },
  {
   "cell_type": "code",
   "execution_count": 9,
   "metadata": {},
   "outputs": [
    {
     "name": "stderr",
     "output_type": "stream",
     "text": [
      "c:\\Users\\Phil\\git\\VoiceOfCustomer\\.venv\\Lib\\site-packages\\tqdm\\auto.py:21: TqdmWarning: IProgress not found. Please update jupyter and ipywidgets. See https://ipywidgets.readthedocs.io/en/stable/user_install.html\n",
      "  from .autonotebook import tqdm as notebook_tqdm\n",
      "100%|██████████| 484/484 [02:02<00:00,  3.96it/s]\n"
     ]
    },
    {
     "name": "stdout",
     "output_type": "stream",
     "text": [
      "Completed batch 1 of 23\n"
     ]
    },
    {
     "name": "stderr",
     "output_type": "stream",
     "text": [
      "100%|██████████| 483/483 [00:00<00:00, 547.08it/s]\n"
     ]
    },
    {
     "name": "stdout",
     "output_type": "stream",
     "text": [
      "Completed batch 2 of 23\n"
     ]
    },
    {
     "name": "stderr",
     "output_type": "stream",
     "text": [
      "100%|██████████| 483/483 [00:00<00:00, 538.88it/s]\n"
     ]
    },
    {
     "name": "stdout",
     "output_type": "stream",
     "text": [
      "Completed batch 3 of 23\n"
     ]
    },
    {
     "name": "stderr",
     "output_type": "stream",
     "text": [
      "100%|██████████| 483/483 [00:00<00:00, 552.99it/s]\n"
     ]
    },
    {
     "name": "stdout",
     "output_type": "stream",
     "text": [
      "Completed batch 4 of 23\n"
     ]
    },
    {
     "name": "stderr",
     "output_type": "stream",
     "text": [
      "100%|██████████| 483/483 [00:00<00:00, 549.69it/s]\n"
     ]
    },
    {
     "name": "stdout",
     "output_type": "stream",
     "text": [
      "Completed batch 5 of 23\n"
     ]
    },
    {
     "name": "stderr",
     "output_type": "stream",
     "text": [
      "100%|██████████| 483/483 [00:00<00:00, 552.18it/s]\n"
     ]
    },
    {
     "name": "stdout",
     "output_type": "stream",
     "text": [
      "Completed batch 6 of 23\n"
     ]
    },
    {
     "name": "stderr",
     "output_type": "stream",
     "text": [
      "100%|██████████| 483/483 [00:00<00:00, 544.42it/s]\n"
     ]
    },
    {
     "name": "stdout",
     "output_type": "stream",
     "text": [
      "Completed batch 7 of 23\n"
     ]
    },
    {
     "name": "stderr",
     "output_type": "stream",
     "text": [
      "100%|██████████| 483/483 [00:00<00:00, 542.16it/s]\n"
     ]
    },
    {
     "name": "stdout",
     "output_type": "stream",
     "text": [
      "Completed batch 8 of 23\n"
     ]
    },
    {
     "name": "stderr",
     "output_type": "stream",
     "text": [
      "100%|██████████| 483/483 [00:00<00:00, 544.09it/s]\n"
     ]
    },
    {
     "name": "stdout",
     "output_type": "stream",
     "text": [
      "Completed batch 9 of 23\n"
     ]
    },
    {
     "name": "stderr",
     "output_type": "stream",
     "text": [
      "100%|██████████| 483/483 [00:01<00:00, 399.63it/s]\n"
     ]
    },
    {
     "name": "stdout",
     "output_type": "stream",
     "text": [
      "Completed batch 10 of 23\n"
     ]
    },
    {
     "name": "stderr",
     "output_type": "stream",
     "text": [
      "100%|██████████| 483/483 [00:00<00:00, 538.43it/s]\n"
     ]
    },
    {
     "name": "stdout",
     "output_type": "stream",
     "text": [
      "Completed batch 11 of 23\n"
     ]
    },
    {
     "name": "stderr",
     "output_type": "stream",
     "text": [
      "100%|██████████| 483/483 [00:00<00:00, 544.97it/s]\n"
     ]
    },
    {
     "name": "stdout",
     "output_type": "stream",
     "text": [
      "Completed batch 12 of 23\n"
     ]
    },
    {
     "name": "stderr",
     "output_type": "stream",
     "text": [
      "100%|██████████| 483/483 [00:00<00:00, 567.77it/s]\n"
     ]
    },
    {
     "name": "stdout",
     "output_type": "stream",
     "text": [
      "Completed batch 13 of 23\n"
     ]
    },
    {
     "name": "stderr",
     "output_type": "stream",
     "text": [
      "100%|██████████| 483/483 [00:00<00:00, 562.98it/s]\n"
     ]
    },
    {
     "name": "stdout",
     "output_type": "stream",
     "text": [
      "Completed batch 14 of 23\n"
     ]
    },
    {
     "name": "stderr",
     "output_type": "stream",
     "text": [
      "100%|██████████| 483/483 [00:00<00:00, 486.89it/s]\n"
     ]
    },
    {
     "name": "stdout",
     "output_type": "stream",
     "text": [
      "Completed batch 15 of 23\n"
     ]
    },
    {
     "name": "stderr",
     "output_type": "stream",
     "text": [
      "100%|██████████| 483/483 [00:00<00:00, 578.35it/s]\n"
     ]
    },
    {
     "name": "stdout",
     "output_type": "stream",
     "text": [
      "Completed batch 16 of 23\n"
     ]
    },
    {
     "name": "stderr",
     "output_type": "stream",
     "text": [
      "100%|██████████| 483/483 [00:00<00:00, 565.91it/s]\n"
     ]
    },
    {
     "name": "stdout",
     "output_type": "stream",
     "text": [
      "Completed batch 17 of 23\n"
     ]
    },
    {
     "name": "stderr",
     "output_type": "stream",
     "text": [
      "100%|██████████| 483/483 [00:00<00:00, 494.35it/s]\n"
     ]
    },
    {
     "name": "stdout",
     "output_type": "stream",
     "text": [
      "Completed batch 18 of 23\n"
     ]
    },
    {
     "name": "stderr",
     "output_type": "stream",
     "text": [
      "100%|██████████| 483/483 [00:00<00:00, 545.04it/s]\n"
     ]
    },
    {
     "name": "stdout",
     "output_type": "stream",
     "text": [
      "Completed batch 19 of 23\n"
     ]
    },
    {
     "name": "stderr",
     "output_type": "stream",
     "text": [
      "100%|██████████| 483/483 [00:00<00:00, 560.05it/s]\n"
     ]
    },
    {
     "name": "stdout",
     "output_type": "stream",
     "text": [
      "Completed batch 20 of 23\n"
     ]
    },
    {
     "name": "stderr",
     "output_type": "stream",
     "text": [
      "100%|██████████| 483/483 [00:00<00:00, 542.82it/s]\n"
     ]
    },
    {
     "name": "stdout",
     "output_type": "stream",
     "text": [
      "Completed batch 21 of 23\n"
     ]
    },
    {
     "name": "stderr",
     "output_type": "stream",
     "text": [
      "100%|██████████| 483/483 [00:00<00:00, 536.92it/s]\n"
     ]
    },
    {
     "name": "stdout",
     "output_type": "stream",
     "text": [
      "Completed batch 22 of 23\n"
     ]
    },
    {
     "name": "stderr",
     "output_type": "stream",
     "text": [
      "100%|██████████| 483/483 [00:00<00:00, 565.06it/s]"
     ]
    },
    {
     "name": "stdout",
     "output_type": "stream",
     "text": [
      "Completed batch 23 of 23\n",
      "Total rows processed: 11110\n",
      "Retries: 0\n",
      "Error rows: 0\n"
     ]
    },
    {
     "name": "stderr",
     "output_type": "stream",
     "text": [
      "\n"
     ]
    }
   ],
   "source": [
    "KEYSPACE_NAME=os.environ['ASTRA_KEYSPACE']  \n",
    "TABLE_NAME=os.environ['ASTRA_TABLE']\n",
    "\n",
    "loadCassandra=False\n",
    "if loadCassandra:\n",
    "    # This table structure is compatible with CassIO 0.0.6\n",
    "    import json\n",
    "    import threading\n",
    "    import time\n",
    "    from math import ceil\n",
    "    import numpy as np\n",
    "    from concurrent.futures import ThreadPoolExecutor\n",
    "    from tqdm.auto import tqdm\n",
    "    from multiprocessing import Value\n",
    "\n",
    "    processed_counter = Value('i', 0)\n",
    "    error_counter = Value('i', 0)\n",
    "    retry_counter = Value('i', 0)\n",
    "\n",
    "    session.execute(f\"\"\"\n",
    "        CREATE TABLE IF NOT EXISTS {KEYSPACE_NAME}.{TABLE_NAME} \n",
    "        (document_id text, embedding_vector VECTOR<FLOAT, {embed_dimensions}>, document TEXT, metadata_blob TEXT, PRIMARY KEY(document_id))\n",
    "    \"\"\")\n",
    "\n",
    "    # This index definition is compatible with CassIO 0.0.6, and excludes \n",
    "    #    WITH OPTIONS = {{ 'similarity_function': 'dot_product' }}\n",
    "    session.execute(f\"\"\"\n",
    "        CREATE CUSTOM INDEX IF NOT EXISTS {TABLE_NAME}_ann \n",
    "        ON {KEYSPACE_NAME}.{TABLE_NAME} (embedding_vector) \n",
    "        USING 'org.apache.cassandra.index.sai.StorageAttachedIndex' \n",
    "    \"\"\")\n",
    "\n",
    "    class DB:\n",
    "        class JSONEncoder(json.JSONEncoder):\n",
    "            def default(self, obj):\n",
    "                if isinstance(obj, pd.Timestamp):\n",
    "                    return obj.isoformat()\n",
    "                return super().default(obj)\n",
    "        \n",
    "        def __init__(self, cluster: Cluster):\n",
    "            self.session = cluster.connect()\n",
    "            self.pinsert = self.session.prepare(f\"\"\"\n",
    "                INSERT INTO {KEYSPACE_NAME}.{TABLE_NAME}\n",
    "                (document_id, embedding_vector, document, metadata_blob)\n",
    "                VALUES (?, ?, ?, ?)\n",
    "            \"\"\")\n",
    "            self.encoder = self.JSONEncoder()\n",
    "\n",
    "        def upsert_one(self, row):\n",
    "            id = f\"{row['asin']}.{row['reviewerID']}.{row['unixReviewTime']}\"\n",
    "            self.session.execute(self.pinsert, [\n",
    "                    id,\n",
    "                    row['embeddings'],\n",
    "                    row['truncated'],\n",
    "                    self.encoder.encode(row['metadata'])]\n",
    "            )\n",
    "\n",
    "    thread_local_storage = threading.local()\n",
    "\n",
    "    def get_db():\n",
    "        if not hasattr(thread_local_storage, 'db_handle'):\n",
    "            thread_local_storage.db_handle = DB(cluster)\n",
    "        return thread_local_storage.db_handle\n",
    "\n",
    "    def upsert_row(indexed_row):\n",
    "        _, row = indexed_row  # unpack tuple\n",
    "        db = get_db()\n",
    "        row = row.to_dict()\n",
    "        row['embeddings'] = row['embeddings'].tolist()\n",
    "\n",
    "        # Wrap the database operation and counter increment in a try/except block\n",
    "        retries = 5\n",
    "        loaded = False\n",
    "        tryCount = 0\n",
    "        while not loaded:\n",
    "            try:\n",
    "                db.upsert_one(row)\n",
    "                with processed_counter.get_lock():  # ensure thread-safety with a lock\n",
    "                    processed_counter.value += 1\n",
    "                loaded = True\n",
    "            except Exception as e:\n",
    "                if tryCount < retries:\n",
    "                    print(f\"Error processing row: {e}. Retrying...\")\n",
    "                    tryCount += 1\n",
    "                    with retry_counter.get_lock():  # ensure thread-safety with a lock\n",
    "                        retry_counter.value += 1\n",
    "                    time.sleep(1)\n",
    "                else:\n",
    "                    with error_counter.get_lock():  # ensure thread-safety with a lock\n",
    "                        error_counter.value += 1\n",
    "                    print(f\"Error processing row: {e}. Fatal.\")  \n",
    "                    loaded = True\n",
    "\n",
    "    BATCH_SIZE = 500\n",
    "    num_threads = 64\n",
    "\n",
    "    num_batches = ceil(df.shape[0] / BATCH_SIZE)\n",
    "    batches = np.array_split(df, num_batches)  # splits the dataframe into smaller batches\n",
    "    with ThreadPoolExecutor(max_workers=num_threads) as executor:\n",
    "        for i, batch in enumerate(batches):\n",
    "            list(tqdm(executor.map(upsert_row, batch.iterrows()), total=batch.shape[0]))\n",
    "            print(f\"Completed batch {i + 1} of {num_batches}\")\n",
    "\n",
    "    # After all the data is processed\n",
    "    print(f\"Total rows processed: {processed_counter.value}\")\n",
    "    print(f\"Retries: {retry_counter.value}\")\n",
    "    print(f\"Error rows: {error_counter.value}\")\n"
   ]
  },
  {
   "cell_type": "code",
   "execution_count": 11,
   "metadata": {},
   "outputs": [],
   "source": [
    "from langchain.vectorstores import Cassandra\n",
    "\n",
    "vstore = Cassandra(\n",
    "    embedding=langchain_embeddings,\n",
    "    session=session,\n",
    "    keyspace=os.environ['ASTRA_KEYSPACE'],\n",
    "    table_name=os.environ['ASTRA_TABLE']\n",
    "    )"
   ]
  },
  {
   "cell_type": "code",
   "execution_count": 69,
   "metadata": {},
   "outputs": [],
   "source": [
    "docs=vstore.similarity_search(\"This flashlight is fantastic\", k=100) # Cassandra does not support, filter={\"rating\":5.0})\n",
    "\n",
    "# from collections import Counter\n",
    "# docs_all=vstore.similarity_search(\"This flashlight is fantastic\", k=100)\n",
    "# ratings = [doc.metadata['rating'] for doc in docs_all]\n",
    "# rating_counts = Counter(ratings)\n",
    "# print(f\"docs_all: {rating_counts}\")\n",
    "      \n",
    "# docs_5=vstore.similarity_search(\"This flashlight is fantastic\", k=100, filter={\"rating\":5.0})\n",
    "# ratings = [doc.metadata['rating'] for doc in docs_5]\n",
    "# rating_counts = Counter(ratings)\n",
    "# print(f\"docs_5: {rating_counts}\")     "
   ]
  },
  {
   "cell_type": "code",
   "execution_count": 70,
   "metadata": {},
   "outputs": [
    {
     "data": {
      "text/plain": [
       "[Document(page_content='This flashlight is amazing!', metadata={'rating': 5.0, 'asin': 'B0015UC17E', 'reviewerID': 'AI9FQ2H1RCLKE', 'reviewerName': 'Ruben Guerrios', 'summary': 'Five Stars', 'unixReviewTime': 1433980800}),\n",
       " Document(page_content='Excellent flashlight', metadata={'rating': 5.0, 'asin': 'B0015UC17E', 'reviewerID': 'A23848Q6OZO9Z5', 'reviewerName': 'John E. Salvati', 'summary': 'Five Stars', 'unixReviewTime': 1523318400}),\n",
       " Document(page_content='Great flashlight', metadata={'rating': 5.0, 'asin': 'B0015UC17E', 'reviewerID': 'A7RVD8FDSOUC0', 'reviewerName': 'Amazon Customer', 'summary': 'Five Stars', 'unixReviewTime': 1518048000}),\n",
       " Document(page_content='Great flashlight', metadata={'rating': 5.0, 'asin': 'B0015UC17E', 'reviewerID': 'AIHFQATLF3P44', 'reviewerName': 'Marcus M. Zeno Sr.', 'summary': 'Five Stars', 'unixReviewTime': 1501804800}),\n",
       " Document(page_content='Great flashlight', metadata={'rating': 5.0, 'asin': 'B0015UC17E', 'reviewerID': 'ACIE25PFTYW8A', 'reviewerName': 'Libby', 'summary': 'Five Stars', 'unixReviewTime': 1519516800}),\n",
       " Document(page_content='Great flashlight', metadata={'rating': 5.0, 'asin': 'B0015UC17E', 'reviewerID': 'A3TW7LYMTZ9Z4L', 'reviewerName': 'Robert', 'summary': 'Five Stars', 'unixReviewTime': 1415318400}),\n",
       " Document(page_content='Great flashlight.', metadata={'rating': 5.0, 'asin': 'B0015UC17E', 'reviewerID': 'AURO1ZEP9DMM6', 'reviewerName': 'tippin', 'summary': 'Five Stars', 'unixReviewTime': 1431820800}),\n",
       " Document(page_content='Great flashlight.', metadata={'rating': 5.0, 'asin': 'B0015UC17E', 'reviewerID': 'A2QVAGB3VBMCV3', 'reviewerName': 'Big Guy', 'summary': 'Love it', 'unixReviewTime': 1468713600}),\n",
       " Document(page_content='Awesome flashlight', metadata={'rating': 5.0, 'asin': 'B0015UC17E', 'reviewerID': 'A1KAU7NAP3X390', 'reviewerName': 'Brian Daniel O&#039;Donnell', 'summary': 'Five Stars', 'unixReviewTime': 1492905600}),\n",
       " Document(page_content='Really good flashlight.', metadata={'rating': 4.0, 'asin': 'B0015UC17E', 'reviewerID': 'A17JXNPD1IGXCD', 'reviewerName': 'kevin', 'summary': 'Four Stars', 'unixReviewTime': 1431129600}),\n",
       " Document(page_content='great flashlight', metadata={'rating': 5.0, 'asin': 'B0015UC17E', 'reviewerID': 'A1XTUR86T620G5', 'reviewerName': 'dawn', 'summary': 'Five Stars', 'unixReviewTime': 1422835200}),\n",
       " Document(page_content='Great flashlight, very bright', metadata={'rating': 5.0, 'asin': 'B0015UC17E', 'reviewerID': 'AZ5UFLAWP6SWG', 'reviewerName': 'Jamie S', 'summary': 'Great flashlight', 'unixReviewTime': 1493856000}),\n",
       " Document(page_content='Great flashlight, very bright', metadata={'rating': 5.0, 'asin': 'B0015UC17E', 'reviewerID': 'A1CGFWFJKYV1L4', 'reviewerName': 'Mike', 'summary': 'Flash light', 'unixReviewTime': 1444780800}),\n",
       " Document(page_content='Love this Flashlight', metadata={'rating': 5.0, 'asin': 'B0015UC17E', 'reviewerID': 'A1M8V82RKHOOZ5', 'reviewerName': 'kpd105gold', 'summary': 'Great Deal', 'unixReviewTime': 1428192000}),\n",
       " Document(page_content='Very good flashlight', metadata={'rating': 5.0, 'asin': 'B0015UC17E', 'reviewerID': 'ABU1L6A42HT65', 'reviewerName': 'William Boyd', 'summary': 'Five Stars', 'unixReviewTime': 1477699200}),\n",
       " Document(page_content='Great flashlight!', metadata={'rating': 5.0, 'asin': 'B0015UC17E', 'reviewerID': 'A2P2NH1I0RWJI1', 'reviewerName': 'Sarah CLark', 'summary': 'Five Stars', 'unixReviewTime': 1483056000}),\n",
       " Document(page_content='Great flashlight!', metadata={'rating': 5.0, 'asin': 'B0015UC17E', 'reviewerID': 'A1ZWB2X5I3E1EN', 'reviewerName': 'RJD0263', 'summary': 'Five Stars', 'unixReviewTime': 1440892800}),\n",
       " Document(page_content='Love this little flashlight', metadata={'rating': 5.0, 'asin': 'B0015UC17E', 'reviewerID': 'A3VZEZGV4OUFAT', 'reviewerName': 'Evan Haley', 'summary': 'Five Stars', 'unixReviewTime': 1427414400}),\n",
       " Document(page_content='Nice flashlight.', metadata={'rating': 4.0, 'asin': 'B0015UC17E', 'reviewerID': 'A219METCL6ZIVC', 'reviewerName': 'Hot_Tamale!', 'summary': 'Four Stars', 'unixReviewTime': 1516492800}),\n",
       " Document(page_content='Great Flashlight', metadata={'rating': 5.0, 'asin': 'B0015UC17E', 'reviewerID': 'A2P270R5EL99RH', 'reviewerName': 'Angel Chavez', 'summary': 'Five Stars', 'unixReviewTime': 1510012800}),\n",
       " Document(page_content='Great flashlight. Love it!', metadata={'rating': 5.0, 'asin': 'B0015UC17E', 'reviewerID': 'A3R1HYEDSZET0B', 'reviewerName': 'Justin Barger', 'summary': 'Five Stars', 'unixReviewTime': 1476489600}),\n",
       " Document(page_content='Love this little flashlight. Excellent product', metadata={'rating': 5.0, 'asin': 'B0015UC17E', 'reviewerID': 'A15TQNOJKCV2KC', 'reviewerName': 'J.M.', 'summary': 'Five Stars', 'unixReviewTime': 1464480000}),\n",
       " Document(page_content='Love this flashlight, durable, and bright for such a little light', metadata={'rating': 5.0, 'asin': 'B0015UC17E', 'reviewerID': 'A1UIENXX3XXWFR', 'reviewerName': 'Randy Hough', 'summary': 'Best light I have', 'unixReviewTime': 1452038400}),\n",
       " Document(page_content='Great flashlight super bright.', metadata={'rating': 5.0, 'asin': 'B0015UC17E', 'reviewerID': 'AT9KBXOV686CI', 'reviewerName': 'jonathan brown', 'summary': 'Five Stars', 'unixReviewTime': 1494720000}),\n",
       " Document(page_content='Best flashlight I have ever bought.', metadata={'rating': 5.0, 'asin': 'B0015UC17E', 'reviewerID': 'A1CJAYJ5H5JGQB', 'reviewerName': 'Michael Anderson', 'summary': 'Five Stars', 'unixReviewTime': 1407369600}),\n",
       " Document(page_content='Awesome flashlight!', metadata={'rating': 5.0, 'asin': 'B0015UC17E', 'reviewerID': 'A3BULY2CCSKYI6', 'reviewerName': 'Amazon Customer', 'summary': 'Five Stars', 'unixReviewTime': 1501718400}),\n",
       " Document(page_content='Great flashlight. Its strong and durable and extremely bright.', metadata={'rating': 5.0, 'asin': 'B0015UC17E', 'reviewerID': 'A2OA47947M19YG', 'reviewerName': 'Amazon Customer', 'summary': 'Five Stars', 'unixReviewTime': 1500681600}),\n",
       " Document(page_content='great flashlight---bright bright bright', metadata={'rating': 5.0, 'asin': 'B0015UC17E', 'reviewerID': 'A17CYR47ML037L', 'reviewerName': 'Herman Jennings Flippen', 'summary': 'Five Stars', 'unixReviewTime': 1420848000}),\n",
       " Document(page_content='A fantastic little flashlight.  Very bright.', metadata={'rating': 5.0, 'asin': 'B0015UC17E', 'reviewerID': 'A3KGI09S3K410V', 'reviewerName': 'Fred A. Larson', 'summary': 'Five Stars', 'unixReviewTime': 1483228800}),\n",
       " Document(page_content='One of the best flashlights I have owned', metadata={'rating': 5.0, 'asin': 'B0015UC17E', 'reviewerID': 'A1V5EVWGSTJRIT', 'reviewerName': 'robert worthen', 'summary': 'Great', 'unixReviewTime': 1485216000}),\n",
       " Document(page_content='Wonderful small flashlight', metadata={'rating': 5.0, 'asin': 'B0015UC17E', 'reviewerID': 'A3SN5NNSCUIPJZ', 'reviewerName': 'Gary T', 'summary': 'Five Stars', 'unixReviewTime': 1467936000}),\n",
       " Document(page_content=\"Love this flashlight probably one of the best that I've ever owned.\", metadata={'rating': 5.0, 'asin': 'B0015UC17E', 'reviewerID': 'A92FEV0H1VBWC', 'reviewerName': 'Jerry Cooper', 'summary': 'Five Stars', 'unixReviewTime': 1447372800}),\n",
       " Document(page_content='Great flashlight and perfectly compact!', metadata={'rating': 5.0, 'asin': 'B0015UC17E', 'reviewerID': 'A1BGA64OFHWOHD', 'reviewerName': 'Erica', 'summary': 'Five Stars', 'unixReviewTime': 1484265600}),\n",
       " Document(page_content='Great flashlight at a great price.', metadata={'rating': 5.0, 'asin': 'B0015UC17E', 'reviewerID': 'A1COETHJZOLHDC', 'reviewerName': 'I enjoy playing the game.', 'summary': 'Five Stars', 'unixReviewTime': 1521244800}),\n",
       " Document(page_content='Great flashlight. Perfect compact size.', metadata={'rating': 5.0, 'asin': 'B0015UC17E', 'reviewerID': 'A1824NZJZURCZK', 'reviewerName': 'Amanda Lariscey', 'summary': 'Five Stars', 'unixReviewTime': 1426550400}),\n",
       " Document(page_content='Awesome flashlight!!', metadata={'rating': 5.0, 'asin': 'B0015UC17E', 'reviewerID': 'A11IW0C31JRWBW', 'reviewerName': 'cacey', 'summary': 'Streamlight is on point', 'unixReviewTime': 1501718400}),\n",
       " Document(page_content=\"This is by far the best flashlight I've ever owned. Highly recommended\", metadata={'rating': 5.0, 'asin': 'B0015UC17E', 'reviewerID': 'A2ODFA5BP4LX4J', 'reviewerName': 'Snoop', 'summary': 'Bright af', 'unixReviewTime': 1457308800}),\n",
       " Document(page_content='This is the best little flashlight that I have ever bought.', metadata={'rating': 5.0, 'asin': 'B0015UC17E', 'reviewerID': 'A1G2IIWFIDZB4F', 'reviewerName': 'T', 'summary': 'Five Stars', 'unixReviewTime': 1421971200}),\n",
       " Document(page_content=\"This flashlight is awesome it's bright and it fits like a pen in your pocket.\", metadata={'rating': 5.0, 'asin': 'B0015UC17E', 'reviewerID': 'A2NICT7CETWKX0', 'reviewerName': 'joe scott', 'summary': \"Don't even think about it !! Just buy one\", 'unixReviewTime': 1461801600}),\n",
       " Document(page_content='Really bright, good quality flashlight.', metadata={'rating': 5.0, 'asin': 'B0015UC17E', 'reviewerID': 'A29JVBE4Q9W960', 'reviewerName': 'Matt', 'summary': 'good quality flashlight', 'unixReviewTime': 1417305600}),\n",
       " Document(page_content='This is awesome flashlight. Really bright.. useful for work and at home', metadata={'rating': 5.0, 'asin': 'B0015UC17E', 'reviewerID': 'A1UBBOGLN8S8B0', 'reviewerName': 'texmex1989', 'summary': 'TexMex89', 'unixReviewTime': 1430611200}),\n",
       " Document(page_content='Great Flashlight!!', metadata={'rating': 5.0, 'asin': 'B0015UC17E', 'reviewerID': 'A3I6XL6JAGBZDB', 'reviewerName': 'Randy Kidder', 'summary': 'Five Stars', 'unixReviewTime': 1442188800}),\n",
       " Document(page_content='Great flashlight, very bright for its size.', metadata={'rating': 5.0, 'asin': 'B0015UC17E', 'reviewerID': 'A15PXMPFDJDPDP', 'reviewerName': 'John Dee', 'summary': 'The perfect pocket pen light', 'unixReviewTime': 1458518400}),\n",
       " Document(page_content='Love this flashlight ....small but bright!', metadata={'rating': 5.0, 'asin': 'B0015UC17E', 'reviewerID': 'A2IJDV3LHEM4P', 'reviewerName': 'Shawn', 'summary': 'Great product', 'unixReviewTime': 1470441600}),\n",
       " Document(page_content='Great flashlights', metadata={'rating': 5.0, 'asin': 'B0015UC17E', 'reviewerID': 'A2UJAIAXGM5DQS', 'reviewerName': 'Jeff Fulton', 'summary': 'Five Stars', 'unixReviewTime': 1483401600}),\n",
       " Document(page_content='Great little flashlight', metadata={'rating': 4.0, 'asin': 'B0015UC17E', 'reviewerID': 'A2J8280DGZKSYZ', 'reviewerName': 'Dodgypics', 'summary': 'Four Stars', 'unixReviewTime': 1420675200}),\n",
       " Document(page_content='The flashlight works great. The quality is one of the best I have ever used.', metadata={'rating': 5.0, 'asin': 'B0015UC17E', 'reviewerID': 'A1K8AEU4D6U3MP', 'reviewerName': 'Amazon Customer', 'summary': 'Five Stars', 'unixReviewTime': 1515369600}),\n",
       " Document(page_content='This is a fantastic little flashlight and I would recommend it to anyone.', metadata={'rating': 5.0, 'asin': 'B0015UC17E', 'reviewerID': 'A17C2QDK8U64ME', 'reviewerName': 'Ron', 'summary': 'Five Stars', 'unixReviewTime': 1485648000}),\n",
       " Document(page_content='This little flashlight is BRIGHT!', metadata={'rating': 5.0, 'asin': 'B0015UC17E', 'reviewerID': 'A1AUG9F343EPVZ', 'reviewerName': 'pg', 'summary': 'Bright', 'unixReviewTime': 1421366400}),\n",
       " Document(page_content='Awesome little flashlight. Bright as hell for the size and very lightweight', metadata={'rating': 5.0, 'asin': 'B0015UC17E', 'reviewerID': 'A2J3MRWHMHK0T0', 'reviewerName': 'charles bye', 'summary': 'Five Stars', 'unixReviewTime': 1483574400}),\n",
       " Document(page_content='Great flashlight!\\nLight weight, portable and bright.', metadata={'rating': 5.0, 'asin': 'B0015UC17E', 'reviewerID': 'A3FES9SV70SWOD', 'reviewerName': 'Drea585', 'summary': 'Five Stars', 'unixReviewTime': 1420588800}),\n",
       " Document(page_content='Awesome flashlight. Very impressed!', metadata={'rating': 5.0, 'asin': 'B0015UC17E', 'reviewerID': 'AURUQGZJNDX5Q', 'reviewerName': 'Amazon Customer', 'summary': 'Great buy!', 'unixReviewTime': 1471219200}),\n",
       " Document(page_content='best flashlight i ever had', metadata={'rating': 5.0, 'asin': 'B0015UC17E', 'reviewerID': 'A2G7X5F8DOU3CR', 'reviewerName': 'Kent S.', 'summary': 'Five Stars', 'unixReviewTime': 1432598400}),\n",
       " Document(page_content='good flashlight', metadata={'rating': 5.0, 'asin': 'B0015UC17E', 'reviewerID': 'A2U1YURTEUDUSH', 'reviewerName': 'Brandon Alford', 'summary': 'Five Stars', 'unixReviewTime': 1481846400}),\n",
       " Document(page_content='A great flashlight to carry.', metadata={'rating': 5.0, 'asin': 'B0015UC17E', 'reviewerID': 'A2UZISCQF7QP8J', 'reviewerName': 'Michael R. Zalinski', 'summary': 'Five Stars', 'unixReviewTime': 1417392000}),\n",
       " Document(page_content='Great Flashlight and Fantastic deal', metadata={'rating': 5.0, 'asin': 'B0015UC17E', 'reviewerID': 'AL1OTUXM0TZM2', 'reviewerName': 'Robert Scagnelli', 'summary': 'Great Flashlight!!', 'unixReviewTime': 1482710400}),\n",
       " Document(page_content='Great flashlight handy and durable.', metadata={'rating': 5.0, 'asin': 'B0015UC17E', 'reviewerID': 'A1BD6IWBKY45I9', 'reviewerName': 'Mark Aszmann', 'summary': 'Five Stars', 'unixReviewTime': 1482624000}),\n",
       " Document(page_content='Dang good flashlight!', metadata={'rating': 5.0, 'asin': 'B0015UC17E', 'reviewerID': 'A1HINWYVW7SMUR', 'reviewerName': 'Amazon Customer', 'summary': 'Five Stars', 'unixReviewTime': 1485561600}),\n",
       " Document(page_content='Love this flashlight,  comes in very handy and very bright too', metadata={'rating': 5.0, 'asin': 'B0015UC17E', 'reviewerID': 'A3SZMI8EZH1UDQ', 'reviewerName': 'Serge James Shubin', 'summary': 'Five Stars', 'unixReviewTime': 1518912000}),\n",
       " Document(page_content='Best flashlight ever nice n compact great battery life', metadata={'rating': 4.0, 'asin': 'B0015UC17E', 'reviewerID': 'A27RU825Q0P0PP', 'reviewerName': 'Charles Platt', 'summary': 'Four Stars', 'unixReviewTime': 1524873600}),\n",
       " Document(page_content='Love the size of this flashlight. It has a nice bright light on it. It is light weight as well.', metadata={'rating': 5.0, 'asin': 'B0015UC17E', 'reviewerID': 'AVSM0BZ1XJOEF', 'reviewerName': 'Shawn', 'summary': 'Love the size of this flashlight', 'unixReviewTime': 1483574400}),\n",
       " Document(page_content='Great flash light.', metadata={'rating': 4.0, 'asin': 'B0015UC17E', 'reviewerID': 'A12G97Q4HYZ57J', 'reviewerName': 'Carlos Beltran', 'summary': 'Four Stars', 'unixReviewTime': 1478563200}),\n",
       " Document(page_content='One of my favorite flashlights.', metadata={'rating': 5.0, 'asin': 'B0015UC17E', 'reviewerID': 'A3MYJB2DUQE36X', 'reviewerName': 'spiritwalker', 'summary': 'Five Stars', 'unixReviewTime': 1431043200}),\n",
       " Document(page_content='Great and powerful flashlight. Awesome for EDC.', metadata={'rating': 5.0, 'asin': 'B0015UC17E', 'reviewerID': 'A3FYLM454H1DJE', 'reviewerName': 'Victor', 'summary': 'Five Stars', 'unixReviewTime': 1493596800}),\n",
       " Document(page_content='Very bright!!! Love this flashlight.', metadata={'rating': 5.0, 'asin': 'B0015UC17E', 'reviewerID': 'ABSKCPA7BI4QK', 'reviewerName': 'cam', 'summary': 'Excellent purchase', 'unixReviewTime': 1512000000}),\n",
       " Document(page_content=\"Great flashlight I don't buy any other\", metadata={'rating': 5.0, 'asin': 'B0015UC17E', 'reviewerID': 'A3JRE9YP2FSSOB', 'reviewerName': 'jaytistic', 'summary': 'Great Flashlight', 'unixReviewTime': 1413417600}),\n",
       " Document(page_content='This is a really GOOD flashlight , I give it a 10', metadata={'rating': 5.0, 'asin': 'B0015UC17E', 'reviewerID': 'AZELQ6HI96BDF', 'reviewerName': 'blur bass', 'summary': 'Five Stars', 'unixReviewTime': 1457913600}),\n",
       " Document(page_content='This is a good, small, sturdy flashlight which casts a good light. I love it.', metadata={'rating': 5.0, 'asin': 'B0015UC17E', 'reviewerID': 'ASUG4OZQS0JN4', 'reviewerName': 'M. Alexander', 'summary': 'Five Stars', 'unixReviewTime': 1510876800}),\n",
       " Document(page_content='Great flashlight. Strong durable body.', metadata={'rating': 5.0, 'asin': 'B0015UC17E', 'reviewerID': 'ALC5F5V3FJRNF', 'reviewerName': 'Amazon Customer', 'summary': 'Five Stars', 'unixReviewTime': 1522886400}),\n",
       " Document(page_content='Best flashlight I have. Perfectly sized and portable, plenty bright, and highly durable.', metadata={'rating': 5.0, 'asin': 'B0015UC17E', 'reviewerID': 'A17HZ2DBRS958A', 'reviewerName': 'Evan', 'summary': 'Five Stars', 'unixReviewTime': 1413244800}),\n",
       " Document(page_content='This is the best little flashlight I have ever owned, very bright and lots of light from a little source.', metadata={'rating': 5.0, 'asin': 'B0015UC17E', 'reviewerID': 'A1IXIP7X2NTTQJ', 'reviewerName': 'Dennis L Rundlett', 'summary': 'the best', 'unixReviewTime': 1355356800}),\n",
       " Document(page_content='Perfect flashlight for EDC', metadata={'rating': 5.0, 'asin': 'B0015UC17E', 'reviewerID': 'A126ZHYPX7AZL0', 'reviewerName': 'Ugh, that guy', 'summary': 'Five Stars', 'unixReviewTime': 1485475200}),\n",
       " Document(page_content='Great work flashlight', metadata={'rating': 5.0, 'asin': 'B0015UC17E', 'reviewerID': 'AE1600FJ0L4HQ', 'reviewerName': 'Amazon Customer', 'summary': 'Five Stars', 'unixReviewTime': 1478476800}),\n",
       " Document(page_content='great flashlight... very good quality', metadata={'rating': 5.0, 'asin': 'B0015UC17E', 'reviewerID': 'A36T0JKV5ZLRK5', 'reviewerName': 'Ibrahin D.', 'summary': 'Five Stars', 'unixReviewTime': 1505952000}),\n",
       " Document(page_content='great flashlight cant be without it', metadata={'rating': 5.0, 'asin': 'B0015UC17E', 'reviewerID': 'AGNH7789TIE68', 'reviewerName': 'iSAAC', 'summary': 'Five Stars', 'unixReviewTime': 1475971200}),\n",
       " Document(page_content='This is a great flashlight and is very helpful in job usage. My people are very happy with it.', metadata={'rating': 5.0, 'asin': 'B0015UC17E', 'reviewerID': 'A2BWV8RZRHRIMY', 'reviewerName': 'Michael J. Hutchings', 'summary': 'Five Stars', 'unixReviewTime': 1436140800}),\n",
       " Document(page_content='Great little flashlight!', metadata={'rating': 4.0, 'asin': 'B0015UC17E', 'reviewerID': 'A8HJQLUO864QH', 'reviewerName': 'Bigfatnerd', 'summary': 'Four Stars', 'unixReviewTime': 1441756800}),\n",
       " Document(page_content='Awesome flashlight. Very bright, easy to use and carry. Never leave home without it.', metadata={'rating': 5.0, 'asin': 'B0015UC17E', 'reviewerID': 'A364TCLBZ2VW5T', 'reviewerName': 'Alfonso Tobias', 'summary': 'Awesome', 'unixReviewTime': 1460937600}),\n",
       " Document(page_content='Good flashlight. Easy to carry.', metadata={'rating': 3.0, 'asin': 'B0015UC17E', 'reviewerID': 'A13MRLZ5JGD4WB', 'reviewerName': 'Customer 747', 'summary': 'Three Stars', 'unixReviewTime': 1458518400}),\n",
       " Document(page_content='This is a great flashlight. I use it for work and for hiking.', metadata={'rating': 5.0, 'asin': 'B0015UC17E', 'reviewerID': 'A1T400HEFJDUW', 'reviewerName': 'LS', 'summary': 'Five Stars', 'unixReviewTime': 1490486400}),\n",
       " Document(page_content='This is a great flashlight. It is extremely bright and has good battery life. I am going to get a few more to keep around the house and in the vehicles.', metadata={'rating': 5.0, 'asin': 'B0015UC17E', 'reviewerID': 'A3NV1YRWHY9ETY', 'reviewerName': 'Charles', 'summary': 'Great Flashlight', 'unixReviewTime': 1318636800}),\n",
       " Document(page_content='Good LED flashlight', metadata={'rating': 4.0, 'asin': 'B0015UC17E', 'reviewerID': 'A24MO78G92NEMP', 'reviewerName': 'Tim.nguyen@va.gov', 'summary': 'LED pen Flashlight', 'unixReviewTime': 1450569600}),\n",
       " Document(page_content='The flashlight is light and fits perfectly in the pocket', metadata={'rating': 5.0, 'asin': 'B0015UC17E', 'reviewerID': 'A3FS4QPW26L2RD', 'reviewerName': 'Adrian A. Franco', 'summary': 'Five Stars', 'unixReviewTime': 1454025600}),\n",
       " Document(page_content='Awesome flashlight, small, yet powerful !', metadata={'rating': 5.0, 'asin': 'B0015UC17E', 'reviewerID': 'AXKAQDABD88Q6', 'reviewerName': 'David Lovejoy', 'summary': 'Five Stars', 'unixReviewTime': 1476662400}),\n",
       " Document(page_content='Great flashlight, would buy again.', metadata={'rating': 5.0, 'asin': 'B0015UC17E', 'reviewerID': 'A2PQHDTWEGNQZX', 'reviewerName': 'Hiram7', 'summary': 'Five Stars', 'unixReviewTime': 1523404800}),\n",
       " Document(page_content=\"This is an awesome flashlight. Very small. Very bright. Well made. Fits in any pocket and you'll never have to lug a regular flashlight again.\", metadata={'rating': 5.0, 'asin': 'B0015UC17E', 'reviewerID': 'APV6XS3FWUGRX', 'reviewerName': 'Amazon Customer', 'summary': 'Small. Bright. Durable.', 'unixReviewTime': 1501632000}),\n",
       " Document(page_content='This little flashlight is amazing! Its compact and is super bright and durable! I will definitely buy another if this one ever gets lost!', metadata={'rating': 5.0, 'asin': 'B0015UC17E', 'reviewerID': 'A1SHRZ6355ZLLZ', 'reviewerName': 'Jesus Ferreira', 'summary': 'Awesome!!', 'unixReviewTime': 1506988800}),\n",
       " Document(page_content=\"By far the best flashlight I've ever used! For a flashlight this size it sure is BRIGHT! Definitely getting your money's worth on this item!!\", metadata={'rating': 5.0, 'asin': 'B0015UC17E', 'reviewerID': 'A3MVNG0C9EZ295', 'reviewerName': 'Levi Moore', 'summary': 'WORTH EVERY PENNY!!', 'unixReviewTime': 1391212800}),\n",
       " Document(page_content=\"For the money, this flashlight can't be beat. Very sturdy and bright.\", metadata={'rating': 5.0, 'asin': 'B0015UC17E', 'reviewerID': 'A2KA4DWO4JKWTW', 'reviewerName': 'Mi.Tom', 'summary': 'Great light', 'unixReviewTime': 1425254400}),\n",
       " Document(page_content='Excellent flashlight, very bright for its size, durable, and fits in pocket or toolbox without taking up hardly any space', metadata={'rating': 5.0, 'asin': 'B0015UC17E', 'reviewerID': 'A3VJSODPWKAL62', 'reviewerName': 'Justin Jurmain', 'summary': 'Excellent flashlight, very bright for its size', 'unixReviewTime': 1444262400}),\n",
       " Document(page_content='Nice flash light and very bright for it size', metadata={'rating': 5.0, 'asin': 'B0015UC17E', 'reviewerID': 'ASTLCR9N93V56', 'reviewerName': 'cesar', 'summary': 'Five Stars', 'unixReviewTime': 1514764800}),\n",
       " Document(page_content='EXCELLENT Flashlight! Great Quality. Very Bright.', metadata={'rating': 5.0, 'asin': 'B0015UC17E', 'reviewerID': 'A2ZYTEIXSTXN6J', 'reviewerName': 'Charlie', 'summary': 'Five Stars', 'unixReviewTime': 1491609600}),\n",
       " Document(page_content='Great pocket flashlight, very bright.', metadata={'rating': 5.0, 'asin': 'B0015UC17E', 'reviewerID': 'A341OQN7I76XGS', 'reviewerName': 'Reldnahc', 'summary': 'Five Stars', 'unixReviewTime': 1451433600}),\n",
       " Document(page_content='This is a very good flashlight. It is very handy and it fits in your shirt pocket.', metadata={'rating': 5.0, 'asin': 'B0015UC17E', 'reviewerID': 'A2RW4S3XVHZ7OT', 'reviewerName': 'Ron', 'summary': 'Five Stars', 'unixReviewTime': 1488758400}),\n",
       " Document(page_content='Another awesome flashlight from steamlight', metadata={'rating': 5.0, 'asin': 'B0015UC17E', 'reviewerID': 'A1F71U7MR2XM56', 'reviewerName': 'Steve', 'summary': 'Five Stars', 'unixReviewTime': 1513296000}),\n",
       " Document(page_content=\"Best flashlight I've ever had very tough\", metadata={'rating': 5.0, 'asin': 'B0015UC17E', 'reviewerID': 'AHYQEWKKAQ5KK', 'reviewerName': 'Charlie Shenshew', 'summary': 'Five Stars', 'unixReviewTime': 1416528000}),\n",
       " Document(page_content='Great flashlight worth every cent.', metadata={'rating': 5.0, 'asin': 'B0015UC17E', 'reviewerID': 'AEY88N74UOVNW', 'reviewerName': 'Amazon Customer', 'summary': 'Five Stars', 'unixReviewTime': 1454803200}),\n",
       " Document(page_content=\"I love this flashlight! I will be buying more. Fits perfectly in bag or a pocket, is really bright and is of good build quality. For the price you can't go wrong.\", metadata={'rating': 5.0, 'asin': 'B0015UC17E', 'reviewerID': 'A3VFSI236MYL1A', 'reviewerName': 'Nicholas Willis', 'summary': 'Love this flashlight', 'unixReviewTime': 1370563200}),\n",
       " Document(page_content='Nice flashlight, super bright. Light weight and very sturdy( I have dropped it several times and it still works!)', metadata={'rating': 5.0, 'asin': 'B0015UC17E', 'reviewerID': 'A2T3T7W5N9JEZ', 'reviewerName': 'Jeff Millenson', 'summary': 'Awesome Flashlight', 'unixReviewTime': 1420848000}),\n",
       " Document(page_content='Awesome little flashlight. Tuff and simple', metadata={'rating': 5.0, 'asin': 'B0015UC17E', 'reviewerID': 'A2CH38WUFM2ZK0', 'reviewerName': 'TheBigD', 'summary': 'huge amount of light in a small package', 'unixReviewTime': 1431820800})]"
      ]
     },
     "execution_count": 70,
     "metadata": {},
     "output_type": "execute_result"
    }
   ],
   "source": [
    "docs"
   ]
  },
  {
   "cell_type": "code",
   "execution_count": 54,
   "metadata": {},
   "outputs": [],
   "source": [
    "# Load Chat Model and summarize chain for writing summary of reviews and ad copy\n",
    "from langchain.prompts import PromptTemplate\n",
    "from langchain.chat_models import ChatOpenAI\n",
    "from langchain.chains.summarize import load_summarize_chain\n",
    "\n",
    "#chat = ChatOpenAI(model_name=\"gpt-4\",temperature=0.2)\n",
    "chat = ChatOpenAI(model_name=\"gpt-3.5-turbo\",temperature=0.2)"
   ]
  },
  {
   "cell_type": "code",
   "execution_count": 71,
   "metadata": {},
   "outputs": [],
   "source": [
    "# Write summary of reviews\n",
    "prompt_template_summary = \"\"\"\n",
    "Write a summary of the reviews:\n",
    "\n",
    "{text}\n",
    "\n",
    "The summary should be about ten lines long.\n",
    "\"\"\"\n",
    "PROMPT = PromptTemplate(template=prompt_template_summary, input_variables=[\"text\"])\n",
    "chain = load_summarize_chain(chat, chain_type=\"stuff\", prompt=PROMPT)\n",
    "summary=chain.run(docs)"
   ]
  },
  {
   "cell_type": "code",
   "execution_count": 56,
   "metadata": {},
   "outputs": [
    {
     "data": {
      "text/plain": [
       "'The majority of the reviews for this flashlight are overwhelmingly positive. Many customers describe it as a great, excellent, or awesome flashlight that is very bright and durable. Some reviewers mention that it is the best flashlight they have ever owned and highly recommend it. Customers appreciate the compact size and portability of the flashlight, as well as its strong and sturdy build quality. Many reviewers mention that the flashlight is bright for its size and has good battery life. Overall, customers are very satisfied with this flashlight and find it to be a great value for the price.'"
      ]
     },
     "execution_count": 56,
     "metadata": {},
     "output_type": "execute_result"
    }
   ],
   "source": [
    "summary"
   ]
  },
  {
   "cell_type": "code",
   "execution_count": 84,
   "metadata": {},
   "outputs": [],
   "source": [
    "# Write ad copy for Facebook ad\n",
    "\n",
    "prompt_template_fb = \"\"\"\n",
    "Write the copy for a facebook ad based on the reviews:\n",
    "\n",
    "{text}\n",
    "\n",
    "As far as text goes, you can have up to 40 characters in your headline, \n",
    "125 characters in your primary text, and 30 characters in your description. \n",
    "Include emoji. The description should have a quote from a reviewer.\n",
    "\"\"\"\n",
    "PROMPT = PromptTemplate(template=prompt_template_fb, input_variables=[\"text\"])\n",
    "chain = load_summarize_chain(chat, chain_type=\"stuff\", prompt=PROMPT)\n",
    "fb_copy=chain.run(docs)"
   ]
  },
  {
   "cell_type": "code",
   "execution_count": 85,
   "metadata": {},
   "outputs": [
    {
     "data": {
      "text/plain": [
       "'🔦 The Best Flashlight Ever! 💡\\n⭐⭐⭐⭐⭐ \"This flashlight is amazing!\" - John\\nGet yours today and experience the power and durability of our top-rated flashlight. Don\\'t miss out, shop now! 💪🔦✨\\n#Flashlight #BrightLights #MustHave'"
      ]
     },
     "execution_count": 85,
     "metadata": {},
     "output_type": "execute_result"
    }
   ],
   "source": [
    "fb_copy"
   ]
  },
  {
   "cell_type": "code",
   "execution_count": 36,
   "metadata": {},
   "outputs": [
    {
     "data": {
      "text/plain": [
       "166134    phil.miesle+VoiceOfCustomer_A39XFGZ0ASWT7O@dat...\n",
       "166135    phil.miesle+VoiceOfCustomer_A1UA6TH2XRK9ZX@dat...\n",
       "166136    phil.miesle+VoiceOfCustomer_A8XV9SMUW4OT4@data...\n",
       "166137    phil.miesle+VoiceOfCustomer_A1PY6V6J7K5G84@dat...\n",
       "166138    phil.miesle+VoiceOfCustomer_A1SXP6OD7J3A91@dat...\n",
       "Name: email, dtype: object"
      ]
     },
     "execution_count": 36,
     "metadata": {},
     "output_type": "execute_result"
    }
   ],
   "source": [
    "from faker import Faker\n",
    "faker = Faker()\n",
    "\n",
    "\n",
    "\n",
    "df['first_name']=df.apply(lambda row: faker.first_name(), axis=1)\n",
    "\n",
    "gmail_username='phil.miesle'\n",
    "gmail_domain='datastax.com'\n",
    "demo_id = 'VoiceOfCustomer'\n",
    "df['email'] = df.apply(lambda row: f\"{gmail_username}+{demo_id}_{row['reviewerID']}@{gmail_domain}\", axis=1)\n",
    "df['email'].head()"
   ]
  },
  {
   "cell_type": "code",
   "execution_count": 68,
   "metadata": {},
   "outputs": [],
   "source": []
  },
  {
   "cell_type": "code",
   "execution_count": 60,
   "metadata": {},
   "outputs": [],
   "source": [
    "def formulate_email(email,name,review,summary):\n",
    "    q=f\"\"\"\n",
    "    The customer {name} just gave the following review:\n",
    "    \n",
    "    {review}\n",
    "    \n",
    "    Formulate and send an email to {email} based on the review that {name} gave\n",
    "    and take into account the overall summary of the review given here: '{summary}'. \n",
    "    The email should be signed with the name Benjamin\n",
    "    \"\"\"\n",
    "    return q"
   ]
  },
  {
   "cell_type": "code",
   "execution_count": 61,
   "metadata": {},
   "outputs": [],
   "source": [
    "# Load tools needed for connecting LangChain and Zapier\n",
    "\n",
    "from langchain.agents.agent_toolkits import ZapierToolkit\n",
    "from langchain.utilities.zapier import ZapierNLAWrapper\n",
    "from langchain.agents import initialize_agent\n",
    "zapier = ZapierNLAWrapper()\n",
    "toolkit = ZapierToolkit.from_zapier_nla_wrapper(zapier)"
   ]
  },
  {
   "cell_type": "code",
   "execution_count": 64,
   "metadata": {},
   "outputs": [
    {
     "name": "stdout",
     "output_type": "stream",
     "text": [
      "\n",
      "\n",
      "\u001b[1m> Entering new  chain...\u001b[0m\n",
      "\u001b[32;1m\u001b[1;3m I need to craft an email that summarizes the customer's review and reflects the overall sentiment of the reviews.\n",
      "\n",
      "Action: Gmail: Send Email\n",
      "Action Input: To: phil.miesle+VoiceOfCustomer_A39XFGZ0ASWT7O@datastax.com, Cc: , Subject: Amazon Customer's Review of Flashlight, Body: Dear Phil, \n",
      "\n",
      "Amazon Customer recently gave a review of a flashlight that was overwhelmingly positive. They described it as a great, excellent, or awesome flashlight that is very bright and durable. Customers appreciate the compact size and portability of the flashlight, as well as its strong and sturdy build quality. Many reviewers mention that the flashlight is bright for its size and has good battery life. \n",
      "\n",
      "Overall, customers are very satisfied with this flashlight and find it to be a great value for the price.\n",
      "\n",
      "Sincerely,\n",
      "Benjamin\u001b[0m\n",
      "Observation: \u001b[36;1m\u001b[1;3m{\"id\": \"1893fa4edf0af925\", \"threadId\": \"1893fa4edf0af925\", \"labelIds\": [\"UNREAD\", \"SENT\", \"INBOX\"]}\u001b[0m\n",
      "Thought:\u001b[32;1m\u001b[1;3m I have successfully sent the email.\n",
      "\n",
      "Final Answer: The email has been sent to phil.miesle+VoiceOfCustomer_A39XFGZ0ASWT7O@datastax.com with the subject \"Amazon Customer's Review of Flashlight\" and the body summarizing the customer's review and the overall sentiment of the reviews.\u001b[0m\n",
      "\n",
      "\u001b[1m> Finished chain.\u001b[0m\n",
      "\n",
      "\n",
      "\u001b[1m> Entering new  chain...\u001b[0m\n",
      "\u001b[32;1m\u001b[1;3m I need to craft an email that summarizes the customer's review and overall sentiment of the product\n",
      "Action: Gmail: Send Email\n",
      "Action Input: To: phil.miesle+VoiceOfCustomer_A1UA6TH2XRK9ZX@datastax.com, Cc: , Subject: Customer Review for Flashlight, Body: Dear Phil, \n",
      "\n",
      "Everyman just gave the following review of the flashlight: \n",
      "\n",
      "Lightweight, intense light, easy to operate with one hand- this would be an incredible tool for law enforcement or an emergency responder. I'm buying a few more immediately I doubt one could ask for a more versatile hand held light. The beam is very intense- might even do well as a self-defense item as it is blinding if shone directly in the eyes. Money well spent!\n",
      "\n",
      "The majority of the reviews for this flashlight are overwhelmingly positive. Many customers describe it as a great, excellent, or awesome flashlight that is very bright and durable. Some reviewers mention that it is the best flashlight they have ever owned and highly recommend it. Customers appreciate the compact size and portability of the flashlight, as well as its strong and sturdy build quality. Many reviewers mention that the flashlight is bright for its\u001b[0m\n",
      "Observation: \u001b[36;1m\u001b[1;3m{\"id\": \"1893fa536f373f8e\", \"threadId\": \"1893fa536f373f8e\", \"labelIds\": [\"UNREAD\", \"SENT\", \"INBOX\"]}\u001b[0m\n",
      "Thought:\u001b[32;1m\u001b[1;3m I now know the final answer\n",
      "Final Answer: An email has been sent to phil.miesle+VoiceOfCustomer_A1UA6TH2XRK9ZX@datastax.com with the subject line \"Customer Review for Flashlight\" and the body of the email summarizing the customer's review and overall sentiment of the product, signed with the name Benjamin.\u001b[0m\n",
      "\n",
      "\u001b[1m> Finished chain.\u001b[0m\n",
      "\n",
      "\n",
      "\u001b[1m> Entering new  chain...\u001b[0m\n",
      "\u001b[32;1m\u001b[1;3m I need to compose an email that summarizes the customer's review and expresses their overall satisfaction with the product.\n",
      "\n",
      "Action: Gmail: Send Email\n",
      "Action Input: Cc: phil.miesle+VoiceOfCustomer_A8XV9SMUW4OT4@datastax.com, To: phil.miesle+VoiceOfCustomer_A8XV9SMUW4OT4@datastax.com, Subject: Customer Review of Stylus Pro Flashlight, Body: Dear Phil, \n",
      "\n",
      "Happily Married recently gave a review of the Stylus Pro Flashlight, and the majority of the reviews for this flashlight are overwhelmingly positive. Many customers describe it as a great, excellent, or awesome flashlight that is very bright and durable. Some reviewers mention that it is the best flashlight they have ever owned and highly recommend it. Customers appreciate the compact size and portability of the flashlight, as well as its strong and sturdy build quality. Many reviewers mention that the flashlight is bright for its size and has good battery life. Overall, customers are very satisfied with this flashlight and find it to be a great value for the price. \n",
      "\n",
      "Sincerely, \n",
      "Benjamin\n",
      "\n",
      "Observation\u001b[0m\n",
      "Observation: \u001b[36;1m\u001b[1;3m{\"id\": \"1893fa597b28303c\", \"threadId\": \"1893fa597b28303c\", \"labelIds\": [\"UNREAD\", \"SENT\", \"INBOX\"]}\u001b[0m\n",
      "Thought:\u001b[32;1m\u001b[1;3m I now know the final answer\n",
      "Final Answer: The email has been sent to phil.miesle+VoiceOfCustomer_A8XV9SMUW4OT4@datastax.com with the subject \"Customer Review of Stylus Pro Flashlight\" and signed with the name Benjamin.\u001b[0m\n",
      "\n",
      "\u001b[1m> Finished chain.\u001b[0m\n"
     ]
    },
    {
     "data": {
      "text/plain": [
       "166134    The email has been sent to phil.miesle+VoiceOf...\n",
       "166135    An email has been sent to phil.miesle+VoiceOfC...\n",
       "166136    The email has been sent to phil.miesle+VoiceOf...\n",
       "dtype: object"
      ]
     },
     "execution_count": 64,
     "metadata": {},
     "output_type": "execute_result"
    }
   ],
   "source": [
    "# Instantiate agent and send emails \n",
    "\n",
    "from langchain.llms import OpenAI\n",
    "llm = OpenAI(temperature=0.2)\n",
    "\n",
    "agent = initialize_agent(toolkit.get_tools(), llm, \n",
    "        agent=\"zero-shot-react-description\", verbose=True)\n",
    "\n",
    "df.head(1).apply(lambda row:agent.run(formulate_email(row['email'],\n",
    "                                                      row['first_name'],\n",
    "                                                      row['reviewText'],\n",
    "                                                      summary)),axis=1)"
   ]
  }
 ],
 "metadata": {
  "kernelspec": {
   "display_name": ".venv",
   "language": "python",
   "name": "python3"
  },
  "language_info": {
   "codemirror_mode": {
    "name": "ipython",
    "version": 3
   },
   "file_extension": ".py",
   "mimetype": "text/x-python",
   "name": "python",
   "nbconvert_exporter": "python",
   "pygments_lexer": "ipython3",
   "version": "3.11.4"
  },
  "orig_nbformat": 4
 },
 "nbformat": 4,
 "nbformat_minor": 2
}
