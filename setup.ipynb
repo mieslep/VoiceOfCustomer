{
 "cells": [
  {
   "cell_type": "markdown",
   "metadata": {},
   "source": [
    "# Voice of Customer Demo Setup\n",
    "\n",
    "To simplify the content of the demo, this has been split into \"setup\" and \"demo\" notebooks. This is the Setup notebook.\n",
    "\n",
    "> **Note:** This demo has been created using Python 3.11.4."
   ]
  },
  {
   "cell_type": "markdown",
   "metadata": {},
   "source": [
    "## Setup - Third Party Accounts"
   ]
  },
  {
   "cell_type": "markdown",
   "metadata": {},
   "source": [
    "### OpenAI API Account\n",
    "You will need to have an API account with OpenAI created, see [https://platform.openai.com/](https://platform.openai.com/). From here,\n",
    "you will need to have created an [API key](https://platform.openai.com/account/api-keys).\n",
    "\n",
    "### Astra Database\n",
    "You should have created an Astra Database with Vector Search. If you are unfamiliar with Astra, it would be suggested to follow the\n",
    "\"Getting Started with Vector Search\" quick-start guide, including getting a working Python application.\n",
    "\n",
    "To proceed with this exercise, you'll need:\n",
    "\n",
    "1. Your Secure Connect Bundle (`.zip` file)\n",
    "2. Your Client ID\n",
    "3. Your Client Secret\n",
    "4. A keyspace named `vsearch` (or whatever you'd like to call it, you can set in `.env` file later)\n",
    "\n",
    "### Gmail Account\n",
    "This demo can send emails, and is configured to do so using your Gmail account."
   ]
  },
  {
   "cell_type": "markdown",
   "metadata": {},
   "source": [
    "## Setup - File Downloads\n",
    "\n",
    "The following files are in [VoiceOfCustomer.zip](https://drive.google.com/file/d/1wWganXifTIxgPF-7b6fW0fQm36FAMcqn/view?usp=sharing), which \n",
    "you should download and unzip locally into the root of this project directory."
   ]
  },
  {
   "cell_type": "markdown",
   "metadata": {},
   "source": [
    "### `metadata.parquet.gz`\n",
    "\n",
    "This is product metadata, which has been preprocessed by `cutdownReviews.ipynb`."
   ]
  },
  {
   "cell_type": "markdown",
   "metadata": {},
   "source": [
    "### `reviews.parquet.gz`\n",
    "\n",
    "This is the reference Amazon customer reviews, which has been preprocessed by `cutdownReviews.ipynb`."
   ]
  }
 ],
 "metadata": {
  "language_info": {
   "name": "python"
  },
  "orig_nbformat": 4
 },
 "nbformat": 4,
 "nbformat_minor": 2
}
