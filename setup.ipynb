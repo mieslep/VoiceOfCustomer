{
 "cells": [
  {
   "cell_type": "markdown",
   "metadata": {},
   "source": [
    "# Voice of Customer Demo Setup\n",
    "\n",
    "To simplify the content of the demo, this has been split into \"setup\" and \"demo\" notebooks. This is the Setup notebook.\n",
    "\n",
    "> **Note:** This demo has been created using Python 3.11.4."
   ]
  },
  {
   "cell_type": "markdown",
   "metadata": {},
   "source": [
    "# Setup - Third Party Accounts"
   ]
  },
  {
   "cell_type": "markdown",
   "metadata": {},
   "source": [
    "## OpenAI API Account"
   ]
  },
  {
   "cell_type": "markdown",
   "metadata": {},
   "source": [
    "You will need to have an API account with OpenAI created, see [https://platform.openai.com/](https://platform.openai.com/). From here,\n",
    "you will need to have created an [API key](https://platform.openai.com/account/api-keys).\n",
    "\n",
    "To proceed with this exercise, you'll need:\n",
    "\n",
    "1. Your OpenAI API key"
   ]
  },
  {
   "cell_type": "markdown",
   "metadata": {},
   "source": [
    "## Astra Database"
   ]
  },
  {
   "cell_type": "markdown",
   "metadata": {},
   "source": [
    "You should have created an Astra Database with Vector Search. If you are unfamiliar with Astra, it would be suggested to follow the\n",
    "\"Getting Started with Vector Search\" quick-start guide, including getting a working Python application.\n",
    "\n",
    "To proceed with this exercise, you'll need:\n",
    "\n",
    "1. Your Secure Connect Bundle (`.zip` file)\n",
    "2. Your Client ID\n",
    "3. Your Client Secret\n",
    "4. A keyspace named `vsearch` (or whatever you'd like to call it, you can set in `.env` file later)"
   ]
  },
  {
   "cell_type": "markdown",
   "metadata": {},
   "source": [
    "## Send Email - Zapier Toolkit"
   ]
  },
  {
   "cell_type": "markdown",
   "metadata": {},
   "source": [
    "While there is a GmailToolkit available within Langchain, it was found to be too unreliable for demo purpposes.\n",
    "As an alternative, we can use the ZapierNLAToolkit, which is a simple wrapper around the Zapier API.\n",
    "\n",
    "Follow the instructions [here](https://nla.zapier.com/start/), specifically:\n",
    "\n",
    "1. Choose API Key authentication\n",
    "2. Create an NLS Development Action, for example \"Gmail: Send Email\"\n",
    "\n",
    "To use the \"send email\" portion of this exercise, you'll need:\n",
    "\n",
    "1. Your Zapier NLA API Key"
   ]
  },
  {
   "cell_type": "markdown",
   "metadata": {},
   "source": [
    "# Setup - File Downloads\n",
    "\n",
    "The following files are in [VoiceOfCustomer.zip](https://drive.google.com/file/d/1oReQlv8kAWXyLgNSmqBdwm3aNgByQK8_/view?usp=sharing), which \n",
    "you should download and unzip locally into the root of this project directory."
   ]
  },
  {
   "cell_type": "markdown",
   "metadata": {},
   "source": [
    "## `metadata.parquet.gz`\n",
    "\n",
    "This is product metadata, which has been preprocessed by `cutdownReviews.ipynb`. This is needed if you want to run `createEmbeddings.ipynb`."
   ]
  },
  {
   "cell_type": "markdown",
   "metadata": {},
   "source": [
    "## `reviews.parquet.gz`\n",
    "\n",
    "This is the reference Amazon customer reviews, which has been preprocessed by `cutdownReviews.ipynb`. This is needed if you want to run `createEmbeddings.ipynb`."
   ]
  },
  {
   "cell_type": "markdown",
   "metadata": {},
   "source": [
    "## `B0015UC17E.reviews-embeddings-text-embedding-ada-002.parquet.gz`\n",
    "\n",
    "These are the embeddings for the reviews of a single product `B0016UC17E`, which have been preprocessed by `embedReviews.ipynb`. This will allow you to not \n",
    "have to wait (or pay) for embedding generation."
   ]
  },
  {
   "cell_type": "markdown",
   "metadata": {},
   "source": [
    "# Python Module Installs"
   ]
  },
  {
   "cell_type": "code",
   "execution_count": 1,
   "metadata": {},
   "outputs": [
    {
     "name": "stdout",
     "output_type": "stream",
     "text": [
      "Note: you may need to restart the kernel to use updated packages.\n"
     ]
    }
   ],
   "source": [
    "%pip install -qU \\\n",
    "    tiktoken \\\n",
    "    ipywidgets \\\n",
    "    pandas \\\n",
    "    pyarrow \\\n",
    "    langchain \\\n",
    "    openai \\\n",
    "    python_dotenv \\\n",
    "    aiometer \\\n",
    "    cassandra-driver \\\n",
    "    tqdm \\\n",
    "    streamlit    "
   ]
  },
  {
   "cell_type": "markdown",
   "metadata": {},
   "source": [
    "# Set up a `.env` File"
   ]
  },
  {
   "cell_type": "markdown",
   "metadata": {},
   "source": [
    "The example code uses `dot_env` to load variables into the environment. This file reside in the root of the project and should contain:\n",
    "```\n",
    "OPENAI_API_KEY=\"<Your OpenAI API key>\"\n",
    "ASTRA_SECUREBUNDLE_PATH=\"<your/path/to/secure-connect-database.zip>\"\n",
    "ASTRA_CLIENT_ID=\"<Your Client ID\"\n",
    "ASTRA_CLIENT_SECRET=\"<Your Client Secret>\"\n",
    "ZAPIER_NLA_API_KEY=\"<Your Zapier NLA API Key>\"\n",
    "EMAIL_RECIPIENT=\"<Your email address>\"\n",
    "```\n",
    "Note that the secure connect bundle path is relative to the root of this project directory. The keyspace and table names should be amended to match your keyspace and table names."
   ]
  },
  {
   "cell_type": "markdown",
   "metadata": {},
   "source": [
    "# Review/Modify `CONSTANTS.py`"
   ]
  },
  {
   "cell_type": "markdown",
   "metadata": {},
   "source": [
    "`CONSTANTS.py` contains a number of constants that are used throughout the demo. You should review these and modify as necessary.\n",
    "\n",
    "| Constant | Description |\n",
    "| --- | --- |\n",
    "| `embed_model` | The name of the OpenAI embedding model to use. |\n",
    "| `embed_dimensions` | The number of dimensions of the embedding model. |\n",
    "| `chat_model_name` | The name of the OpenAI chat model to use. |\n",
    "| `keyspace_name` | The name of the keyspace in the Astra database. This keyspace must exist. |\n",
    "| `table_name` | The name of the table in the Astra database. It will be created by `loadAstra.py` |\n"
   ]
  },
  {
   "cell_type": "markdown",
   "metadata": {},
   "source": [
    "# Environment Validation\n",
    "This code validates the environment is ready to go: it can connect to OpenAI API as well as Astra."
   ]
  },
  {
   "cell_type": "markdown",
   "metadata": {},
   "source": [
    "## Verify `.env` file is set up"
   ]
  },
  {
   "cell_type": "code",
   "execution_count": 2,
   "metadata": {},
   "outputs": [],
   "source": [
    "import os\n",
    "from dotenv import load_dotenv\n",
    "if not load_dotenv('.env',override=True):\n",
    "    raise Exception(\"Couldn't load .env file\")\n",
    "\n",
    "envVars = ['OPENAI_API_KEY','ASTRA_SECUREBUNDLE_PATH','ASTRA_CLIENT_ID','ASTRA_CLIENT_SECRET']\n",
    "missing = []\n",
    "\n",
    "for var in envVars:\n",
    "    if var not in os.environ:\n",
    "        missing.append(var)\n",
    "\n",
    "if missing:\n",
    "    raise EnvironmentError(f'These environment variables are missing: {missing}')\n",
    "\n",
    "if 'ZAPIER_NLA_API_KEY' not in os.environ:\n",
    "    print(\"This demo will be unable to send emails.\")\n",
    "else:\n",
    "    if 'EMAIL_RECIPIENT' not in os.environ:\n",
    "        print(\"The demo.ipynb notebook will not be able to send email without modification.\")"
   ]
  },
  {
   "cell_type": "markdown",
   "metadata": {},
   "source": [
    "## Verify OpenAI API Key"
   ]
  },
  {
   "cell_type": "code",
   "execution_count": 3,
   "metadata": {},
   "outputs": [],
   "source": [
    "import os\n",
    "import openai\n",
    "openai.api_key = os.environ['OPENAI_API_KEY']\n",
    "models = openai.Model.list()\n",
    "if (len(models) == 0):\n",
    "    raise Exception(\"Your OpenAI API key does not appear to be valid. Please check it and try again.\")"
   ]
  },
  {
   "cell_type": "markdown",
   "metadata": {},
   "source": [
    "## Verify Astra Database Connection"
   ]
  },
  {
   "cell_type": "code",
   "execution_count": 4,
   "metadata": {},
   "outputs": [
    {
     "name": "stdout",
     "output_type": "stream",
     "text": [
      "Successfully connected to the cluster.\n",
      "Keyspace 'vsearch' exists.\n"
     ]
    }
   ],
   "source": [
    "from cassandra.cluster import Cluster\n",
    "from cassandra.cluster import NoHostAvailable\n",
    "from cassandra.auth import PlainTextAuthProvider\n",
    "from CONSTANTS import keyspace_name\n",
    "\n",
    "cloud_config = {'secure_connect_bundle': os.environ['ASTRA_SECUREBUNDLE_PATH']}\n",
    "auth_provider = PlainTextAuthProvider(os.environ['ASTRA_CLIENT_ID'], os.environ['ASTRA_CLIENT_SECRET'])\n",
    "cluster = Cluster(cloud=cloud_config\n",
    "                  ,auth_provider=auth_provider\n",
    ")\n",
    "\n",
    "try:\n",
    "    session = cluster.connect()\n",
    "    print(\"Successfully connected to the cluster.\")\n",
    "\n",
    "    rows = session.execute(f\"SELECT keyspace_name FROM system_schema.keyspaces WHERE keyspace_name = '{keyspace_name}';\")\n",
    "    if rows.one() is not None:\n",
    "        print(f\"Keyspace '{keyspace_name}' exists.\")\n",
    "    else:\n",
    "        raise EnvironmentError(f\"Keyspace '{keyspace_name}' does not exist.\")\n",
    " \n",
    "    session.shutdown()\n",
    "except NoHostAvailable as e:\n",
    "    print(\"Connection failed, please check your node IPs or the network connection.\")\n",
    "    print(f\"Exception: {e}\")"
   ]
  },
  {
   "cell_type": "markdown",
   "metadata": {},
   "source": [
    "## Verifying Zapier Integration\n",
    "\n",
    "We will forgo this, as there is not a simple way to verify. If sending an email does not work, you may have a setup problem!"
   ]
  },
  {
   "cell_type": "markdown",
   "metadata": {},
   "source": [
    "# Load Embeddings to Astra"
   ]
  },
  {
   "cell_type": "markdown",
   "metadata": {},
   "source": [
    "The embedddings `.parquet` file is loaded into Astra. The filename format is based on values in `CONSTANTS.py`\n",
    "\n",
    "```\n",
    "embed_file = f\"{example_asin}.reviews-embeddings-{embed_model}.parquet.gz\"\n",
    "```"
   ]
  },
  {
   "cell_type": "code",
   "execution_count": 9,
   "metadata": {},
   "outputs": [
    {
     "data": {
      "application/vnd.jupyter.widget-view+json": {
       "model_id": "5ee73fceed6f4b8a90d9383f88d50852",
       "version_major": 2,
       "version_minor": 0
      },
      "text/plain": [
       "Thread Initialization:   0%|          | 0/25 [00:00<?, ?it/s]"
      ]
     },
     "metadata": {},
     "output_type": "display_data"
    },
    {
     "data": {
      "application/vnd.jupyter.widget-view+json": {
       "model_id": "6b7b969d34024a3591658e1da1f7d144",
       "version_major": 2,
       "version_minor": 0
      },
      "text/plain": [
       "Record Loading Progress:   0%|          | 0/11110 [00:00<?, ?it/s]"
      ]
     },
     "metadata": {},
     "output_type": "display_data"
    },
    {
     "name": "stdout",
     "output_type": "stream",
     "text": [
      "Total rows processed: 11110\n",
      "Retries: 0\n",
      "Error rows: 0\n"
     ]
    }
   ],
   "source": [
    "%run -i loadAstra.py"
   ]
  },
  {
   "cell_type": "markdown",
   "metadata": {},
   "source": [
    "And validate there is some data loaded:"
   ]
  },
  {
   "cell_type": "code",
   "execution_count": 10,
   "metadata": {},
   "outputs": [
    {
     "name": "stdout",
     "output_type": "stream",
     "text": [
      "reviewer_name: left272, truncated_review_text: I read other reviews on this light and brought two of them. The light is bright and the size fits in shirt pocket just like an ink pen. I use mine to trace conduit and pipes in 10 to 16 foot ceiling with amazement. I do wish it had an adjustable beam but still a super light. Coworkers are also impressed with the light and then again when I tell them the price.\n",
      "reviewer_name: Momraj, truncated_review_text: I bought this for my husband and he LOVES it!!!  It's so handy that we ordered 2 more soon after receiving the first one!  It's very bright and is easy to keep in a pocket or purse.\n",
      "reviewer_name: tbettenbrock, truncated_review_text: Great pen light, very bright.  Takes 2 AAA batteries, which we always have on hand, no running out for specialty button batteries.\n",
      "reviewer_name: Tammer Ghaly, truncated_review_text: not much to say about this, other than the fact that it's really bright. it does have a click-on feature, but it's pretty tough to get it the first time. just push hard and you'll see how much force you need to use.\n",
      "reviewer_name: paul d murrill, truncated_review_text: Its real bright\n"
     ]
    }
   ],
   "source": [
    "from CONSTANTS import keyspace_name, table_name, example_asin\n",
    "session = cluster.connect()\n",
    "\n",
    "rows = session.execute(f\"SELECT reviewer_name, truncated_review_text FROM {keyspace_name}.{table_name} WHERE asin = '{example_asin}' LIMIT 5;\")\n",
    "for row in rows:\n",
    "    print(f\"reviewer_name: {row.reviewer_name}, truncated_review_text: {row.truncated_review_text}\")\n",
    "\n",
    "session.shutdown()"
   ]
  }
 ],
 "metadata": {
  "kernelspec": {
   "display_name": ".venv",
   "language": "python",
   "name": "python3"
  },
  "language_info": {
   "codemirror_mode": {
    "name": "ipython",
    "version": 3
   },
   "file_extension": ".py",
   "mimetype": "text/x-python",
   "name": "python",
   "nbconvert_exporter": "python",
   "pygments_lexer": "ipython3",
   "version": "3.11.4"
  },
  "orig_nbformat": 4
 },
 "nbformat": 4,
 "nbformat_minor": 2
}
